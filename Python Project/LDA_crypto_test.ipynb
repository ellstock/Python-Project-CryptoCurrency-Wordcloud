{
 "cells": [
  {
   "cell_type": "code",
   "execution_count": 1,
   "metadata": {
    "scrolled": true
   },
   "outputs": [],
   "source": [
    "import pandas as pd\n",
    "pd.set_option(\"display.max_colwidth\", 40)\n",
    "import numpy as np\n",
    "import re\n",
    "import spacy\n",
    "import nltk\n",
    "from nltk import FreqDist\n",
    "import gensim\n",
    "from gensim import corpora\n",
    "\n",
    "# libraries for visualization\n",
    "import pyLDAvis\n",
    "import pyLDAvis.gensim\n",
    "import matplotlib.pyplot as plt\n",
    "import seaborn as sns\n",
    "\n",
    "\n",
    "%matplotlib inline"
   ]
  },
  {
   "cell_type": "markdown",
   "metadata": {},
   "source": [
    "## Load  Data"
   ]
  },
  {
   "cell_type": "code",
   "execution_count": 3,
   "metadata": {},
   "outputs": [],
   "source": [
    "data = pd.read_csv(\"cryptodata_test_lemmatized\", sep=\",\", index_col=0)"
   ]
  },
  {
   "cell_type": "code",
   "execution_count": 5,
   "metadata": {
    "scrolled": true
   },
   "outputs": [
    {
     "data": {
      "text/plain": [
       "(500, 6)"
      ]
     },
     "execution_count": 5,
     "metadata": {},
     "output_type": "execute_result"
    }
   ],
   "source": [
    "data.shape"
   ]
  },
  {
   "cell_type": "code",
   "execution_count": 6,
   "metadata": {},
   "outputs": [
    {
     "data": {
      "text/html": [
       "<div>\n",
       "<style scoped>\n",
       "    .dataframe tbody tr th:only-of-type {\n",
       "        vertical-align: middle;\n",
       "    }\n",
       "\n",
       "    .dataframe tbody tr th {\n",
       "        vertical-align: top;\n",
       "    }\n",
       "\n",
       "    .dataframe thead th {\n",
       "        text-align: right;\n",
       "    }\n",
       "</style>\n",
       "<table border=\"1\" class=\"dataframe\">\n",
       "  <thead>\n",
       "    <tr style=\"text-align: right;\">\n",
       "      <th></th>\n",
       "      <th>body</th>\n",
       "      <th>stopword_reviews</th>\n",
       "      <th>body_as_str</th>\n",
       "      <th>tokens</th>\n",
       "      <th>review_lemmatized</th>\n",
       "      <th>body_lemmatized</th>\n",
       "    </tr>\n",
       "    <tr>\n",
       "      <th>time</th>\n",
       "      <th></th>\n",
       "      <th></th>\n",
       "      <th></th>\n",
       "      <th></th>\n",
       "      <th></th>\n",
       "      <th></th>\n",
       "    </tr>\n",
       "  </thead>\n",
       "  <tbody>\n",
       "    <tr>\n",
       "      <th>1543622368</th>\n",
       "      <td>CoinSpeakerProBit: Professional Digi...</td>\n",
       "      <td>['coinspeakerprobit', 'professional'...</td>\n",
       "      <td>CoinSpeakerProBit: Professional Digi...</td>\n",
       "      <td>['coinspeakerprobit', 'professional'...</td>\n",
       "      <td>['coinspeakerprob', 'professional', ...</td>\n",
       "      <td>['coinspeakerprob', 'professional', ...</td>\n",
       "    </tr>\n",
       "    <tr>\n",
       "      <th>1543620634</th>\n",
       "      <td>Today in crypto heard rumors of Sato...</td>\n",
       "      <td>['today', 'crypto', 'heard', 'rumors...</td>\n",
       "      <td>Today in crypto heard rumors of Sato...</td>\n",
       "      <td>['today', 'crypto', 'heard', 'rumors...</td>\n",
       "      <td>['today', 'crypto', 'heard', 'rumor'...</td>\n",
       "      <td>['today', 'crypto', 'heard', 'rumor'...</td>\n",
       "    </tr>\n",
       "    <tr>\n",
       "      <th>1543620300</th>\n",
       "      <td>Crashes in the crypto market resulte...</td>\n",
       "      <td>['crashes', 'crypto', 'market', 'res...</td>\n",
       "      <td>Crashes in the crypto market resulte...</td>\n",
       "      <td>['crashes', 'the', 'crypto', 'market...</td>\n",
       "      <td>['crash', 'the', 'crypto', 'market',...</td>\n",
       "      <td>['crash', 'the', 'crypto', 'market',...</td>\n",
       "    </tr>\n",
       "    <tr>\n",
       "      <th>1543620202</th>\n",
       "      <td>SEC Chairman Jay Clayton has claimed...</td>\n",
       "      <td>['sec', 'chairman', 'jay', 'clayton'...</td>\n",
       "      <td>SEC Chairman Jay Clayton has claimed...</td>\n",
       "      <td>['sec', 'chairman', 'jay', 'clayton'...</td>\n",
       "      <td>['sec', 'chairman', 'jay', 'clayton'...</td>\n",
       "      <td>['sec', 'chairman', 'jay', 'clayton'...</td>\n",
       "    </tr>\n",
       "    <tr>\n",
       "      <th>1543618813</th>\n",
       "      <td>There are four different Ethereum wo...</td>\n",
       "      <td>['four', 'different', 'ethereum', 'w...</td>\n",
       "      <td>There are four different Ethereum wo...</td>\n",
       "      <td>['there', 'are', 'four', 'different'...</td>\n",
       "      <td>['ther', 'are', 'four', 'different',...</td>\n",
       "      <td>['ther', 'are', 'four', 'different',...</td>\n",
       "    </tr>\n",
       "  </tbody>\n",
       "</table>\n",
       "</div>"
      ],
      "text/plain": [
       "                                               body  \\\n",
       "time                                                  \n",
       "1543622368  CoinSpeakerProBit: Professional Digi...   \n",
       "1543620634  Today in crypto heard rumors of Sato...   \n",
       "1543620300  Crashes in the crypto market resulte...   \n",
       "1543620202  SEC Chairman Jay Clayton has claimed...   \n",
       "1543618813  There are four different Ethereum wo...   \n",
       "\n",
       "                                   stopword_reviews  \\\n",
       "time                                                  \n",
       "1543622368  ['coinspeakerprobit', 'professional'...   \n",
       "1543620634  ['today', 'crypto', 'heard', 'rumors...   \n",
       "1543620300  ['crashes', 'crypto', 'market', 'res...   \n",
       "1543620202  ['sec', 'chairman', 'jay', 'clayton'...   \n",
       "1543618813  ['four', 'different', 'ethereum', 'w...   \n",
       "\n",
       "                                        body_as_str  \\\n",
       "time                                                  \n",
       "1543622368  CoinSpeakerProBit: Professional Digi...   \n",
       "1543620634  Today in crypto heard rumors of Sato...   \n",
       "1543620300  Crashes in the crypto market resulte...   \n",
       "1543620202  SEC Chairman Jay Clayton has claimed...   \n",
       "1543618813  There are four different Ethereum wo...   \n",
       "\n",
       "                                             tokens  \\\n",
       "time                                                  \n",
       "1543622368  ['coinspeakerprobit', 'professional'...   \n",
       "1543620634  ['today', 'crypto', 'heard', 'rumors...   \n",
       "1543620300  ['crashes', 'the', 'crypto', 'market...   \n",
       "1543620202  ['sec', 'chairman', 'jay', 'clayton'...   \n",
       "1543618813  ['there', 'are', 'four', 'different'...   \n",
       "\n",
       "                                  review_lemmatized  \\\n",
       "time                                                  \n",
       "1543622368  ['coinspeakerprob', 'professional', ...   \n",
       "1543620634  ['today', 'crypto', 'heard', 'rumor'...   \n",
       "1543620300  ['crash', 'the', 'crypto', 'market',...   \n",
       "1543620202  ['sec', 'chairman', 'jay', 'clayton'...   \n",
       "1543618813  ['ther', 'are', 'four', 'different',...   \n",
       "\n",
       "                                    body_lemmatized  \n",
       "time                                                 \n",
       "1543622368  ['coinspeakerprob', 'professional', ...  \n",
       "1543620634  ['today', 'crypto', 'heard', 'rumor'...  \n",
       "1543620300  ['crash', 'the', 'crypto', 'market',...  \n",
       "1543620202  ['sec', 'chairman', 'jay', 'clayton'...  \n",
       "1543618813  ['ther', 'are', 'four', 'different',...  "
      ]
     },
     "execution_count": 6,
     "metadata": {},
     "output_type": "execute_result"
    }
   ],
   "source": [
    "data.head()"
   ]
  },
  {
   "cell_type": "code",
   "execution_count": 7,
   "metadata": {},
   "outputs": [],
   "source": [
    "#the lemmantized_reviews are interpreted as a string by the read_csv command. We convert it into a list. \n",
    "data['stopword_reviews'] = data['stopword_reviews'].str.replace(r\"[\\[\\]\\']\", \"\").str.split(\", \")"
   ]
  },
  {
   "cell_type": "code",
   "execution_count": 8,
   "metadata": {},
   "outputs": [
    {
     "data": {
      "text/plain": [
       "time\n",
       "1543622368    [coinspeakerprobit, professional, di...\n",
       "1543620634    [today, crypto, heard, rumors, satos...\n",
       "1543620300    [crashes, crypto, market, resulted, ...\n",
       "1543620202    [sec, chairman, jay, clayton, claime...\n",
       "1543618813    [four, different, ethereum, working,...\n",
       "1543617903    [nov, 29, sirin, labs, announced, co...\n",
       "1543616700    [switzerlands, oldest, university, u...\n",
       "1543616305    [newer, hbus, cryptocurrency, exchan...\n",
       "1543616240    [met, u, securities, exchange, commi...\n",
       "1543615852    [latest, ethereum, 1x, meeting, cond...\n",
       "1543615242    [chinese, cryptocurrency, mining, ha...\n",
       "1543615229    [blockchain, phones, therage, right,...\n",
       "1543614900    [check, point, research, cybersecuri...\n",
       "1543613835    [belarus, following, model, set, for...\n",
       "1543612078    [casual, gamers, unite, stay, thats,...\n",
       "1543611643    [new, report, coinshares, bitcoin, m...\n",
       "1543611641    [one, co, founders, second, largest,...\n",
       "1543611625    [co, founder, ethereum, vitalik, but...\n",
       "1543611600    [2017, early, 2018, many, companies,...\n",
       "1543610632    [bitcoin, failed, attempt, currency,...\n",
       "1543610155    [since, recent, bitcoin, cash, bch, ...\n",
       "1543609200    [taiwanese, tech, giant, asus, allow...\n",
       "1543608273    [new, game, fund, tron, arcade, prov...\n",
       "1543608037    [boxing, champion, floyd, mayweather...\n",
       "1543608028    [bitcoin, &, 8217, ;, terrible, pric...\n",
       "1543607738    [ceo, blockchain, startup, arisebank...\n",
       "1543607728    [bitcoin, far, critical, loss, inves...\n",
       "1543607700    [fed, trawl, several, pages, exchang...\n",
       "1543606977    [legal, drama, partners, spoiled, un...\n",
       "1543606800    [u, sec, published, memorandum, late...\n",
       "                               ...                   \n",
       "1543429810    [first, time, ever, u, treasury, dep...\n",
       "1543428900    [prolific, hedge, fund, manager, mik...\n",
       "1543428675    [blockchain, disrupt, traditional, b...\n",
       "1543428600    [u, department, treasury, sanctioned...\n",
       "1543428050    [coinspeakerbitstamp, goes, tech, up...\n",
       "1543428008    [germany, got, second, bitcoin, atm,...\n",
       "1543427757    [sapphire, technology, one, largest,...\n",
       "1543427705    [&, 160, ;, paid, submitted, press, ...\n",
       "1543426982    [submitted, sponsored, story, &, 160...\n",
       "1543426831    [storebrand, leading, norwegian, fin...\n",
       "1543425929    [time, holidays, u, k, startup, laun...\n",
       "1543425036    [forced, lay, 70, %, organization, b...\n",
       "1543424555    [coinspeakertop, korean, enterprises...\n",
       "1543424446    [27, year, old, american, woman, ple...\n",
       "1543424426    [cryptocurrency, related, scams, com...\n",
       "1543423915    [coinspeakercoinadvice, conference, ...\n",
       "1543423828    [us, district, judge, gonzalo, curie...\n",
       "1543423742    [cryptocurrency, markets, experienci...\n",
       "1543423230    [coinspeakerfinance, expo, exclusive...\n",
       "1543423189    [markets, undergoing, recovery, past...\n",
       "1543422662    [coinspeakercybet, worlds, first, de...\n",
       "1543422603    [falling, $, 4, 000, mark, first, ti...\n",
       "1543422576    [securities, exchange, operator, nas...\n",
       "1543421145    [relentless, incursion, cryptocurren...\n",
       "1543421100    [coinbase, launched, counter, tradin...\n",
       "1543420943    [new, broker, dealer, end, user, ori...\n",
       "1543420851    [tapatalk, mobile, forum, applicatio...\n",
       "1543420803    [sec, indecision, led, companies, in...\n",
       "1543420803    [chairman, u, securities, exchange, ...\n",
       "1543420552    [knomad, global, knowledge, partners...\n",
       "Name: stopword_reviews, Length: 500, dtype: object"
      ]
     },
     "execution_count": 8,
     "metadata": {},
     "output_type": "execute_result"
    }
   ],
   "source": [
    "data['stopword_reviews'] #checking if it's a list"
   ]
  },
  {
   "cell_type": "code",
   "execution_count": 9,
   "metadata": {},
   "outputs": [],
   "source": [
    "data.dropna(subset=['stopword_reviews'], inplace=True)"
   ]
  },
  {
   "cell_type": "code",
   "execution_count": 10,
   "metadata": {
    "scrolled": true
   },
   "outputs": [
    {
     "data": {
      "text/plain": [
       "(500, 6)"
      ]
     },
     "execution_count": 10,
     "metadata": {},
     "output_type": "execute_result"
    }
   ],
   "source": [
    "data.shape"
   ]
  },
  {
   "cell_type": "markdown",
   "metadata": {},
   "source": [
    "## Remove words"
   ]
  },
  {
   "cell_type": "code",
   "execution_count": 11,
   "metadata": {},
   "outputs": [
    {
     "name": "stderr",
     "output_type": "stream",
     "text": [
      "[nltk_data] Downloading package stopwords to /home/elliot/nltk_data...\n",
      "[nltk_data]   Package stopwords is already up-to-date!\n"
     ]
    },
    {
     "data": {
      "text/plain": [
       "True"
      ]
     },
     "execution_count": 11,
     "metadata": {},
     "output_type": "execute_result"
    }
   ],
   "source": [
    "import nltk\n",
    "nltk.download(\"stopwords\")"
   ]
  },
  {
   "cell_type": "code",
   "execution_count": 12,
   "metadata": {
    "scrolled": true
   },
   "outputs": [
    {
     "ename": "SyntaxError",
     "evalue": "Missing parentheses in call to 'print'. Did you mean print(lang)? (__init__.py, line 84)",
     "output_type": "error",
     "traceback": [
      "Traceback \u001b[0;36m(most recent call last)\u001b[0m:\n",
      "  File \u001b[1;32m\"/home/elliot/.local/lib/python3.6/site-packages/IPython/core/interactiveshell.py\"\u001b[0m, line \u001b[1;32m3267\u001b[0m, in \u001b[1;35mrun_code\u001b[0m\n    exec(code_obj, self.user_global_ns, self.user_ns)\n",
      "\u001b[0;36m  File \u001b[0;32m\"<ipython-input-12-cc8ad7cccac1>\"\u001b[0;36m, line \u001b[0;32m1\u001b[0;36m, in \u001b[0;35m<module>\u001b[0;36m\u001b[0m\n\u001b[0;31m    import stopwords\u001b[0m\n",
      "\u001b[0;36m  File \u001b[0;32m\"/home/elliot/.local/lib/python3.6/site-packages/stopwords/__init__.py\"\u001b[0;36m, line \u001b[0;32m84\u001b[0m\n\u001b[0;31m    print lang\u001b[0m\n\u001b[0m             ^\u001b[0m\n\u001b[0;31mSyntaxError\u001b[0m\u001b[0;31m:\u001b[0m Missing parentheses in call to 'print'. Did you mean print(lang)?\n"
     ]
    }
   ],
   "source": [
    "import stopwords "
   ]
  },
  {
   "cell_type": "code",
   "execution_count": 13,
   "metadata": {},
   "outputs": [],
   "source": [
    "# We list the words we want to get rid of\"\n",
    "# list_stop_words = [\"i\",\"me\",\"my\",\"myself\",\"we\",\"our\",\"ours\",\"ourselves\",\"you\",\"your\",\"yours\",\"yourself\",\"yourselves\",\"he\",\"him\",\"his\",\"himself\",\"she\",\"her\",\"hers\",\"herself\",\"it\",\"its\",\"itself\",\"they\",\"them\",\"their\",\"theirs\",\"themselves\",\"what\",\"which\",\"who\",\"whom\",\"this\",\"that\",\"these\",\"those\",\"am\",\"is\",\"are\",\"was\",\"were\",\"be\",\"been\",\"being\",\"have\",\"has\",\"had\",\"having\",\"do\",\"does\",\"did\",\"doing\",\"a\",\"an\",\"the\",\"and\",\"but\",\"if\",\"or\",\"because\",\"as\",\"until\",\"while\",\"of\",\"at\",\"by\",\"for\",\"with\",\"about\",\"against\",\"between\",\"into\",\"through\",\"during\",\"before\",\"after\",\"above\",\"below\",\"to\",\"from\",\"up\",\"down\",\"in\",\"out\",\"on\",\"off\",\"over\",\"under\",\"again\",\"further\",\"then\",\"once\",\"here\",\"there\",\"when\",\"where\",\"why\",\"how\",\"all\",\"any\",\"both\",\"each\",\"few\",\"more\",\"most\",\"other\",\"some\",\"such\",\"no\",\"nor\",\"not\",\"only\",\"own\",\"same\",\"so\",\"than\",\"too\",\"very\",\"s\",\"t\",\"can\",\"will\",\"just\",\"don\",\"should\",\"now\"]\n",
    "list_stop_words = [\"&\", \";\", \"2\", \"get\",\"de\", \"got\", \"went\",\"much\",\"well\",\"day\",\"stay\",\"even\",\"could\",\"area\",\"also\",\"uk\",\"us\",\"one\",\"center\",\"really\",\"would\",\"4\",\"great\",\"good\",\"cottage\",\"parc\",\"parcs\",\"park\",\"parks\"]"
   ]
  },
  {
   "cell_type": "code",
   "execution_count": 14,
   "metadata": {},
   "outputs": [],
   "source": [
    "def remove_stop_word(x, list_stop_words=list_stop_words):\n",
    "    clean_x = [l for l in x if l not in list_stop_words]\n",
    "    return clean_x"
   ]
  },
  {
   "cell_type": "code",
   "execution_count": 15,
   "metadata": {},
   "outputs": [],
   "source": [
    "data['stopword_reviews'] = data['stopword_reviews'].apply(remove_stop_word)"
   ]
  },
  {
   "cell_type": "code",
   "execution_count": 16,
   "metadata": {},
   "outputs": [
    {
     "data": {
      "text/html": [
       "<div>\n",
       "<style scoped>\n",
       "    .dataframe tbody tr th:only-of-type {\n",
       "        vertical-align: middle;\n",
       "    }\n",
       "\n",
       "    .dataframe tbody tr th {\n",
       "        vertical-align: top;\n",
       "    }\n",
       "\n",
       "    .dataframe thead th {\n",
       "        text-align: right;\n",
       "    }\n",
       "</style>\n",
       "<table border=\"1\" class=\"dataframe\">\n",
       "  <thead>\n",
       "    <tr style=\"text-align: right;\">\n",
       "      <th></th>\n",
       "      <th>body</th>\n",
       "      <th>stopword_reviews</th>\n",
       "      <th>body_as_str</th>\n",
       "      <th>tokens</th>\n",
       "      <th>review_lemmatized</th>\n",
       "      <th>body_lemmatized</th>\n",
       "    </tr>\n",
       "    <tr>\n",
       "      <th>time</th>\n",
       "      <th></th>\n",
       "      <th></th>\n",
       "      <th></th>\n",
       "      <th></th>\n",
       "      <th></th>\n",
       "      <th></th>\n",
       "    </tr>\n",
       "  </thead>\n",
       "  <tbody>\n",
       "    <tr>\n",
       "      <th>1543622368</th>\n",
       "      <td>CoinSpeakerProBit: Professional Digi...</td>\n",
       "      <td>[coinspeakerprobit, professional, di...</td>\n",
       "      <td>CoinSpeakerProBit: Professional Digi...</td>\n",
       "      <td>['coinspeakerprobit', 'professional'...</td>\n",
       "      <td>['coinspeakerprob', 'professional', ...</td>\n",
       "      <td>['coinspeakerprob', 'professional', ...</td>\n",
       "    </tr>\n",
       "    <tr>\n",
       "      <th>1543620634</th>\n",
       "      <td>Today in crypto heard rumors of Sato...</td>\n",
       "      <td>[today, crypto, heard, rumors, satos...</td>\n",
       "      <td>Today in crypto heard rumors of Sato...</td>\n",
       "      <td>['today', 'crypto', 'heard', 'rumors...</td>\n",
       "      <td>['today', 'crypto', 'heard', 'rumor'...</td>\n",
       "      <td>['today', 'crypto', 'heard', 'rumor'...</td>\n",
       "    </tr>\n",
       "    <tr>\n",
       "      <th>1543620300</th>\n",
       "      <td>Crashes in the crypto market resulte...</td>\n",
       "      <td>[crashes, crypto, market, resulted, ...</td>\n",
       "      <td>Crashes in the crypto market resulte...</td>\n",
       "      <td>['crashes', 'the', 'crypto', 'market...</td>\n",
       "      <td>['crash', 'the', 'crypto', 'market',...</td>\n",
       "      <td>['crash', 'the', 'crypto', 'market',...</td>\n",
       "    </tr>\n",
       "    <tr>\n",
       "      <th>1543620202</th>\n",
       "      <td>SEC Chairman Jay Clayton has claimed...</td>\n",
       "      <td>[sec, chairman, jay, clayton, claime...</td>\n",
       "      <td>SEC Chairman Jay Clayton has claimed...</td>\n",
       "      <td>['sec', 'chairman', 'jay', 'clayton'...</td>\n",
       "      <td>['sec', 'chairman', 'jay', 'clayton'...</td>\n",
       "      <td>['sec', 'chairman', 'jay', 'clayton'...</td>\n",
       "    </tr>\n",
       "    <tr>\n",
       "      <th>1543618813</th>\n",
       "      <td>There are four different Ethereum wo...</td>\n",
       "      <td>[four, different, ethereum, working,...</td>\n",
       "      <td>There are four different Ethereum wo...</td>\n",
       "      <td>['there', 'are', 'four', 'different'...</td>\n",
       "      <td>['ther', 'are', 'four', 'different',...</td>\n",
       "      <td>['ther', 'are', 'four', 'different',...</td>\n",
       "    </tr>\n",
       "  </tbody>\n",
       "</table>\n",
       "</div>"
      ],
      "text/plain": [
       "                                               body  \\\n",
       "time                                                  \n",
       "1543622368  CoinSpeakerProBit: Professional Digi...   \n",
       "1543620634  Today in crypto heard rumors of Sato...   \n",
       "1543620300  Crashes in the crypto market resulte...   \n",
       "1543620202  SEC Chairman Jay Clayton has claimed...   \n",
       "1543618813  There are four different Ethereum wo...   \n",
       "\n",
       "                                   stopword_reviews  \\\n",
       "time                                                  \n",
       "1543622368  [coinspeakerprobit, professional, di...   \n",
       "1543620634  [today, crypto, heard, rumors, satos...   \n",
       "1543620300  [crashes, crypto, market, resulted, ...   \n",
       "1543620202  [sec, chairman, jay, clayton, claime...   \n",
       "1543618813  [four, different, ethereum, working,...   \n",
       "\n",
       "                                        body_as_str  \\\n",
       "time                                                  \n",
       "1543622368  CoinSpeakerProBit: Professional Digi...   \n",
       "1543620634  Today in crypto heard rumors of Sato...   \n",
       "1543620300  Crashes in the crypto market resulte...   \n",
       "1543620202  SEC Chairman Jay Clayton has claimed...   \n",
       "1543618813  There are four different Ethereum wo...   \n",
       "\n",
       "                                             tokens  \\\n",
       "time                                                  \n",
       "1543622368  ['coinspeakerprobit', 'professional'...   \n",
       "1543620634  ['today', 'crypto', 'heard', 'rumors...   \n",
       "1543620300  ['crashes', 'the', 'crypto', 'market...   \n",
       "1543620202  ['sec', 'chairman', 'jay', 'clayton'...   \n",
       "1543618813  ['there', 'are', 'four', 'different'...   \n",
       "\n",
       "                                  review_lemmatized  \\\n",
       "time                                                  \n",
       "1543622368  ['coinspeakerprob', 'professional', ...   \n",
       "1543620634  ['today', 'crypto', 'heard', 'rumor'...   \n",
       "1543620300  ['crash', 'the', 'crypto', 'market',...   \n",
       "1543620202  ['sec', 'chairman', 'jay', 'clayton'...   \n",
       "1543618813  ['ther', 'are', 'four', 'different',...   \n",
       "\n",
       "                                    body_lemmatized  \n",
       "time                                                 \n",
       "1543622368  ['coinspeakerprob', 'professional', ...  \n",
       "1543620634  ['today', 'crypto', 'heard', 'rumor'...  \n",
       "1543620300  ['crash', 'the', 'crypto', 'market',...  \n",
       "1543620202  ['sec', 'chairman', 'jay', 'clayton'...  \n",
       "1543618813  ['ther', 'are', 'four', 'different',...  "
      ]
     },
     "execution_count": 16,
     "metadata": {},
     "output_type": "execute_result"
    }
   ],
   "source": [
    "data.head()"
   ]
  },
  {
   "cell_type": "code",
   "execution_count": 17,
   "metadata": {},
   "outputs": [
    {
     "data": {
      "text/plain": [
       "(500, 6)"
      ]
     },
     "execution_count": 17,
     "metadata": {},
     "output_type": "execute_result"
    }
   ],
   "source": [
    "data.shape"
   ]
  },
  {
   "cell_type": "markdown",
   "metadata": {},
   "source": [
    "## Building an LDA model"
   ]
  },
  {
   "cell_type": "code",
   "execution_count": 18,
   "metadata": {},
   "outputs": [],
   "source": [
    "dictionary = corpora.Dictionary(data['stopword_reviews'])"
   ]
  },
  {
   "cell_type": "code",
   "execution_count": 19,
   "metadata": {},
   "outputs": [
    {
     "data": {
      "text/plain": [
       "4669"
      ]
     },
     "execution_count": 19,
     "metadata": {},
     "output_type": "execute_result"
    }
   ],
   "source": [
    "len(dictionary)"
   ]
  },
  {
   "cell_type": "code",
   "execution_count": 20,
   "metadata": {},
   "outputs": [],
   "source": [
    "doc_term_matrix = [dictionary.doc2bow(rev) for rev in data['stopword_reviews']]"
   ]
  },
  {
   "cell_type": "code",
   "execution_count": 23,
   "metadata": {},
   "outputs": [],
   "source": [
    "import warnings\n",
    "warnings.filterwarnings('ignore')\n",
    "\n",
    "# Creating the object for LDA model using gensim library\n",
    "LDA = gensim.models.ldamodel.LdaModel\n",
    "\n",
    "# Build LDA model\n",
    "num_topics = 4\n",
    "lda_model = LDA(corpus=doc_term_matrix, id2word=dictionary, \n",
    "                num_topics=num_topics, \n",
    "                alpha=[0.0001] * num_topics, \n",
    "                eta=[0.0001] * len(dictionary),\n",
    "                chunksize=2000,\n",
    "                passes=4,\n",
    "                random_state=100,\n",
    "               )"
   ]
  },
  {
   "cell_type": "code",
   "execution_count": 24,
   "metadata": {
    "scrolled": true
   },
   "outputs": [
    {
     "data": {
      "text/plain": [
       "[(0,\n",
       "  '0.020*\"first\" + 0.017*\"post\" + 0.016*\"appeared\" + 0.013*\"bitcoin\" + 0.012*\"cryptocurrency\"'),\n",
       " (1,\n",
       "  '0.032*\"bitcoin\" + 0.020*\"\" + 0.014*\"first\" + 0.013*\"crypto\" + 0.013*\"market\"'),\n",
       " (2,\n",
       "  '0.017*\"first\" + 0.015*\"blockchain\" + 0.015*\"\" + 0.014*\"bitcoin\" + 0.013*\"appeared\"'),\n",
       " (3,\n",
       "  '0.038*\"$\" + 0.018*\"price\" + 0.017*\"bitcoin\" + 0.015*\"first\" + 0.014*\"crypto\"')]"
      ]
     },
     "execution_count": 24,
     "metadata": {},
     "output_type": "execute_result"
    }
   ],
   "source": [
    "lda_model.print_topics(num_words=5)"
   ]
  },
  {
   "cell_type": "markdown",
   "metadata": {},
   "source": [
    "## Topic visualization"
   ]
  },
  {
   "cell_type": "code",
   "execution_count": 25,
   "metadata": {},
   "outputs": [],
   "source": [
    "# Visualize the topics\n",
    "pd.options.display.max_colwidth = 2000\n",
    "viz = pyLDAvis.gensim.prepare(lda_model, doc_term_matrix, dictionary, mds='tsne')"
   ]
  },
  {
   "cell_type": "code",
   "execution_count": 26,
   "metadata": {},
   "outputs": [
    {
     "data": {
      "text/html": [
       "\n",
       "<link rel=\"stylesheet\" type=\"text/css\" href=\"https://cdn.rawgit.com/bmabey/pyLDAvis/files/ldavis.v1.0.0.css\">\n",
       "\n",
       "\n",
       "<div id=\"ldavis_el47421405650644436085076307295\"></div>\n",
       "<script type=\"text/javascript\">\n",
       "\n",
       "var ldavis_el47421405650644436085076307295_data = {\"mdsDat\": {\"x\": [-324.2493896484375, -200.5491180419922, -42.603126525878906, 81.09687805175781], \"y\": [-289.19708251953125, -570.859375, -165.46029663085938, -447.12225341796875], \"topics\": [1, 2, 3, 4], \"cluster\": [1, 1, 1, 1], \"Freq\": [38.316200256347656, 26.021770477294922, 19.008968353271484, 16.653060913085938]}, \"tinfo\": {\"Category\": [\"Default\", \"Default\", \"Default\", \"Default\", \"Default\", \"Default\", \"Default\", \"Default\", \"Default\", \"Default\", \"Default\", \"Default\", \"Default\", \"Default\", \"Default\", \"Default\", \"Default\", \"Default\", \"Default\", \"Default\", \"Default\", \"Default\", \"Default\", \"Default\", \"Default\", \"Default\", \"Default\", \"Default\", \"Default\", \"Default\", \"Topic1\", \"Topic1\", \"Topic1\", \"Topic1\", \"Topic1\", \"Topic1\", \"Topic1\", \"Topic1\", \"Topic1\", \"Topic1\", \"Topic1\", \"Topic1\", \"Topic1\", \"Topic1\", \"Topic1\", \"Topic1\", \"Topic1\", \"Topic1\", \"Topic1\", \"Topic1\", \"Topic1\", \"Topic1\", \"Topic1\", \"Topic1\", \"Topic1\", \"Topic1\", \"Topic1\", \"Topic1\", \"Topic1\", \"Topic1\", \"Topic1\", \"Topic1\", \"Topic1\", \"Topic1\", \"Topic1\", \"Topic1\", \"Topic1\", \"Topic1\", \"Topic1\", \"Topic1\", \"Topic1\", \"Topic1\", \"Topic1\", \"Topic1\", \"Topic1\", \"Topic1\", \"Topic1\", \"Topic1\", \"Topic1\", \"Topic1\", \"Topic1\", \"Topic1\", \"Topic1\", \"Topic1\", \"Topic1\", \"Topic1\", \"Topic1\", \"Topic1\", \"Topic1\", \"Topic1\", \"Topic1\", \"Topic1\", \"Topic1\", \"Topic1\", \"Topic1\", \"Topic1\", \"Topic1\", \"Topic1\", \"Topic1\", \"Topic1\", \"Topic1\", \"Topic1\", \"Topic1\", \"Topic1\", \"Topic1\", \"Topic1\", \"Topic1\", \"Topic1\", \"Topic1\", \"Topic1\", \"Topic1\", \"Topic1\", \"Topic1\", \"Topic1\", \"Topic1\", \"Topic1\", \"Topic1\", \"Topic1\", \"Topic1\", \"Topic1\", \"Topic1\", \"Topic1\", \"Topic1\", \"Topic1\", \"Topic1\", \"Topic1\", \"Topic1\", \"Topic1\", \"Topic1\", \"Topic1\", \"Topic1\", \"Topic1\", \"Topic1\", \"Topic1\", \"Topic1\", \"Topic1\", \"Topic2\", \"Topic2\", \"Topic2\", \"Topic2\", \"Topic2\", \"Topic2\", \"Topic2\", \"Topic2\", \"Topic2\", \"Topic2\", \"Topic2\", \"Topic2\", \"Topic2\", \"Topic2\", \"Topic2\", \"Topic2\", \"Topic2\", \"Topic2\", \"Topic2\", \"Topic2\", \"Topic2\", \"Topic2\", \"Topic2\", \"Topic2\", \"Topic2\", \"Topic2\", \"Topic2\", \"Topic2\", \"Topic2\", \"Topic2\", \"Topic2\", \"Topic2\", \"Topic2\", \"Topic2\", \"Topic2\", \"Topic2\", \"Topic2\", \"Topic2\", \"Topic2\", \"Topic2\", \"Topic2\", \"Topic2\", \"Topic2\", \"Topic2\", \"Topic2\", \"Topic2\", \"Topic2\", \"Topic2\", \"Topic2\", \"Topic2\", \"Topic2\", \"Topic2\", \"Topic2\", \"Topic2\", \"Topic2\", \"Topic2\", \"Topic2\", \"Topic2\", \"Topic2\", \"Topic2\", \"Topic2\", \"Topic2\", \"Topic2\", \"Topic2\", \"Topic2\", \"Topic2\", \"Topic2\", \"Topic2\", \"Topic2\", \"Topic2\", \"Topic2\", \"Topic2\", \"Topic2\", \"Topic2\", \"Topic2\", \"Topic2\", \"Topic2\", \"Topic2\", \"Topic2\", \"Topic2\", \"Topic2\", \"Topic2\", \"Topic2\", \"Topic2\", \"Topic2\", \"Topic2\", \"Topic2\", \"Topic2\", \"Topic2\", \"Topic2\", \"Topic2\", \"Topic2\", \"Topic3\", \"Topic3\", \"Topic3\", \"Topic3\", \"Topic3\", \"Topic3\", \"Topic3\", \"Topic3\", \"Topic3\", \"Topic3\", \"Topic3\", \"Topic3\", \"Topic3\", \"Topic3\", \"Topic3\", \"Topic3\", \"Topic3\", \"Topic3\", \"Topic3\", \"Topic3\", \"Topic3\", \"Topic3\", \"Topic3\", \"Topic3\", \"Topic3\", \"Topic3\", \"Topic3\", \"Topic3\", \"Topic3\", \"Topic3\", \"Topic3\", \"Topic3\", \"Topic3\", \"Topic3\", \"Topic3\", \"Topic3\", \"Topic3\", \"Topic3\", \"Topic3\", \"Topic3\", \"Topic3\", \"Topic3\", \"Topic3\", \"Topic3\", \"Topic3\", \"Topic3\", \"Topic3\", \"Topic3\", \"Topic3\", \"Topic3\", \"Topic3\", \"Topic3\", \"Topic3\", \"Topic3\", \"Topic3\", \"Topic3\", \"Topic3\", \"Topic3\", \"Topic3\", \"Topic3\", \"Topic3\", \"Topic3\", \"Topic3\", \"Topic3\", \"Topic3\", \"Topic3\", \"Topic3\", \"Topic3\", \"Topic3\", \"Topic3\", \"Topic3\", \"Topic3\", \"Topic3\", \"Topic3\", \"Topic3\", \"Topic3\", \"Topic3\", \"Topic3\", \"Topic3\", \"Topic3\", \"Topic3\", \"Topic3\", \"Topic3\", \"Topic3\", \"Topic3\", \"Topic3\", \"Topic3\", \"Topic3\", \"Topic3\", \"Topic3\", \"Topic3\", \"Topic3\", \"Topic3\", \"Topic3\", \"Topic3\", \"Topic3\", \"Topic3\", \"Topic3\", \"Topic3\", \"Topic3\", \"Topic3\", \"Topic3\", \"Topic3\", \"Topic3\", \"Topic3\", \"Topic3\", \"Topic3\", \"Topic3\", \"Topic3\", \"Topic4\", \"Topic4\", \"Topic4\", \"Topic4\", \"Topic4\", \"Topic4\", \"Topic4\", \"Topic4\", \"Topic4\", \"Topic4\", \"Topic4\", \"Topic4\", \"Topic4\", \"Topic4\", \"Topic4\", \"Topic4\", \"Topic4\", \"Topic4\", \"Topic4\", \"Topic4\", \"Topic4\", \"Topic4\", \"Topic4\", \"Topic4\", \"Topic4\", \"Topic4\", \"Topic4\", \"Topic4\", \"Topic4\", \"Topic4\", \"Topic4\", \"Topic4\", \"Topic4\", \"Topic4\", \"Topic4\", \"Topic4\", \"Topic4\", \"Topic4\", \"Topic4\", \"Topic4\", \"Topic4\", \"Topic4\", \"Topic4\", \"Topic4\", \"Topic4\", \"Topic4\", \"Topic4\", \"Topic4\", \"Topic4\", \"Topic4\", \"Topic4\", \"Topic4\", \"Topic4\", \"Topic4\", \"Topic4\", \"Topic4\", \"Topic4\", \"Topic4\", \"Topic4\", \"Topic4\", \"Topic4\", \"Topic4\", \"Topic4\", \"Topic4\", \"Topic4\", \"Topic4\", \"Topic4\", \"Topic4\", \"Topic4\", \"Topic4\", \"Topic4\", \"Topic4\", \"Topic4\", \"Topic4\", \"Topic4\", \"Topic4\", \"Topic4\", \"Topic4\", \"Topic4\", \"Topic4\", \"Topic4\", \"Topic4\", \"Topic4\", \"Topic4\", \"Topic4\", \"Topic4\", \"Topic4\", \"Topic4\", \"Topic4\", \"Topic4\", \"Topic4\", \"Topic4\", \"Topic4\", \"Topic4\", \"Topic4\", \"Topic4\", \"Topic4\", \"Topic4\", \"Topic4\", \"Topic4\", \"Topic4\", \"Topic4\", \"Topic4\", \"Topic4\", \"Topic4\", \"Topic4\", \"Topic4\", \"Topic4\", \"Topic4\"], \"Freq\": [272.0, 159.0, 42.0, 175.0, 82.0, 48.0, 68.0, 36.0, 47.0, 21.0, 14.0, 75.0, 42.0, 333.0, 46.0, 14.0, 62.0, 19.0, 19.0, 19.0, 12.0, 15.0, 19.0, 226.0, 12.0, 33.0, 21.0, 24.0, 19.0, 11.0, 3.033837080001831, 3.0338058471679688, 3.033679485321045, 2.022134304046631, 2.022122621536255, 2.022130012512207, 2.022087335586548, 2.0221168994903564, 2.022153615951538, 2.0219919681549072, 2.0220205783843994, 2.022123336791992, 2.0221261978149414, 2.0221736431121826, 2.022160530090332, 2.022160530090332, 2.0221140384674072, 2.022150993347168, 2.0221261978149414, 2.0221617221832275, 2.0220909118652344, 2.0220446586608887, 2.0220839977264404, 2.022059917449951, 2.022057294845581, 2.0219414234161377, 7.078636169433594, 1.010186791419983, 1.0101861953735352, 1.0101814270019531, 4.028996467590332, 5.023746013641357, 3.0281424522399902, 4.022548198699951, 3.020958423614502, 7.940165042877197, 9.84538745880127, 4.00535774230957, 3.0161778926849365, 3.013336181640625, 4.9599738121032715, 3.985504388809204, 3.9787943363189697, 3.008046865463257, 3.971891403198242, 3.968409776687622, 3.0014443397521973, 3.000739336013794, 2.9955506324768066, 6.801072597503662, 4.903250217437744, 3.9549031257629395, 6.7671942710876465, 21.160127639770508, 2.9938626289367676, 3.941404342651367, 16.615293502807617, 6.699261665344238, 51.893211364746094, 4.8647308349609375, 4.861570835113525, 20.011491775512695, 4.8339762687683105, 17.638286590576172, 8.135921478271484, 17.308319091796875, 251.2509307861328, 10.307256698608398, 98.50370025634766, 160.05975341796875, 7.199349880218506, 17.711872100830078, 19.529090881347656, 10.72326374053955, 9.30369758605957, 17.749677658081055, 22.53738021850586, 59.023372650146484, 16.925006866455078, 97.42019653320312, 18.69270133972168, 39.63789367675781, 86.5665054321289, 35.018070220947266, 103.97068786621094, 40.123329162597656, 20.287187576293945, 51.735801696777344, 14.204832077026367, 58.70978546142578, 108.88846588134766, 94.7781753540039, 46.333518981933594, 90.65608215332031, 87.29808807373047, 24.6033878326416, 55.6445198059082, 37.842445373535156, 23.863222122192383, 21.510217666625977, 39.216392517089844, 21.503292083740234, 20.87856101989746, 21.985910415649414, 21.25904083251953, 21.561538696289062, 11.659906387329102, 11.659761428833008, 6.801063537597656, 6.8014912605285645, 6.801171779632568, 6.80121374130249, 3.88628888130188, 2.9144177436828613, 2.9145500659942627, 2.9144599437713623, 2.91456937789917, 2.9145259857177734, 2.9145350456237793, 2.9144506454467773, 2.9145302772521973, 2.9144127368927, 2.914538860321045, 2.91452956199646, 1.9427276849746704, 1.9427287578582764, 1.9426860809326172, 1.9427716732025146, 1.9427399635314941, 1.9427140951156616, 1.942644476890564, 1.9426538944244385, 1.9427536725997925, 1.9427262544631958, 1.9426984786987305, 1.9427337646484375, 12.6202392578125, 12.616305351257324, 10.68014907836914, 8.74113941192627, 7.76835298538208, 6.798155784606934, 15.397522926330566, 4.846253395080566, 2.912234306335449, 2.910493850708008, 2.910524606704712, 2.9076836109161377, 6.723717212677002, 3.8539509773254395, 11.909626007080078, 13.603363037109375, 4.738020420074463, 17.273645401000977, 3.8123300075531006, 5.530821800231934, 14.22406005859375, 11.671150207519531, 8.587414741516113, 3.7747344970703125, 19.349918365478516, 9.285473823547363, 12.881953239440918, 54.3602294921875, 9.168582916259766, 15.65478801727295, 17.433046340942383, 11.70529842376709, 12.688437461853027, 16.748489379882812, 39.06792449951172, 107.68247985839844, 91.295166015625, 84.86607360839844, 18.168869018554688, 63.92464065551758, 21.86055564880371, 25.989070892333984, 57.90064239501953, 14.388479232788086, 33.14347457885742, 53.62168884277344, 45.69343948364258, 25.028671264648438, 71.79451751708984, 20.49273681640625, 48.747711181640625, 28.131296157836914, 23.48290252685547, 21.74428367614746, 25.4355525970459, 17.521728515625, 26.49734878540039, 27.099119186401367, 20.6203670501709, 16.968034744262695, 18.428775787353516, 17.23114776611328, 2.981231212615967, 2.981078863143921, 2.9811060428619385, 1.9872527122497559, 1.9872326850891113, 1.9872770309448242, 1.987270474433899, 1.9872641563415527, 1.9872300624847412, 1.987238883972168, 0.9932271242141724, 0.9932345151901245, 0.9931721091270447, 0.9932034611701965, 0.9931992888450623, 0.9931955337524414, 0.9931908249855042, 0.9931999444961548, 0.9932297468185425, 0.9932417869567871, 0.9932174682617188, 0.9931785464286804, 0.9932363033294678, 0.9932374358177185, 0.9928894639015198, 0.9932223558425903, 0.9929249286651611, 0.9932089447975159, 0.9932094812393188, 0.9932380318641663, 14.848142623901367, 2.9767186641693115, 2.965503454208374, 3.941584587097168, 1.9748589992523193, 0.9932531714439392, 0.9932481646537781, 0.9932410717010498, 0.9932277798652649, 0.9932323694229126, 0.9932318925857544, 0.9932300448417664, 0.9932329058647156, 0.9932337999343872, 2.945479393005371, 4.847510814666748, 3.8968286514282227, 1.9720205068588257, 3.8818047046661377, 1.9621052742004395, 2.9182801246643066, 0.9932383894920349, 6.663907527923584, 3.8672845363616943, 5.723758697509766, 2.9116907119750977, 5.690448760986328, 7.504663944244385, 13.814841270446777, 11.099160194396973, 3.8202664852142334, 6.422987937927246, 8.911273002624512, 9.72075080871582, 3.7902536392211914, 18.082448959350586, 7.898449897766113, 5.44959020614624, 5.428679943084717, 3.740621566772461, 5.42311954498291, 8.576131820678711, 15.294787406921387, 29.097747802734375, 7.591052055358887, 6.794920921325684, 14.647185325622559, 14.640960693359375, 5.962675094604492, 7.227298259735107, 6.550124645233154, 25.726594924926758, 60.441993713378906, 6.344112873077393, 10.310853958129883, 9.86422061920166, 66.83379364013672, 58.7770881652832, 24.11949920654297, 51.37565231323242, 29.010854721069336, 17.589618682861328, 49.86457061767578, 54.84217834472656, 33.503604888916016, 16.55681800842285, 27.114713668823242, 36.92654800415039, 15.485136032104492, 17.974063873291016, 25.694965362548828, 15.87674617767334, 11.543937683105469, 21.07269287109375, 21.02562141418457, 12.365811347961426, 14.820630073547363, 17.289012908935547, 14.87511157989502, 4.116722106933594, 3.087461471557617, 2.0581483840942383, 2.058178663253784, 2.058178663253784, 2.058046817779541, 2.058147430419922, 1.0287253856658936, 1.0287261009216309, 1.0287017822265625, 1.0286811590194702, 1.0287461280822754, 1.0287452936172485, 1.028721809387207, 1.028741717338562, 1.028738260269165, 1.028721809387207, 1.028714656829834, 1.0286933183670044, 1.0287108421325684, 1.028744101524353, 1.028744101524353, 1.0287374258041382, 1.0287376642227173, 1.0287399291992188, 1.0287338495254517, 1.028733491897583, 1.0287379026412964, 1.0287368297576904, 1.0287011861801147, 5.115172863006592, 5.092529296875, 2.0561907291412354, 2.0488619804382324, 1.0287350416183472, 1.0287402868270874, 1.0287353992462158, 1.028745412826538, 4.037841796875, 3.041828155517578, 11.79937744140625, 2.0374884605407715, 1.0287377834320068, 1.0287377834320068, 1.0287423133850098, 4.961005687713623, 3.9881746768951416, 5.9046101570129395, 2.0280401706695557, 2.0206286907196045, 2.0192339420318604, 2.018841505050659, 2.9881703853607178, 2.0176589488983154, 2.9876902103424072, 6.7879533767700195, 10.518980979919434, 2.984391689300537, 11.323403358459473, 7.604171276092529, 9.40504264831543, 3.90950608253479, 4.821009159088135, 2.9724514484405518, 3.887376308441162, 6.506302833557129, 4.698423862457275, 2.958822011947632, 2.9537813663482666, 2.953510046005249, 2.9510178565979004, 2.9536190032958984, 2.912419080734253, 130.27853393554688, 13.713980674743652, 7.9319376945495605, 9.182867050170898, 14.109122276306152, 9.307548522949219, 8.118006706237793, 61.13624954223633, 6.001902103424072, 20.984663009643555, 17.43202781677246, 19.3681640625, 15.296697616577148, 10.798373222351074, 8.94432258605957, 48.24775695800781, 15.553089141845703, 14.47368049621582, 15.790325164794922, 58.20342254638672, 49.70210266113281, 43.40850830078125, 40.49602127075195, 14.755002975463867, 13.991406440734863, 14.383238792419434, 11.270857810974121, 26.195796966552734, 18.942642211914062, 20.098278045654297, 21.107830047607422, 18.347543716430664, 13.844793319702148, 12.096491813659668, 11.428142547607422, 12.026979446411133], \"Term\": [\"$\", \"price\", \"amazon\", \"blockchain\", \"ccn\", \"support\", \"sec\", \"resistance\", \"usd\", \"khaled\", \"nakamoto\", \"platform\", \"0\", \"first\", \"million\", \"satoshi\", \"mining\", \"dj\", \"mayweather\", \"floyd\", \"120\", \"university\", \"trend\", \"crypto\", \"rice\", \"bullish\", \"term\", \"zec\", \"paid\", \"arisebank\", \"zug\", \"expo\", \"shut\", \"hightest\", \"plattsburgh\", \"cryptojacking\", \"arrr\", \"footsteps\", \"recovers\", \"coinshares\", \"kingminer\", \"pirate\", \"sun\", \"cybersecurity\", \"consolidates\", \"estimate\", \"justin\", \"unauthorized\", \"return\", \"taught\", \"struggles\", \"cantonal\", \"hong\", \"supplier\", \"kong\", \"rig\", \"|\", \"planets\", \"specified\", \"fun\", \"cryptopia\", \"atm\", \"indecision\", \"doji\", \"threat\", \"derivatives\", \"nasdaq\", \"136\", \"ride\", \"tom\", \"code\", \"frankfurt\", \"lumens\", \"lee\", \"intercontinental\", \"green\", \"shares\", \"4400\", \"amidst\", \"operator\", \"bubble\", \"record\", \"economic\", \"etf\", \"especially\", \"researchers\", \"futures\", \"seven\", \"mining\", \"plan\", \"double\", \"chairman\", \"allianz\", \"york\", \"sprecher\", \"huobi\", \"bitcoin\", \"among\", \"market\", \"\", \"unique\", \"bitcoinist\", \"past\", \"clayton\", \"best\", \"blokt\", \"found\", \"exchange\", \"commission\", \"cryptocurrency\", \"originally\", \"cryptocurrencies\", \"8217\", \"digital\", \"crypto\", \"sec\", \"back\", \"news\", \"conference\", \"8230\", \"first\", \"post\", \"new\", \"appeared\", \"$\", \"2018\", \"price\", \"trading\", \"securities\", \"says\", \"blockchain\", \"major\", \"8216\", \"company\", \"btc\", \"platform\", \"diligence\", \"urges\", \"mentionedthe\", \"material\", \"endorse\", \"damages\", \"relationship\", \"gg\", \"china\", \"love\", \"bill\", \"betting\", \"raise\", \"peso\", \"lottery\", \"lotto\", \"billboard\", \"vick\", \"efficiently\", \"campaign\", \"chronoswiss\", \"regulating\", \"restructuring\", \"finances\", \"nlx\", \"3xbit\", \"restructure\", \"hate\", \"invoice\", \"mumsnet\", \"buterin\", \"readers\", \"honorary\", \"basel\", \"doctorate\", \"vitalik\", \"university\", \"michael\", \"oldest\", \"reuters\", \"science\", \"economics\", \"awarded\", \"crude\", \"submitted\", \"responsible\", \"tether\", \"paid\", \"accept\", \"philippines\", \"product\", \"conduct\", \"oil\", \"similar\", \"zec\", \"treasury\", \"payment\", \"ccn\", \"connected\", \"release\", \"research\", \"mentioned\", \"due\", \"press\", \"platform\", \"first\", \"post\", \"appeared\", \"pro\", \"cryptocurrency\", \"zcash\", \"based\", \"blockchain\", \"exchanges\", \"trading\", \"crypto\", \"8217\", \"ethereum\", \"bitcoin\", \"live\", \"\", \"exchange\", \"coinbase\", \"company\", \"news\", \"160\", \"8230\", \"market\", \"new\", \"markets\", \"$\", \"price\", \"celebrate\", \"revolut\", \"nour\", \"easily\", \"inventor\", \"enter\", \"50k\", \"cryptomining\", \"belonged\", \"coinmine\", \"paperless\", \"disappearance\", \"trilogy\", \"supposedly\", \"sold\", \"theater\", \"pseudonymous\", \"sp2p\", \"p2pfoundation\", \"hacked\", \"shades\", \"forumblockchain\", \"demos\", \"demo\", \"wary\", \"weirdly\", \"safeguards\", \"versions\", \"mysterious\", \"speculate\", \"nakamoto\", \"device\", \"doge\", \"33\", \"spikes\", \"blv\", \"capitulated\", \"coinspeakergoldman\", \"units\", \"coinspeakerhyperledger\", \"circa\", \"deployed\", \"assistance\", \"00228\", \"gonzalo\", \"3600\", \"curiel\", \"verifiable\", \"opcode\", \"keeping\", \"arcade\", \"crashes\", \"trustnodes\", \"gaming\", \"smartphone\", \"ralph\", \"gmb\", \"phone\", \"satoshi\", \"quot\", \"gamb\", \"retracement\", \"sirin\", \"finney\", \"bounce\", \"khaled\", \"music\", \"boxer\", \"settled\", \"play\", \"qldb\", \"quantum\", \"dj\", \"amazon\", \"database\", \"producer\", \"mayweather\", \"floyd\", \"account\", \"channel\", \"web\", \"support\", \"blockchain\", \"jr\", \"ledger\", \"case\", \"first\", \"\", \"sec\", \"appeared\", \"new\", \"ico\", \"post\", \"bitcoin\", \"8217\", \"usd\", \"8230\", \"$\", \"0\", \"%\", \"price\", \"two\", \"level\", \"market\", \"crypto\", \"cash\", \"coinbase\", \"cryptocurrency\", \"news\", \"abc\", \"estate\", \"knomad\", \"stabilizing\", \"publicly\", \"connects\", \"dundee\", \"consult\", \"peaceful\", \"arrests\", \"hopes\", \"attracts\", \"seed\", \"ireland\", \"beneficial\", \"reinvents\", \"165\", \"rebounded\", \"tradethe\", \"basis\", \"azure\", \"engulfing\", \"upper\", \"forth\", \"playbook\", \"patient\", \"glamorous\", \"oversold\", \"bchabc\", \"relative\", \"125\", \"112\", \"coinnouncesupport\", \"110\", \"explanation\", \"backs\", \"willing\", \"integrity\", \"manager\", \"apple\", \"120\", \"afraid\", \"hurdles\", \"imminent\", \"wants\", \"4k\", \"outlook\", \"ema\", \"119\", \"closure\", \"projections\", \"securitize\", \"senior\", \"officers\", \"ventures\", \"jared\", \"arisebank\", \"ordered\", \"rice\", \"fbi\", \"texas\", \"prison\", \"watch\", \"canadas\", \"flipside\", \"arrested\", \"attorney\", \"hundreds\", \"thinks\", \"faces\", \"scoring\", \"26\", \"yusko\", \"$\", \"trend\", \"points\", \"break\", \"term\", \"200\", \"pay\", \"price\", \"steem\", \"million\", \"resistance\", \"usd\", \"bullish\", \"3\", \"startup\", \"crypto\", \"ceo\", \"analysis\", \"0\", \"bitcoin\", \"first\", \"post\", \"appeared\", \"newsbtc\", \"support\", \"u\", \"key\", \"\", \"8230\", \"market\", \"cryptocurrency\", \"blockchain\", \"platform\", \"amazon\", \"time\", \"8217\"], \"Total\": [272.0, 159.0, 42.0, 175.0, 82.0, 48.0, 68.0, 36.0, 47.0, 21.0, 14.0, 75.0, 42.0, 333.0, 46.0, 14.0, 62.0, 19.0, 19.0, 19.0, 12.0, 15.0, 19.0, 226.0, 12.0, 33.0, 21.0, 24.0, 19.0, 11.0, 3.0341367721557617, 3.0341055393218994, 3.0339791774749756, 2.0224339962005615, 2.0224223136901855, 2.0224297046661377, 2.0223870277404785, 2.022416591644287, 2.0224533081054688, 2.022291660308838, 2.02232027053833, 2.022423028945923, 2.022425889968872, 2.0224733352661133, 2.0224602222442627, 2.0224602222442627, 2.022413730621338, 2.0224506855010986, 2.022425889968872, 2.022461414337158, 2.022390604019165, 2.0223443508148193, 2.0224266052246094, 2.0224125385284424, 2.022421360015869, 2.022379159927368, 7.0803422927856445, 1.0104862451553345, 1.0104856491088867, 1.0104808807373047, 4.045034408569336, 5.056461334228516, 3.0341084003448486, 4.045302391052246, 3.033721685409546, 8.091106414794922, 10.112131118774414, 4.0440545082092285, 3.0340917110443115, 3.0332190990448, 5.05400276184082, 4.0453667640686035, 4.04564905166626, 3.0330007076263428, 4.042607307434082, 4.046637535095215, 3.034343719482422, 3.0338475704193115, 3.032606601715088, 7.074306488037109, 5.055802345275879, 4.042778968811035, 7.076124668121338, 23.21571159362793, 3.0324368476867676, 4.042179107666016, 18.218839645385742, 7.068756580352783, 62.529144287109375, 5.051462650299072, 5.056006908416748, 23.215980529785156, 5.056082725524902, 21.10955047607422, 9.070357322692871, 21.113222122192383, 436.091064453125, 12.071327209472656, 166.77378845214844, 293.7803649902344, 8.088606834411621, 23.28131866455078, 26.15414047241211, 13.06650447845459, 11.061141014099121, 24.120351791381836, 32.16574478149414, 103.90165710449219, 23.107563018798828, 199.74168395996094, 26.100040435791016, 66.16230010986328, 177.79052734375, 57.36869812011719, 226.86575317382812, 68.2700424194336, 29.15633773803711, 96.89501190185547, 19.02964973449707, 131.26449584960938, 333.10687255859375, 279.3464050292969, 101.9157485961914, 267.3938293457031, 272.93194580078125, 42.201759338378906, 159.70687866210938, 91.61262512207031, 40.25281524658203, 36.003353118896484, 175.9065704345703, 36.12029266357422, 35.11677932739258, 57.91055679321289, 47.39704895019531, 75.49356842041016, 11.660209655761719, 11.660064697265625, 6.801366806030273, 6.801794528961182, 6.8014750480651855, 6.801517009735107, 3.886592388153076, 2.9147212505340576, 2.914853572845459, 2.9147634506225586, 2.914872884750366, 2.9148294925689697, 2.9148385524749756, 2.9147541522979736, 2.9148337841033936, 2.9147162437438965, 2.914842367172241, 2.9148330688476562, 1.9430311918258667, 1.9430322647094727, 1.9429895877838135, 1.943075180053711, 1.9430434703826904, 1.943017601966858, 1.9429479837417603, 1.9429574012756348, 1.9430571794509888, 1.943029761314392, 1.9430019855499268, 1.9430372714996338, 12.6326904296875, 12.632488250732422, 10.688874244689941, 8.74560260772705, 7.773616790771484, 6.801791667938232, 15.552029609680176, 4.858647346496582, 2.9148967266082764, 2.914947509765625, 2.9150333404541016, 2.915043592453003, 6.804157733917236, 3.8883769512176514, 12.656994819641113, 14.596789360046387, 4.862031936645508, 19.495677947998047, 3.889530897140503, 5.8411149978637695, 16.572725296020508, 13.681008338928223, 9.781301498413086, 3.890500783920288, 24.42710304260254, 10.725759506225586, 15.647945404052734, 82.62496948242188, 10.748064041137695, 20.638757705688477, 23.55927276611328, 14.664573669433594, 16.65413475036621, 24.702701568603516, 75.49356842041016, 333.10687255859375, 279.3464050292969, 267.3938293457031, 29.50336456298828, 199.74168395996094, 39.40412902832031, 51.494693756103516, 175.9065704345703, 21.67938995361328, 91.61262512207031, 226.86575317382812, 177.79052734375, 58.70384979248047, 436.091064453125, 41.573402404785156, 293.7803649902344, 103.90165710449219, 66.68534851074219, 57.91055679321289, 96.89501190185547, 34.73813247680664, 131.26449584960938, 166.77378845214844, 101.9157485961914, 43.89270782470703, 272.93194580078125, 159.70687866210938, 2.981532573699951, 2.9813802242279053, 2.981407403945923, 1.9875539541244507, 1.9875339269638062, 1.987578272819519, 1.9875717163085938, 1.9875653982162476, 1.987531304359436, 1.9875401258468628, 0.993528425693512, 0.9935358166694641, 0.9934734106063843, 0.9935047626495361, 0.9935005903244019, 0.993496835231781, 0.9934921264648438, 0.9935012459754944, 0.9935310482978821, 0.9935430884361267, 0.9935187697410583, 0.99347984790802, 0.9935376048088074, 0.9935387372970581, 0.9931907653808594, 0.9935236573219299, 0.9932262301445007, 0.9935102462768555, 0.9935107827186584, 0.9935393333435059, 14.907062530517578, 2.981492519378662, 2.981762647628784, 3.9758849143981934, 1.9877673387527466, 0.9935544729232788, 0.9935494661331177, 0.9935423731803894, 0.9935290813446045, 0.9935336709022522, 0.993533194065094, 0.993531346321106, 0.9935342073440552, 0.9935351014137268, 2.9819514751434326, 4.966216564178467, 3.9765126705169678, 1.9880379438400269, 3.976875066757202, 1.9869182109832764, 2.98331618309021, 0.9935396909713745, 6.950934410095215, 3.9789974689483643, 5.964720726013184, 2.979855537414551, 5.967841625213623, 7.940624713897705, 14.922868728637695, 11.942510604858398, 3.977952003479004, 6.956428050994873, 9.936737060546875, 10.931565284729004, 3.9783079624176025, 21.903488159179688, 8.954463005065918, 5.9722065925598145, 5.970778465270996, 3.9700605869293213, 5.980379104614258, 9.977669715881348, 19.92262840270996, 42.155723571777344, 8.98776626586914, 7.963477611541748, 19.937423706054688, 19.930391311645508, 6.9335761070251465, 8.98437213897705, 7.976956367492676, 48.06593704223633, 175.9065704345703, 7.9742751121521, 15.961563110351562, 15.965386390686035, 333.10687255859375, 293.7803649902344, 68.2700424194336, 267.3938293457031, 101.9157485961914, 44.82426452636719, 279.3464050292969, 436.091064453125, 177.79052734375, 47.400665283203125, 131.26449584960938, 272.93194580078125, 42.42823028564453, 60.86516571044922, 159.70687866210938, 58.963783264160156, 25.22291374206543, 166.77378845214844, 226.86575317382812, 32.2507438659668, 66.68534851074219, 199.74168395996094, 96.89501190185547, 4.1170196533203125, 3.087759256362915, 2.058446168899536, 2.058476448059082, 2.058476448059082, 2.058344602584839, 2.0584452152252197, 1.0290231704711914, 1.0290238857269287, 1.0289995670318604, 1.028978943824768, 1.0290439128875732, 1.0290430784225464, 1.0290195941925049, 1.0290395021438599, 1.029036045074463, 1.0290195941925049, 1.0290124416351318, 1.0289911031723022, 1.0290086269378662, 1.0290418863296509, 1.0290418863296509, 1.029035210609436, 1.0290354490280151, 1.0290377140045166, 1.0290316343307495, 1.0290312767028809, 1.0290356874465942, 1.0290346145629883, 1.0289989709854126, 5.14517879486084, 5.1442060470581055, 2.05834698677063, 2.0578222274780273, 1.029032826423645, 1.0290380716323853, 1.0290331840515137, 1.029043197631836, 4.114331245422363, 3.0860650539398193, 12.331510543823242, 2.0577361583709717, 1.0290355682373047, 1.0290355682373047, 1.0290400981903076, 5.141955375671387, 4.112575054168701, 6.169001579284668, 2.057425022125244, 2.0571720600128174, 2.0567777156829834, 2.0570297241210938, 3.0842607021331787, 2.057460308074951, 3.0842137336730957, 7.191503047943115, 11.296390533447266, 3.0842418670654297, 12.325078964233398, 8.204883575439453, 10.253827095031738, 4.110881328582764, 5.132175445556641, 3.085641384124756, 4.106048583984375, 7.172793388366699, 5.127946853637695, 3.083146095275879, 3.082632064819336, 3.0829179286956787, 3.080029249191284, 3.0843565464019775, 3.0812206268310547, 272.93194580078125, 19.375038146972656, 10.215614318847656, 12.247480392456055, 21.329788208007812, 13.234758377075195, 11.247478485107422, 159.70687866210938, 8.1112060546875, 46.57599639892578, 36.47990417480469, 47.400665283203125, 33.53103256225586, 20.313901901245117, 15.240001678466797, 226.86575317382812, 38.301048278808594, 34.27571105957031, 42.42823028564453, 436.091064453125, 333.10687255859375, 279.3464050292969, 267.3938293457031, 47.09832000732422, 48.06593704223633, 52.27621841430664, 28.266834259033203, 293.7803649902344, 131.26449584960938, 166.77378845214844, 199.74168395996094, 175.9065704345703, 75.49356842041016, 42.155723571777344, 50.88288116455078, 177.79052734375], \"loglift\": [30.0, 29.0, 28.0, 27.0, 26.0, 25.0, 24.0, 23.0, 22.0, 21.0, 20.0, 19.0, 18.0, 17.0, 16.0, 15.0, 14.0, 13.0, 12.0, 11.0, 10.0, 9.0, 8.0, 7.0, 6.0, 5.0, 4.0, 3.0, 2.0, 1.0, 0.9592000246047974, 0.9592000246047974, 0.9592000246047974, 0.9591000080108643, 0.9591000080108643, 0.9591000080108643, 0.9591000080108643, 0.9591000080108643, 0.9591000080108643, 0.9591000080108643, 0.9591000080108643, 0.9591000080108643, 0.9591000080108643, 0.9591000080108643, 0.9591000080108643, 0.9591000080108643, 0.9591000080108643, 0.9591000080108643, 0.9591000080108643, 0.9591000080108643, 0.9591000080108643, 0.9591000080108643, 0.9591000080108643, 0.9591000080108643, 0.9591000080108643, 0.9591000080108643, 0.9591000080108643, 0.9589999914169312, 0.9589999914169312, 0.9589999914169312, 0.955299973487854, 0.9527999758720398, 0.9573000073432922, 0.9537000060081482, 0.9550999999046326, 0.940500020980835, 0.9326000213623047, 0.9496999979019165, 0.9534000158309937, 0.9527000188827515, 0.940500020980835, 0.9444000124931335, 0.9426000118255615, 0.9509999752044678, 0.9416000247001648, 0.9398000240325928, 0.9484000205993652, 0.9483000040054321, 0.9470000267028809, 0.9199000000953674, 0.9286999702453613, 0.9373000264167786, 0.9146999716758728, 0.866599977016449, 0.9465000033378601, 0.9340999722480774, 0.8672000169754028, 0.9056000113487244, 0.7728999853134155, 0.9215999841690063, 0.9200999736785889, 0.8108000159263611, 0.9143999814987183, 0.7796000242233276, 0.850600004196167, 0.7605999708175659, 0.40790000557899475, 0.8012999892234802, 0.4327999949455261, 0.35199999809265137, 0.8428000211715698, 0.6858999729156494, 0.6672000288963318, 0.7616999745368958, 0.786300003528595, 0.6525999903678894, 0.603600025177002, 0.3937999904155731, 0.6478999853134155, 0.24130000174045563, 0.6255000233650208, 0.44699999690055847, 0.23960000276565552, 0.4657000005245209, 0.17900000512599945, 0.4277999997138977, 0.5965999960899353, 0.33180001378059387, 0.6668999791145325, 0.15469999611377716, -0.15880000591278076, -0.12160000205039978, 0.17100000381469727, -0.12240000069141388, -0.18060000240802765, 0.4196999967098236, -0.09510000050067902, 0.07519999891519547, 0.43650001287460327, 0.4442000091075897, -0.5415999889373779, 0.4406000077724457, 0.439300000667572, -0.009200000204145908, 0.1574999988079071, -0.2937999963760376, 1.3461999893188477, 1.3461999893188477, 1.3461999893188477, 1.3461999893188477, 1.3461999893188477, 1.3461999893188477, 1.3461999893188477, 1.3460999727249146, 1.3460999727249146, 1.3460999727249146, 1.3460999727249146, 1.3460999727249146, 1.3460999727249146, 1.3460999727249146, 1.3460999727249146, 1.3460999727249146, 1.3460999727249146, 1.3460999727249146, 1.3460999727249146, 1.3460999727249146, 1.3460999727249146, 1.3460999727249146, 1.3460999727249146, 1.3460999727249146, 1.3460999727249146, 1.3460999727249146, 1.3460999727249146, 1.3460999727249146, 1.3460999727249146, 1.3460999727249146, 1.3452999591827393, 1.3450000286102295, 1.3453999757766724, 1.3457000255584717, 1.3456000089645386, 1.3457000255584717, 1.336300015449524, 1.3437000513076782, 1.3452999591827393, 1.3446999788284302, 1.3446999788284302, 1.3437000513076782, 1.3343000411987305, 1.3372999429702759, 1.2854000329971313, 1.2757999897003174, 1.3203999996185303, 1.2252000570297241, 1.326200008392334, 1.291700005531311, 1.1934000253677368, 1.1872999668121338, 1.2160999774932861, 1.315999984741211, 1.1131999492645264, 1.2020000219345093, 1.1517000198364258, 0.9276000261306763, 1.1872999668121338, 1.0698000192642212, 1.0450999736785889, 1.1208000183105469, 1.0743000507354736, 0.9575999975204468, 0.6875, 0.21699999272823334, 0.22789999842643738, 0.19859999418258667, 0.8614000082015991, 0.2069000005722046, 0.7570000290870667, 0.6624000072479248, 0.23499999940395355, 0.9362999796867371, 0.3294999897480011, -0.09619999676942825, -0.012400000356137753, 0.49380001425743103, -0.4578000009059906, 0.6388000249862671, -0.4499000012874603, 0.03970000147819519, 0.30250000953674316, 0.3666999936103821, 0.008799999952316284, 0.6618000268936157, -0.2538999915122986, -0.4708999991416931, -0.2515999972820282, 0.39579999446868896, -1.3490999937057495, -0.8804000020027161, 1.6601999998092651, 1.6601999998092651, 1.6601999998092651, 1.660099983215332, 1.660099983215332, 1.660099983215332, 1.660099983215332, 1.660099983215332, 1.660099983215332, 1.660099983215332, 1.659999966621399, 1.659999966621399, 1.659999966621399, 1.659999966621399, 1.659999966621399, 1.659999966621399, 1.659999966621399, 1.659999966621399, 1.659999966621399, 1.659999966621399, 1.659999966621399, 1.659999966621399, 1.659999966621399, 1.659999966621399, 1.659999966621399, 1.659999966621399, 1.659999966621399, 1.659999966621399, 1.659999966621399, 1.659999966621399, 1.6562999486923218, 1.6586999893188477, 1.6548000574111938, 1.6516000032424927, 1.6536999940872192, 1.659999966621399, 1.659999966621399, 1.659999966621399, 1.659999966621399, 1.659999966621399, 1.659999966621399, 1.659999966621399, 1.659999966621399, 1.659999966621399, 1.6480000019073486, 1.6361000537872314, 1.6399999856948853, 1.6521999835968018, 1.6361000537872314, 1.6476999521255493, 1.638200044631958, 1.659999966621399, 1.6181000471115112, 1.6318000555038452, 1.61899995803833, 1.6370999813079834, 1.6126999855041504, 1.6038000583648682, 1.5830999612808228, 1.5870000123977661, 1.6197999715805054, 1.5805000066757202, 1.551300048828125, 1.5428999662399292, 1.611799955368042, 1.4686000347137451, 1.5348000526428223, 1.5686999559402466, 1.5650999546051025, 1.6007000207901, 1.562399983406067, 1.5089000463485718, 1.395900011062622, 1.2894999980926514, 1.4914000034332275, 1.5016000270843506, 1.3518999814987183, 1.3517999649047852, 1.5094000101089478, 1.4426000118255615, 1.4631999731063843, 1.0351999998092651, 0.5920000076293945, 1.4315999746322632, 1.2232999801635742, 1.1787999868392944, 0.05400000140070915, 0.05119999870657921, 0.6197999715805054, 0.010700000450015068, 0.40380001068115234, 0.7247999906539917, -0.06289999932050705, -0.413100004196167, -0.008700000122189522, 0.6083999872207642, 0.08309999853372574, -0.3400000035762787, 0.6523000001907349, 0.4404999911785126, -0.16680000722408295, 0.3481999933719635, 0.8787000179290771, -0.4083999991416931, -0.7184000015258789, 0.70169997215271, 0.15629999339580536, -0.7867000102996826, -0.21369999647140503, 1.7925000190734863, 1.7925000190734863, 1.7924000024795532, 1.7924000024795532, 1.7924000024795532, 1.7924000024795532, 1.7924000024795532, 1.7922999858856201, 1.7922999858856201, 1.7922999858856201, 1.7922999858856201, 1.7922999858856201, 1.7922999858856201, 1.7922999858856201, 1.7922999858856201, 1.7922999858856201, 1.7922999858856201, 1.7922999858856201, 1.7922999858856201, 1.7922999858856201, 1.7922999858856201, 1.7922999858856201, 1.7922999858856201, 1.7922999858856201, 1.7922999858856201, 1.7922999858856201, 1.7922999858856201, 1.7922999858856201, 1.7922999858856201, 1.7922999858856201, 1.7867000102996826, 1.7825000286102295, 1.7914999723434448, 1.7882000207901, 1.7922999858856201, 1.7922999858856201, 1.7922999858856201, 1.7922999858856201, 1.773800015449524, 1.7781000137329102, 1.7484999895095825, 1.7826999425888062, 1.7922999858856201, 1.7922999858856201, 1.7922999858856201, 1.7568000555038452, 1.7618999481201172, 1.7488000392913818, 1.7782000303268433, 1.7747000455856323, 1.7741999626159668, 1.773800015449524, 1.7609000205993652, 1.7730000019073486, 1.7608000040054321, 1.7347999811172485, 1.7213000059127808, 1.7596999406814575, 1.707800030708313, 1.7165000438690186, 1.7062000036239624, 1.742300033569336, 1.7300000190734863, 1.7552000284194946, 1.7378000020980835, 1.695099949836731, 1.7051000595092773, 1.7513999938964844, 1.749899983406067, 1.7496999502182007, 1.7497999668121338, 1.7493000030517578, 1.736199975013733, 1.0529999732971191, 1.4470000267028809, 1.5396000146865845, 1.5046000480651855, 1.3792999982833862, 1.440600037574768, 1.4665000438690186, 0.8323000073432922, 1.4914000034332275, 0.9952999949455261, 1.0541000366210938, 0.897599995136261, 1.007699966430664, 1.1606999635696411, 1.2596999406814575, 0.24459999799728394, 0.8913999795913696, 0.9304999709129333, 0.8041999936103821, -0.22130000591278076, -0.10980000346899033, -0.06920000165700912, -0.09489999711513519, 0.6319000124931335, 0.5583999752998352, 0.5020999908447266, 0.8730999827384949, -0.6247000098228455, -0.14319999516010284, -0.32339999079704285, -0.454800009727478, -0.46790000796318054, 0.09640000015497208, 0.5440999865531921, 0.29910001158714294, -0.9009000062942505], \"logprob\": [30.0, 29.0, 28.0, 27.0, 26.0, 25.0, 24.0, 23.0, 22.0, 21.0, 20.0, 19.0, 18.0, 17.0, 16.0, 15.0, 14.0, 13.0, 12.0, 11.0, 10.0, 9.0, 8.0, 7.0, 6.0, 5.0, 4.0, 3.0, 2.0, 1.0, -7.861400127410889, -7.861400127410889, -7.861499786376953, -8.26710033416748, -8.26710033416748, -8.26710033416748, -8.26710033416748, -8.26710033416748, -8.26710033416748, -8.267200469970703, -8.267200469970703, -8.26710033416748, -8.26710033416748, -8.26710033416748, -8.26710033416748, -8.26710033416748, -8.26710033416748, -8.26710033416748, -8.26710033416748, -8.26710033416748, -8.26710033416748, -8.267200469970703, -8.26710033416748, -8.267200469970703, -8.267200469970703, -8.267200469970703, -7.014200210571289, -8.961099624633789, -8.961099624633789, -8.961099624633789, -7.577700138092041, -7.357100009918213, -7.86329984664917, -7.579400062561035, -7.865699768066406, -6.8993000984191895, -6.684299945831299, -7.583600044250488, -7.867300033569336, -7.868199825286865, -7.369900226593018, -7.588600158691406, -7.5903000831604, -7.869999885559082, -7.5920000076293945, -7.592899799346924, -7.872200012207031, -7.872399806976318, -7.874100208282471, -7.054200172424316, -7.381400108337402, -7.59630012512207, -7.059199810028076, -5.919099807739258, -7.87470006942749, -7.599699974060059, -6.160900115966797, -7.069300174713135, -5.02209997177124, -7.3892998695373535, -7.389900207519531, -5.974999904632568, -7.395599842071533, -6.101200103759766, -6.875, -6.120100021362305, -3.4447999000549316, -6.638400077819824, -4.381199836730957, -3.895699977874756, -6.997300148010254, -6.0970001220703125, -5.9994001388549805, -6.598899841308594, -6.740900039672852, -6.094900131225586, -5.856100082397461, -4.8933000564575195, -6.142499923706055, -4.392199993133545, -6.043099880218506, -5.291500091552734, -4.51039981842041, -5.41540002822876, -4.327199935913086, -5.279300212860107, -5.961299896240234, -5.025100231170654, -6.317699909210205, -4.89870023727417, -4.280900001525879, -4.4197001457214355, -5.13539981842041, -4.464200019836426, -4.5019001960754395, -5.768400192260742, -4.952300071716309, -5.337800025939941, -5.798900127410889, -5.902699947357178, -5.302199840545654, -5.90310001373291, -5.932499885559082, -5.880899906158447, -5.9145002365112305, -5.900400161743164, -6.128200054168701, -6.128200054168701, -6.667200088500977, -6.667200088500977, -6.667200088500977, -6.667200088500977, -7.226900100708008, -7.514699935913086, -7.514599800109863, -7.514599800109863, -7.514599800109863, -7.514599800109863, -7.514599800109863, -7.514599800109863, -7.514599800109863, -7.514699935913086, -7.514599800109863, -7.514599800109863, -7.920199871063232, -7.920199871063232, -7.920300006866455, -7.920199871063232, -7.920199871063232, -7.920199871063232, -7.920300006866455, -7.920300006866455, -7.920199871063232, -7.920199871063232, -7.920199871063232, -7.920199871063232, -6.048999786376953, -6.049300193786621, -6.21589994430542, -6.416299819946289, -6.534299850463867, -6.667699813842773, -5.850100040435791, -7.006100177764893, -7.515399932861328, -7.515999794006348, -7.515999794006348, -7.517000198364258, -6.678699970245361, -7.235199928283691, -6.10699987411499, -5.973999977111816, -7.02869987487793, -5.735099792480469, -7.246099948883057, -6.874000072479248, -5.9293999671936035, -6.127200126647949, -6.434000015258789, -7.25600004196167, -5.621600151062012, -6.355899810791016, -6.028500080108643, -4.588699817657471, -6.368500232696533, -5.833600044250488, -5.72599983215332, -6.124300003051758, -6.043600082397461, -5.765999794006348, -4.919000148773193, -3.905100107192993, -4.070199966430664, -4.1433000564575195, -5.684599876403809, -4.426599979400635, -5.499599933624268, -5.326700210571289, -4.525599956512451, -5.917900085449219, -5.083499908447266, -4.602399826049805, -4.762400150299072, -5.364299774169922, -4.310500144958496, -5.564300060272217, -4.697700023651123, -5.247399806976318, -5.428100109100342, -5.505000114440918, -5.348199844360352, -5.720900058746338, -5.307300090789795, -5.284800052642822, -5.558000087738037, -5.752999782562256, -5.670400142669678, -5.737599849700928, -7.177999973297119, -7.177999973297119, -7.177999973297119, -7.583600044250488, -7.583600044250488, -7.583499908447266, -7.583499908447266, -7.583499908447266, -7.583600044250488, -7.583600044250488, -8.277099609375, -8.277099609375, -8.277199745178223, -8.277099609375, -8.277099609375, -8.277099609375, -8.277099609375, -8.277099609375, -8.277099609375, -8.277099609375, -8.277099609375, -8.277099609375, -8.277099609375, -8.277099609375, -8.277400016784668, -8.277099609375, -8.277400016784668, -8.277099609375, -8.277099609375, -8.277099609375, -5.572400093078613, -7.179500102996826, -7.183300018310547, -6.89870023727417, -7.589799880981445, -8.277099609375, -8.277099609375, -8.277099609375, -8.277099609375, -8.277099609375, -8.277099609375, -8.277099609375, -8.277099609375, -8.277099609375, -7.190000057220459, -6.691800117492676, -6.910099983215332, -7.59119987487793, -6.914000034332275, -7.59630012512207, -7.1992998123168945, -8.277099609375, -6.373600006103516, -6.917799949645996, -6.525700092315674, -7.201600074768066, -6.531499862670898, -6.254799842834473, -5.644599914550781, -5.863399982452393, -6.929999828338623, -6.410399913787842, -6.083000183105469, -5.995999813079834, -6.937900066375732, -5.375400066375732, -6.20359992980957, -6.57480001449585, -6.57859992980957, -6.951099872589111, -6.579599857330322, -6.121300220489502, -5.542799949645996, -4.899600028991699, -6.243299961090088, -6.354100227355957, -5.586100101470947, -5.58650016784668, -6.484799861907959, -6.292399883270264, -6.3907999992370605, -5.022799968719482, -4.168600082397461, -6.422800064086914, -5.937099933624268, -5.981400012969971, -4.0680999755859375, -4.196599960327148, -5.087299823760986, -4.331099987030029, -4.902599811553955, -5.4029998779296875, -4.361000061035156, -4.2657999992370605, -4.758699893951416, -5.463500022888184, -4.970200061798096, -4.661399841308594, -5.530399799346924, -5.381400108337402, -5.02400016784668, -5.50540018081665, -5.824100017547607, -5.222300052642822, -5.224599838256836, -5.75540018081665, -5.5742998123168945, -5.420199871063232, -5.5706000328063965, -6.722899913787842, -7.0106000900268555, -7.416200160980225, -7.416200160980225, -7.416200160980225, -7.416200160980225, -7.416200160980225, -8.109700202941895, -8.109700202941895, -8.109700202941895, -8.109700202941895, -8.109600067138672, -8.109600067138672, -8.109700202941895, -8.109700202941895, -8.109700202941895, -8.109700202941895, -8.109700202941895, -8.109700202941895, -8.109700202941895, -8.109600067138672, -8.109600067138672, -8.109700202941895, -8.109700202941895, -8.109700202941895, -8.109700202941895, -8.109700202941895, -8.109700202941895, -8.109700202941895, -8.109700202941895, -6.505799770355225, -6.510200023651123, -7.417099952697754, -7.4207000732421875, -8.109700202941895, -8.109700202941895, -8.109700202941895, -8.109600067138672, -6.742300033569336, -7.0254998207092285, -5.669899940490723, -7.426300048828125, -8.109700202941895, -8.109700202941895, -8.109700202941895, -6.536399841308594, -6.754700183868408, -6.362299919128418, -7.4309000968933105, -7.434599876403809, -7.435299873352051, -7.435500144958496, -7.043300151824951, -7.435999870300293, -7.043499946594238, -6.222799777984619, -5.784800052642822, -7.044600009918213, -5.711100101470947, -6.109300136566162, -5.896699905395508, -6.774600028991699, -6.565000057220459, -7.048600196838379, -6.780300140380859, -6.265200138092041, -6.590799808502197, -7.053199768066406, -7.054900169372559, -7.054999828338623, -7.055799961090088, -7.054999828338623, -7.068999767303467, -3.2683000564575195, -5.519599914550781, -6.0671000480651855, -5.920599937438965, -5.491199970245361, -5.907199859619141, -6.043900012969971, -4.024899959564209, -6.345900058746338, -5.094200134277344, -5.279699802398682, -5.1743998527526855, -5.410399913787842, -5.758600234985352, -5.947000026702881, -4.261600017547607, -5.393700122833252, -5.465700149536133, -5.378600120544434, -4.073999881744385, -4.231900215148926, -4.367300033569336, -4.436800003051758, -5.446400165557861, -5.499499797821045, -5.47189998626709, -5.715799808502197, -4.872399806976318, -5.196599960327148, -5.137400150299072, -5.0883002281188965, -5.228499889373779, -5.5100998878479, -5.645100116729736, -5.701900005340576, -5.6508002281188965]}, \"token.table\": {\"Topic\": [1, 2, 3, 4, 1, 2, 3, 4, 1, 2, 3, 4, 1, 2, 3, 4, 3, 4, 4, 4, 4, 4, 1, 1, 2, 4, 4, 1, 2, 3, 4, 1, 2, 3, 4, 4, 1, 2, 3, 4, 3, 3, 2, 1, 4, 3, 1, 2, 3, 4, 1, 2, 3, 4, 1, 2, 3, 4, 4, 2, 2, 3, 4, 1, 1, 3, 4, 1, 1, 2, 1, 2, 3, 4, 1, 2, 3, 4, 4, 3, 4, 4, 4, 1, 3, 1, 4, 4, 2, 4, 1, 2, 3, 4, 4, 1, 2, 3, 4, 2, 4, 4, 3, 4, 1, 2, 2, 2, 2, 1, 2, 3, 4, 1, 3, 4, 1, 2, 3, 4, 1, 2, 3, 3, 3, 3, 3, 4, 1, 2, 3, 4, 1, 1, 2, 3, 4, 2, 2, 4, 1, 3, 1, 2, 3, 1, 3, 4, 1, 2, 3, 4, 3, 1, 2, 3, 4, 1, 2, 3, 4, 1, 3, 4, 2, 2, 3, 1, 2, 4, 1, 1, 2, 3, 4, 3, 4, 1, 3, 3, 1, 2, 3, 1, 2, 3, 4, 1, 2, 1, 2, 1, 2, 4, 1, 4, 3, 2, 1, 2, 3, 4, 1, 2, 3, 4, 1, 2, 3, 4, 1, 3, 1, 3, 1, 2, 3, 4, 3, 3, 3, 1, 3, 1, 2, 3, 4, 2, 3, 1, 2, 3, 2, 3, 1, 1, 1, 2, 3, 4, 3, 1, 2, 2, 4, 2, 4, 3, 1, 4, 1, 1, 2, 4, 1, 2, 3, 4, 1, 2, 3, 4, 1, 2, 4, 4, 1, 4, 4, 2, 2, 3, 1, 2, 3, 4, 4, 1, 2, 3, 1, 4, 3, 1, 2, 3, 4, 1, 1, 1, 4, 3, 3, 2, 4, 3, 3, 1, 3, 2, 1, 1, 2, 4, 4, 1, 2, 3, 4, 1, 2, 3, 4, 4, 1, 4, 1, 3, 2, 4, 4, 1, 3, 1, 3, 1, 2, 3, 4, 1, 2, 3, 1, 4, 1, 1, 2, 3, 4, 1, 1, 3, 4, 1, 2, 3, 4, 2, 2, 2, 1, 1, 2, 3, 4, 4, 1, 2, 3, 4, 1, 2, 3, 4, 2, 1, 2, 3, 1, 2, 3, 2, 2, 1, 2, 3, 4, 1, 2, 4, 2, 1, 3, 3, 3, 1, 1, 2, 3, 4, 1, 2, 3, 4, 1, 2, 3, 4, 2, 3, 4, 2, 4, 2, 3, 1, 4, 1, 2, 3, 4, 4, 3, 1, 2, 3, 3, 1, 2, 3, 4, 4, 1, 3, 4, 1, 2, 4, 2, 2, 3, 1, 1, 1, 1, 2, 3, 4, 1, 3, 4, 3, 4, 1, 2, 3, 4, 2, 3, 4, 1, 2, 3, 4, 4, 1, 2, 3, 4, 1, 3, 2, 3, 4, 3, 4, 3, 4, 3, 4, 1, 3, 2, 3, 2, 4, 1, 1, 2, 4, 2, 4, 1, 2, 4, 1, 2, 1, 1, 3, 4, 2, 3, 2, 2, 3, 1, 2, 3, 1, 4, 1, 1, 3, 1, 3, 1, 2, 3, 4, 2, 4, 1, 2, 3, 4, 1, 2, 3, 4, 4, 4, 4, 3, 1, 3, 1, 1, 2, 3, 3, 3, 3, 1, 3, 3, 1, 2, 4, 1, 2, 3, 4, 2, 4, 1, 1, 2, 1, 1, 1, 2, 3, 4, 3, 1, 1, 2, 3, 4, 2, 4, 3, 4, 1, 1, 2, 3, 4, 1, 4, 1, 2, 3, 4, 2, 3, 1, 2, 3, 4, 3, 3, 1, 2, 3, 4, 1, 2, 3, 4, 1, 1, 4, 3, 2, 4, 2, 1, 2, 3, 4, 4, 3, 3, 2, 2, 4, 3, 4, 1, 3, 3, 4, 1, 2, 4, 1, 2, 3, 1, 2, 3, 1, 1], \"Freq\": [0.5446245670318604, 0.16679127514362335, 0.20083031058311462, 0.08850149065256119, 0.31876078248023987, 0.06595050543546677, 0.135564923286438, 0.476309210062027, 0.3450249433517456, 0.2464463859796524, 0.2957356572151184, 0.11500830948352814, 0.2356921285390854, 0.02356921322643757, 0.3535381853580475, 0.3771074116230011, 1.0065069198608398, 0.9719012379646301, 0.9719672799110413, 0.9720888733863831, 0.9731168150901794, 0.9717835187911987, 0.9891063570976257, 0.4030153453350067, 0.5181625485420227, 0.08636042475700378, 0.9717987775802612, 0.0755586177110672, 0.0755586177110672, 0.1511172354221344, 0.6800275444984436, 0.5923923850059509, 0.09478277713060379, 0.260652631521225, 0.07108708471059799, 0.9726501703262329, 0.2461368590593338, 0.04922737181186676, 0.14768211543560028, 0.5415011048316956, 1.0060653686523438, 1.0068026781082153, 1.0293586254119873, 0.9888433814048767, 0.972392737865448, 1.0062530040740967, 0.5980046987533569, 0.14238207042217255, 0.2278113216161728, 0.0569528304040432, 0.4893399178981781, 0.2587314546108246, 0.19123628735542297, 0.06749515980482101, 0.44947415590286255, 0.1980733573436737, 0.20569156110286713, 0.14474591612815857, 0.9715766310691833, 1.0284016132354736, 0.14422571659088135, 0.8653542995452881, 0.9719418883323669, 0.9889078736305237, 0.023721572011709213, 0.6879255771636963, 0.28465884923934937, 0.9892479777336121, 0.8284093141555786, 0.1656818687915802, 0.17505107820034027, 0.14587590098381042, 0.2625766098499298, 0.40845251083374023, 0.34032198786735535, 0.317883163690567, 0.19072990119457245, 0.1495920866727829, 0.972111701965332, 1.0055923461914062, 0.9737623929977417, 0.9759098887443542, 0.9718177318572998, 0.9889304041862488, 1.0065078735351562, 0.9888338446617126, 0.9750490784645081, 0.9717758297920227, 1.0287827253341675, 0.9717777371406555, 0.6859571933746338, 0.10289358347654343, 0.17148929834365845, 0.03429786115884781, 0.9717813730239868, 0.21361424028873444, 0.504906415939331, 0.1553558111190796, 0.11651685833930969, 1.0290886163711548, 0.9718091487884521, 0.9717845916748047, 1.0062735080718994, 0.971780002117157, 0.8136592507362366, 0.18081317842006683, 1.0292197465896606, 1.0292043685913086, 1.0292152166366577, 0.5755678415298462, 0.16510313749313354, 0.1261204481124878, 0.1329997479915619, 0.7731520533561707, 0.08590579032897949, 0.17181158065795898, 0.22170859575271606, 0.32972049713134766, 0.3410901725292206, 0.10232704877853394, 0.7462577819824219, 0.08291753381490707, 0.16583506762981415, 1.0064873695373535, 1.0054526329040527, 0.8372114896774292, 0.2449483424425125, 0.7348450422286987, 0.4430655539035797, 0.06329508125782013, 0.2742786705493927, 0.23208196461200714, 0.988962709903717, 0.41752368211746216, 0.029823120683431625, 0.08946935832500458, 0.4473468065261841, 1.029076099395752, 1.029318928718567, 0.9722452163696289, 0.9889512658119202, 1.0064923763275146, 0.31317752599716187, 0.06263550370931625, 0.6263550519943237, 0.4030914902687073, 0.37208443880081177, 0.18604221940040588, 0.20574894547462463, 0.6535554528236389, 0.10892590880393982, 0.024205757305026054, 1.006193995475769, 0.28719839453697205, 0.20887157320976257, 0.10443578660488129, 0.41774314641952515, 0.8614755868911743, 0.04307377710938454, 0.04307377710938454, 0.04307377710938454, 0.1113043799996376, 0.7791306972503662, 0.1113043799996376, 1.029211163520813, 1.0293415784835815, 1.0065089464187622, 0.8418471813201904, 0.1530631184577942, 0.9722084403038025, 0.98931485414505, 0.29991596937179565, 0.3449033498764038, 0.22493696212768555, 0.11996638029813766, 1.0062689781188965, 0.9716534614562988, 0.9889770150184631, 1.0064996480941772, 1.006508469581604, 0.7356898784637451, 0.08655174821615219, 0.17310349643230438, 0.3798961937427521, 0.3798961937427521, 0.05180402472615242, 0.18994809687137604, 0.14618805050849915, 0.8771283030509949, 0.7356940507888794, 0.2627478837966919, 0.09304001182317734, 0.8373600840568542, 0.9716545939445496, 0.9888945817947388, 0.9717954397201538, 1.0065022706985474, 1.0287069082260132, 0.45842090249061584, 0.2380262315273285, 0.09256575256586075, 0.2115788757801056, 0.6045739054679871, 0.18137216567993164, 0.1662578284740448, 0.060457389801740646, 0.4856272339820862, 0.32041382789611816, 0.08510992676019669, 0.10513579100370407, 0.9889095425605774, 1.0062562227249146, 0.9888667464256287, 1.0059064626693726, 0.9888882040977478, 1.0291821956634521, 0.8900988101959229, 0.11126235127449036, 1.0065032243728638, 1.0065044164657593, 1.0065107345581055, 0.9887399077415466, 1.0062074661254883, 0.6100888252258301, 0.1394488662481308, 0.1045866534113884, 0.1394488662481308, 1.0291410684585571, 1.0065062046051025, 0.15058253705501556, 0.05019418150186539, 0.752912700176239, 1.029121994972229, 1.006116271018982, 0.9888012409210205, 0.9889227151870728, 0.18013544380664825, 0.7805869579315186, 0.06004514917731285, 0.9716070890426636, 1.006261944770813, 0.9892420172691345, 1.0291441679000854, 1.0293195247650146, 0.9726046919822693, 1.0291885137557983, 0.9717777371406555, 1.0062496662139893, 0.9893033504486084, 0.9715783596038818, 0.9888945817947388, 0.904559850692749, 0.04307427629828453, 0.04307427629828453, 0.3236584961414337, 0.4258664548397064, 0.10220795124769211, 0.15331192314624786, 0.5678446292877197, 0.26948559284210205, 0.11549382656812668, 0.03849794343113899, 0.2767605483531952, 0.6457746028900146, 0.04612676054239273, 0.9717863202095032, 0.9887592792510986, 0.9731040596961975, 0.9750290513038635, 1.0293267965316772, 0.09147820621728897, 0.9147821068763733, 0.3272223174571991, 0.3242202699184418, 0.20113664865493774, 0.15010197460651398, 0.9741725921630859, 0.20069852471351624, 0.05017463117837906, 0.7526194453239441, 0.9889159202575684, 0.9717838168144226, 1.0065629482269287, 0.7150464057922363, 0.09326691925525665, 0.15544487535953522, 0.031088974326848984, 0.9887855052947998, 0.9896278381347656, 0.9331000447273254, 0.05488823726773262, 1.005542516708374, 1.0052783489227295, 1.029257893562317, 0.9717877507209778, 1.005388617515564, 1.0060526132583618, 0.98847496509552, 1.00649893283844, 1.0293203592300415, 0.9889074563980103, 0.9889110326766968, 1.0291074514389038, 0.9718371629714966, 0.9730320572853088, 0.8051826357841492, 0.1420910507440567, 0.047363683581352234, 0.9717836976051331, 0.3792588710784912, 0.2230934500694275, 0.401568204164505, 0.02230934612452984, 0.9717836976051331, 0.9887583255767822, 0.9717764854431152, 0.9894604682922363, 1.0062720775604248, 1.0293350219726562, 0.9717987775802612, 0.9733709096908569, 0.1254032552242279, 0.7524194717407227, 0.988917350769043, 1.0065839290618896, 0.21226289868354797, 0.07075429707765579, 0.31839433312416077, 0.38914862275123596, 0.13696448504924774, 0.04565482959151268, 0.8217869400978088, 0.9889630675315857, 0.9716066718101501, 0.9889135956764221, 0.06265050917863846, 0.12530101835727692, 0.6265050768852234, 0.18795152008533478, 0.9891194701194763, 0.15858596563339233, 0.4757578670978546, 0.35681840777397156, 0.2886461019515991, 0.48107680678367615, 0.1683768779039383, 0.07216152548789978, 1.0292181968688965, 1.0292596817016602, 1.029242992401123, 0.9887164831161499, 0.6090759038925171, 0.22148214280605316, 0.05537053570151329, 0.11074107140302658, 0.972211480140686, 0.5936184525489807, 0.16189594566822052, 0.12591907382011414, 0.11992292106151581, 0.3417424261569977, 0.3873080611228943, 0.0683484822511673, 0.1822626143693924, 1.0291401147842407, 0.20062772929668427, 0.050156932324171066, 0.7523539662361145, 0.06819155067205429, 0.8182985782623291, 0.13638310134410858, 1.0292048454284668, 1.0290930271148682, 0.30058401823043823, 0.10735143721103668, 0.1288217157125473, 0.45087602734565735, 0.831612229347229, 0.0959552526473999, 0.0639701709151268, 1.0293163061141968, 0.1116761565208435, 0.893409252166748, 1.0065315961837769, 1.0062344074249268, 0.9889112114906311, 0.4513532221317291, 0.20605255663394928, 0.2845487594604492, 0.05887215584516525, 0.5366633534431458, 0.25801122188568115, 0.1548067331314087, 0.05160224437713623, 0.21232180297374725, 0.276018351316452, 0.19108961522579193, 0.3184826970100403, 1.0293636322021484, 1.00623619556427, 0.9720722436904907, 0.9201229214668274, 0.10223588347434998, 1.02919602394104, 1.005814790725708, 0.9894962906837463, 0.9726863503456116, 0.7279682159423828, 0.11494234949350357, 0.15325646102428436, 0.9726266264915466, 0.9717835783958435, 1.0065110921859741, 0.051293421536684036, 0.8719881176948547, 0.051293421536684036, 1.0065137147903442, 0.764697253704071, 0.11470459401607513, 0.07646972686052322, 0.03823486343026161, 0.9717873930931091, 0.17781762778759003, 0.08890881389379501, 0.7112705111503601, 0.12781231105327606, 0.8307799696922302, 0.9717947244644165, 1.0292463302612305, 1.0272011756896973, 1.0074774026870728, 0.9889127612113953, 0.9898123145103455, 0.9896225929260254, 0.2914155423641205, 0.5166003108024597, 0.013246161863207817, 0.18544626235961914, 0.9889131188392639, 1.007541298866272, 0.9717816710472107, 0.1957787275314331, 0.7831149101257324, 0.34007954597473145, 0.3257604241371155, 0.1789892315864563, 0.15393073856830597, 0.6881838440895081, 0.04048140347003937, 0.2833698093891144, 0.3506423830986023, 0.10644500702619553, 0.16279824078083038, 0.3819497227668762, 0.9730273485183716, 0.06778887659311295, 0.6100999116897583, 0.2372610718011856, 0.06778887659311295, 0.1255732774734497, 0.879012942314148, 0.8447614908218384, 0.12068021297454834, 0.9723948240280151, 1.0065505504608154, 0.971592366695404, 0.8360673785209656, 0.16721348464488983, 0.9020141959190369, 0.10022380203008652, 0.08373448997735977, 0.9210793375968933, 1.0292165279388428, 1.0067602396011353, 1.02909255027771, 0.9718055725097656, 0.9894184470176697, 0.988897979259491, 1.0292962789535522, 0.9717832803726196, 1.0291792154312134, 0.9718182682991028, 0.09690506011247635, 0.7752404808998108, 0.14535757899284363, 0.25467678904533386, 0.7215842604637146, 0.9895652532577515, 0.16447411477565765, 0.3563605844974518, 0.4660100042819977, 0.9591150283813477, 0.06850821524858475, 1.0293058156967163, 1.029313087463379, 0.8625116348266602, 0.9889113903045654, 1.0291780233383179, 1.0062453746795654, 0.08113538473844528, 0.8924891948699951, 0.9887638092041016, 0.9889342188835144, 1.0068199634552002, 0.06701124459505081, 0.9381574392318726, 0.6110541820526123, 0.2777518928050995, 0.055550381541252136, 0.055550381541252136, 1.029147744178772, 0.9740167260169983, 0.5859085321426392, 0.043943140655756, 0.351545125246048, 0.01464771293103695, 0.5962315797805786, 0.04968596622347832, 0.24842983484268188, 0.09937193244695663, 0.9722756743431091, 0.9717766046524048, 0.9726804494857788, 0.8374117612838745, 0.9902731776237488, 1.0065234899520874, 0.9886816740036011, 0.9888004660606384, 1.0281453132629395, 0.9057298898696899, 1.0059146881103516, 1.0065419673919678, 1.0065412521362305, 0.9896231293678284, 1.006502628326416, 1.00615394115448, 0.8819938898086548, 0.11024923622608185, 0.971592366695404, 0.19685037434101105, 0.06561679393053055, 0.1312335878610611, 0.5905511379241943, 0.24657244980335236, 0.7397173643112183, 0.9889286160469055, 0.07900769263505936, 0.9480923414230347, 0.9889113903045654, 0.9889179468154907, 0.0416095070540905, 0.1456332802772522, 0.5409235954284668, 0.2912665605545044, 1.006537675857544, 0.9888940453529358, 0.09376557916402817, 0.09376557916402817, 0.14064837992191315, 0.656359076499939, 1.028376579284668, 0.8777210712432861, 1.0065457820892334, 0.9731943011283875, 0.9888843894004822, 0.21618272364139557, 0.3341005742549896, 0.21618272364139557, 0.21618272364139557, 0.9890482425689697, 0.9718257188796997, 0.41479000449180603, 0.3602123558521271, 0.14190183579921722, 0.08732420951128006, 0.8391014337539673, 0.09323348850011826, 0.15483839809894562, 0.05161280184984207, 0.05161280184984207, 0.7225792407989502, 1.006569504737854, 1.00705885887146, 0.3052721321582794, 0.25439345836639404, 0.27135300636291504, 0.1695956289768219, 0.34432482719421387, 0.17216241359710693, 0.21042072772979736, 0.267808198928833, 0.988899290561676, 0.8654147982597351, 0.12363068759441376, 1.0065131187438965, 0.9645043611526489, 0.9717840552330017, 1.029153823852539, 0.1476772576570511, 0.08438700437545776, 0.3586447536945343, 0.4008382558822632, 0.9726952314376831, 1.0060169696807861, 1.0065321922302246, 1.0292184352874756, 1.029140591621399, 0.9717794060707092, 1.0068559646606445, 0.9742457270622253, 0.1253610998392105, 0.87752765417099, 1.0065186023712158, 0.9717859625816345, 0.8526946306228638, 0.1421157717704773, 0.9736400842666626, 0.20302440226078033, 0.5583171248435974, 0.22840246558189392, 0.040938131511211395, 0.7778245210647583, 0.16375252604484558, 0.988749086856842, 0.988652765750885], \"Term\": [\"\", \"\", \"\", \"\", \"$\", \"$\", \"$\", \"$\", \"%\", \"%\", \"%\", \"%\", \"0\", \"0\", \"0\", \"0\", \"00228\", \"110\", \"112\", \"119\", \"120\", \"125\", \"136\", \"160\", \"160\", \"160\", \"165\", \"200\", \"200\", \"200\", \"200\", \"2018\", \"2018\", \"2018\", \"2018\", \"26\", \"3\", \"3\", \"3\", \"3\", \"33\", \"3600\", \"3xbit\", \"4400\", \"4k\", \"50k\", \"8216\", \"8216\", \"8216\", \"8216\", \"8217\", \"8217\", \"8217\", \"8217\", \"8230\", \"8230\", \"8230\", \"8230\", \"abc\", \"accept\", \"account\", \"account\", \"afraid\", \"allianz\", \"amazon\", \"amazon\", \"amazon\", \"amidst\", \"among\", \"among\", \"analysis\", \"analysis\", \"analysis\", \"analysis\", \"appeared\", \"appeared\", \"appeared\", \"appeared\", \"apple\", \"arcade\", \"arisebank\", \"arrested\", \"arrests\", \"arrr\", \"assistance\", \"atm\", \"attorney\", \"attracts\", \"awarded\", \"azure\", \"back\", \"back\", \"back\", \"back\", \"backs\", \"based\", \"based\", \"based\", \"based\", \"basel\", \"basis\", \"bchabc\", \"belonged\", \"beneficial\", \"best\", \"best\", \"betting\", \"bill\", \"billboard\", \"bitcoin\", \"bitcoin\", \"bitcoin\", \"bitcoin\", \"bitcoinist\", \"bitcoinist\", \"bitcoinist\", \"blockchain\", \"blockchain\", \"blockchain\", \"blockchain\", \"blokt\", \"blokt\", \"blokt\", \"blv\", \"bounce\", \"boxer\", \"break\", \"break\", \"btc\", \"btc\", \"btc\", \"btc\", \"bubble\", \"bullish\", \"bullish\", \"bullish\", \"bullish\", \"buterin\", \"campaign\", \"canadas\", \"cantonal\", \"capitulated\", \"case\", \"case\", \"case\", \"cash\", \"cash\", \"cash\", \"ccn\", \"ccn\", \"ccn\", \"ccn\", \"celebrate\", \"ceo\", \"ceo\", \"ceo\", \"ceo\", \"chairman\", \"chairman\", \"chairman\", \"chairman\", \"channel\", \"channel\", \"channel\", \"china\", \"chronoswiss\", \"circa\", \"clayton\", \"clayton\", \"closure\", \"code\", \"coinbase\", \"coinbase\", \"coinbase\", \"coinbase\", \"coinmine\", \"coinnouncesupport\", \"coinshares\", \"coinspeakergoldman\", \"coinspeakerhyperledger\", \"commission\", \"commission\", \"commission\", \"company\", \"company\", \"company\", \"company\", \"conduct\", \"conduct\", \"conference\", \"conference\", \"connected\", \"connected\", \"connects\", \"consolidates\", \"consult\", \"crashes\", \"crude\", \"crypto\", \"crypto\", \"crypto\", \"crypto\", \"cryptocurrencies\", \"cryptocurrencies\", \"cryptocurrencies\", \"cryptocurrencies\", \"cryptocurrency\", \"cryptocurrency\", \"cryptocurrency\", \"cryptocurrency\", \"cryptojacking\", \"cryptomining\", \"cryptopia\", \"curiel\", \"cybersecurity\", \"damages\", \"database\", \"database\", \"demo\", \"demos\", \"deployed\", \"derivatives\", \"device\", \"digital\", \"digital\", \"digital\", \"digital\", \"diligence\", \"disappearance\", \"dj\", \"dj\", \"dj\", \"doctorate\", \"doge\", \"doji\", \"double\", \"due\", \"due\", \"due\", \"dundee\", \"easily\", \"economic\", \"economics\", \"efficiently\", \"ema\", \"endorse\", \"engulfing\", \"enter\", \"especially\", \"estate\", \"estimate\", \"etf\", \"etf\", \"etf\", \"ethereum\", \"ethereum\", \"ethereum\", \"ethereum\", \"exchange\", \"exchange\", \"exchange\", \"exchange\", \"exchanges\", \"exchanges\", \"exchanges\", \"explanation\", \"expo\", \"faces\", \"fbi\", \"finances\", \"finney\", \"finney\", \"first\", \"first\", \"first\", \"first\", \"flipside\", \"floyd\", \"floyd\", \"floyd\", \"footsteps\", \"forth\", \"forumblockchain\", \"found\", \"found\", \"found\", \"found\", \"frankfurt\", \"fun\", \"futures\", \"futures\", \"gamb\", \"gaming\", \"gg\", \"glamorous\", \"gmb\", \"gonzalo\", \"green\", \"hacked\", \"hate\", \"hightest\", \"hong\", \"honorary\", \"hopes\", \"hundreds\", \"huobi\", \"huobi\", \"huobi\", \"hurdles\", \"ico\", \"ico\", \"ico\", \"ico\", \"imminent\", \"indecision\", \"integrity\", \"intercontinental\", \"inventor\", \"invoice\", \"ireland\", \"jared\", \"jr\", \"jr\", \"justin\", \"keeping\", \"key\", \"key\", \"key\", \"key\", \"khaled\", \"khaled\", \"khaled\", \"kingminer\", \"knomad\", \"kong\", \"ledger\", \"ledger\", \"ledger\", \"ledger\", \"lee\", \"level\", \"level\", \"level\", \"live\", \"live\", \"live\", \"live\", \"lottery\", \"lotto\", \"love\", \"lumens\", \"major\", \"major\", \"major\", \"major\", \"manager\", \"market\", \"market\", \"market\", \"market\", \"markets\", \"markets\", \"markets\", \"markets\", \"material\", \"mayweather\", \"mayweather\", \"mayweather\", \"mentioned\", \"mentioned\", \"mentioned\", \"mentionedthe\", \"michael\", \"million\", \"million\", \"million\", \"million\", \"mining\", \"mining\", \"mining\", \"mumsnet\", \"music\", \"music\", \"mysterious\", \"nakamoto\", \"nasdaq\", \"new\", \"new\", \"new\", \"new\", \"news\", \"news\", \"news\", \"news\", \"newsbtc\", \"newsbtc\", \"newsbtc\", \"newsbtc\", \"nlx\", \"nour\", \"officers\", \"oil\", \"oil\", \"oldest\", \"opcode\", \"operator\", \"ordered\", \"originally\", \"originally\", \"originally\", \"outlook\", \"oversold\", \"p2pfoundation\", \"paid\", \"paid\", \"paid\", \"paperless\", \"past\", \"past\", \"past\", \"past\", \"patient\", \"pay\", \"pay\", \"pay\", \"payment\", \"payment\", \"peaceful\", \"peso\", \"philippines\", \"phone\", \"pirate\", \"plan\", \"planets\", \"platform\", \"platform\", \"platform\", \"platform\", \"plattsburgh\", \"play\", \"playbook\", \"points\", \"points\", \"post\", \"post\", \"post\", \"post\", \"press\", \"press\", \"press\", \"price\", \"price\", \"price\", \"price\", \"prison\", \"pro\", \"pro\", \"pro\", \"pro\", \"producer\", \"producer\", \"product\", \"product\", \"projections\", \"pseudonymous\", \"publicly\", \"qldb\", \"qldb\", \"quantum\", \"quantum\", \"quot\", \"quot\", \"raise\", \"ralph\", \"readers\", \"rebounded\", \"record\", \"recovers\", \"regulating\", \"reinvents\", \"relationship\", \"relative\", \"release\", \"release\", \"release\", \"research\", \"research\", \"researchers\", \"resistance\", \"resistance\", \"resistance\", \"responsible\", \"responsible\", \"restructure\", \"restructuring\", \"retracement\", \"return\", \"reuters\", \"revolut\", \"rice\", \"rice\", \"ride\", \"rig\", \"safeguards\", \"satoshi\", \"satoshi\", \"says\", \"says\", \"says\", \"says\", \"science\", \"scoring\", \"sec\", \"sec\", \"sec\", \"sec\", \"securities\", \"securities\", \"securities\", \"securities\", \"securitize\", \"seed\", \"senior\", \"settled\", \"seven\", \"shades\", \"shares\", \"shut\", \"similar\", \"sirin\", \"smartphone\", \"sold\", \"sp2p\", \"specified\", \"speculate\", \"spikes\", \"sprecher\", \"sprecher\", \"stabilizing\", \"startup\", \"startup\", \"startup\", \"startup\", \"steem\", \"steem\", \"struggles\", \"submitted\", \"submitted\", \"sun\", \"supplier\", \"support\", \"support\", \"support\", \"support\", \"supposedly\", \"taught\", \"term\", \"term\", \"term\", \"term\", \"tether\", \"texas\", \"theater\", \"thinks\", \"threat\", \"time\", \"time\", \"time\", \"time\", \"tom\", \"tradethe\", \"trading\", \"trading\", \"trading\", \"trading\", \"treasury\", \"treasury\", \"trend\", \"trend\", \"trend\", \"trend\", \"trilogy\", \"trustnodes\", \"two\", \"two\", \"two\", \"two\", \"u\", \"u\", \"u\", \"u\", \"unauthorized\", \"unique\", \"unique\", \"units\", \"university\", \"upper\", \"urges\", \"usd\", \"usd\", \"usd\", \"usd\", \"ventures\", \"verifiable\", \"versions\", \"vick\", \"vitalik\", \"wants\", \"wary\", \"watch\", \"web\", \"web\", \"weirdly\", \"willing\", \"york\", \"york\", \"yusko\", \"zcash\", \"zcash\", \"zcash\", \"zec\", \"zec\", \"zec\", \"zug\", \"|\"]}, \"R\": 30, \"lambda.step\": 0.01, \"plot.opts\": {\"xlab\": \"PC1\", \"ylab\": \"PC2\"}, \"topic.order\": [2, 1, 3, 4]};\n",
       "\n",
       "function LDAvis_load_lib(url, callback){\n",
       "  var s = document.createElement('script');\n",
       "  s.src = url;\n",
       "  s.async = true;\n",
       "  s.onreadystatechange = s.onload = callback;\n",
       "  s.onerror = function(){console.warn(\"failed to load library \" + url);};\n",
       "  document.getElementsByTagName(\"head\")[0].appendChild(s);\n",
       "}\n",
       "\n",
       "if(typeof(LDAvis) !== \"undefined\"){\n",
       "   // already loaded: just create the visualization\n",
       "   !function(LDAvis){\n",
       "       new LDAvis(\"#\" + \"ldavis_el47421405650644436085076307295\", ldavis_el47421405650644436085076307295_data);\n",
       "   }(LDAvis);\n",
       "}else if(typeof define === \"function\" && define.amd){\n",
       "   // require.js is available: use it to load d3/LDAvis\n",
       "   require.config({paths: {d3: \"https://cdnjs.cloudflare.com/ajax/libs/d3/3.5.5/d3.min\"}});\n",
       "   require([\"d3\"], function(d3){\n",
       "      window.d3 = d3;\n",
       "      LDAvis_load_lib(\"https://cdn.rawgit.com/bmabey/pyLDAvis/files/ldavis.v1.0.0.js\", function(){\n",
       "        new LDAvis(\"#\" + \"ldavis_el47421405650644436085076307295\", ldavis_el47421405650644436085076307295_data);\n",
       "      });\n",
       "    });\n",
       "}else{\n",
       "    // require.js not available: dynamically load d3 & LDAvis\n",
       "    LDAvis_load_lib(\"https://cdnjs.cloudflare.com/ajax/libs/d3/3.5.5/d3.min.js\", function(){\n",
       "         LDAvis_load_lib(\"https://cdn.rawgit.com/bmabey/pyLDAvis/files/ldavis.v1.0.0.js\", function(){\n",
       "                 new LDAvis(\"#\" + \"ldavis_el47421405650644436085076307295\", ldavis_el47421405650644436085076307295_data);\n",
       "            })\n",
       "         });\n",
       "}\n",
       "</script>"
      ],
      "text/plain": [
       "PreparedData(topic_coordinates=                x           y  topics  cluster       Freq\n",
       "topic                                                    \n",
       "1     -324.249390 -289.197083       1        1  38.316200\n",
       "0     -200.549118 -570.859375       2        1  26.021770\n",
       "2      -42.603127 -165.460297       3        1  19.008968\n",
       "3       81.096878 -447.122253       4        1  16.653061, topic_info=     Category        Freq            Term       Total  loglift  logprob\n",
       "361   Default  272.000000               $  272.000000  30.0000  30.0000\n",
       "260   Default  159.000000           price  159.000000  29.0000  29.0000\n",
       "913   Default   42.000000          amazon   42.000000  28.0000  28.0000\n",
       "109   Default  175.000000      blockchain  175.000000  27.0000  27.0000\n",
       "72    Default   82.000000             ccn   82.000000  26.0000  26.0000\n",
       "1259  Default   48.000000         support   48.000000  25.0000  25.0000\n",
       "97    Default   68.000000             sec   68.000000  24.0000  24.0000\n",
       "1465  Default   36.000000      resistance   36.000000  23.0000  23.0000\n",
       "934   Default   47.000000             usd   47.000000  22.0000  22.0000\n",
       "955   Default   21.000000          khaled   21.000000  21.0000  21.0000\n",
       "1123  Default   14.000000        nakamoto   14.000000  20.0000  20.0000\n",
       "122   Default   75.000000        platform   75.000000  19.0000  19.0000\n",
       "947   Default   42.000000               0   42.000000  18.0000  18.0000\n",
       "40    Default  333.000000           first  333.000000  17.0000  17.0000\n",
       "603   Default   46.000000         million   46.000000  16.0000  16.0000\n",
       "54    Default   14.000000         satoshi   14.000000  15.0000  15.0000\n",
       "46    Default   62.000000          mining   62.000000  14.0000  14.0000\n",
       "541   Default   19.000000              dj   19.000000  13.0000  13.0000\n",
       "549   Default   19.000000      mayweather   19.000000  12.0000  12.0000\n",
       "543   Default   19.000000           floyd   19.000000  11.0000  11.0000\n",
       "587   Default   12.000000             120   12.000000  10.0000  10.0000\n",
       "178   Default   15.000000      university   15.000000   9.0000   9.0000\n",
       "1034  Default   19.000000           trend   19.000000   8.0000   8.0000\n",
       "37    Default  226.000000          crypto  226.000000   7.0000   7.0000\n",
       "607   Default   12.000000            rice   12.000000   6.0000   6.0000\n",
       "1227  Default   33.000000         bullish   33.000000   5.0000   5.0000\n",
       "1032  Default   21.000000            term   21.000000   4.0000   4.0000\n",
       "1355  Default   24.000000             zec   24.000000   3.0000   3.0000\n",
       "553   Default   19.000000            paid   19.000000   2.0000   2.0000\n",
       "589   Default   11.000000       arisebank   11.000000   1.0000   1.0000\n",
       "...       ...         ...             ...         ...      ...      ...\n",
       "956    Topic4    8.118007             pay   11.247478   1.4665  -6.0439\n",
       "260    Topic4   61.136250           price  159.706879   0.8323  -4.0249\n",
       "2610   Topic4    6.001902           steem    8.111206   1.4914  -6.3459\n",
       "603    Topic4   20.984663         million   46.575996   0.9953  -5.0942\n",
       "1465   Topic4   17.432028      resistance   36.479904   1.0541  -5.2797\n",
       "934    Topic4   19.368164             usd   47.400665   0.8976  -5.1744\n",
       "1227   Topic4   15.296698         bullish   33.531033   1.0077  -5.4104\n",
       "1549   Topic4   10.798373               3   20.313902   1.1607  -5.7586\n",
       "609    Topic4    8.944323         startup   15.240002   1.2597  -5.9470\n",
       "37     Topic4   48.247757          crypto  226.865753   0.2446  -4.2616\n",
       "592    Topic4   15.553089             ceo   38.301048   0.8914  -5.3937\n",
       "1002   Topic4   14.473680        analysis   34.275711   0.9305  -5.4657\n",
       "947    Topic4   15.790325               0   42.428230   0.8042  -5.3786\n",
       "35     Topic4   58.203423         bitcoin  436.091064  -0.2213  -4.0740\n",
       "40     Topic4   49.702103           first  333.106873  -0.1098  -4.2319\n",
       "50     Topic4   43.408508            post  279.346405  -0.0692  -4.3673\n",
       "34     Topic4   40.496021        appeared  267.393829  -0.0949  -4.4368\n",
       "301    Topic4   14.755003         newsbtc   47.098320   0.6319  -5.4464\n",
       "1259   Topic4   13.991406         support   48.065937   0.5584  -5.4995\n",
       "276    Topic4   14.383239               u   52.276218   0.5021  -5.4719\n",
       "1462   Topic4   11.270858             key   28.266834   0.8731  -5.7158\n",
       "129    Topic4   26.195797                  293.780365  -0.6247  -4.8724\n",
       "133    Topic4   18.942642            8230  131.264496  -0.1432  -5.1966\n",
       "62     Topic4   20.098278          market  166.773788  -0.3234  -5.1374\n",
       "144    Topic4   21.107830  cryptocurrency  199.741684  -0.4548  -5.0883\n",
       "109    Topic4   18.347544      blockchain  175.906570  -0.4679  -5.2285\n",
       "122    Topic4   13.844793        platform   75.493568   0.0964  -5.5101\n",
       "913    Topic4   12.096492          amazon   42.155724   0.5441  -5.6451\n",
       "275    Topic4   11.428143            time   50.882881   0.2991  -5.7019\n",
       "132    Topic4   12.026979            8217  177.790527  -0.9009  -5.6508\n",
       "\n",
       "[446 rows x 6 columns], token_table=      Topic      Freq        Term\n",
       "term                             \n",
       "129       1  0.544625            \n",
       "129       2  0.166791            \n",
       "129       3  0.200830            \n",
       "129       4  0.088501            \n",
       "361       1  0.318761           $\n",
       "361       2  0.065951           $\n",
       "361       3  0.135565           $\n",
       "361       4  0.476309           $\n",
       "362       1  0.345025           %\n",
       "362       2  0.246446           %\n",
       "362       3  0.295736           %\n",
       "362       4  0.115008           %\n",
       "947       1  0.235692           0\n",
       "947       2  0.023569           0\n",
       "947       3  0.353538           0\n",
       "947       4  0.377107           0\n",
       "1456      3  1.006507       00228\n",
       "3954      4  0.971901         110\n",
       "2353      4  0.971967         112\n",
       "2354      4  0.972089         119\n",
       "587       4  0.973117         120\n",
       "2355      4  0.971784         125\n",
       "1915      1  0.989106         136\n",
       "612       1  0.403015         160\n",
       "612       2  0.518163         160\n",
       "612       4  0.086360         160\n",
       "2393      4  0.971799         165\n",
       "788       1  0.075559         200\n",
       "788       2  0.075559         200\n",
       "788       3  0.151117         200\n",
       "...     ...       ...         ...\n",
       "178       2  0.964504  university\n",
       "3714      4  0.971784       upper\n",
       "983       2  1.029154       urges\n",
       "934       1  0.147677         usd\n",
       "934       2  0.084387         usd\n",
       "934       3  0.358645         usd\n",
       "934       4  0.400838         usd\n",
       "935       4  0.972695    ventures\n",
       "3530      3  1.006017  verifiable\n",
       "1001      3  1.006532    versions\n",
       "3054      2  1.029218        vick\n",
       "179       2  1.029141     vitalik\n",
       "3506      4  0.971779       wants\n",
       "1042      3  1.006856        wary\n",
       "1531      4  0.974246       watch\n",
       "1364      1  0.125361         web\n",
       "1364      3  0.877528         web\n",
       "3266      3  1.006519     weirdly\n",
       "2900      4  0.971786     willing\n",
       "105       1  0.852695        york\n",
       "105       2  0.142116        york\n",
       "3130      4  0.973640       yusko\n",
       "1238      1  0.203024       zcash\n",
       "1238      2  0.558317       zcash\n",
       "1238      3  0.228402       zcash\n",
       "1355      1  0.040938         zec\n",
       "1355      2  0.777825         zec\n",
       "1355      3  0.163753         zec\n",
       "1730      1  0.988749         zug\n",
       "2051      1  0.988653           |\n",
       "\n",
       "[625 rows x 3 columns], R=30, lambda_step=0.01, plot_opts={'xlab': 'PC1', 'ylab': 'PC2'}, topic_order=[2, 1, 3, 4])"
      ]
     },
     "execution_count": 26,
     "metadata": {},
     "output_type": "execute_result"
    }
   ],
   "source": [
    "pyLDAvis.enable_notebook()\n",
    "viz\n",
    "#pyLDAvis.show(viz)"
   ]
  },
  {
   "cell_type": "code",
   "execution_count": 28,
   "metadata": {},
   "outputs": [],
   "source": [
    "data.to_csv(r'crpytodata_test_post_lda.csv', index = False)"
   ]
  }
 ],
 "metadata": {
  "kernelspec": {
   "display_name": "Python 3",
   "language": "python",
   "name": "python3"
  },
  "language_info": {
   "codemirror_mode": {
    "name": "ipython",
    "version": 3
   },
   "file_extension": ".py",
   "mimetype": "text/x-python",
   "name": "python",
   "nbconvert_exporter": "python",
   "pygments_lexer": "ipython3",
   "version": "3.6.7"
  }
 },
 "nbformat": 4,
 "nbformat_minor": 2
}
