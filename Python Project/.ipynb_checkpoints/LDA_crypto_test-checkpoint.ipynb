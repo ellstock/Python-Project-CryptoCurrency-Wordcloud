{
 "cells": [
  {
   "cell_type": "code",
   "execution_count": 1,
   "metadata": {
    "scrolled": true
   },
   "outputs": [],
   "source": [
    "import pandas as pd\n",
    "pd.set_option(\"display.max_colwidth\", 40)\n",
    "import numpy as np\n",
    "import re\n",
    "import spacy\n",
    "import nltk\n",
    "from nltk import FreqDist\n",
    "import gensim\n",
    "from gensim import corpora\n",
    "\n",
    "# libraries for visualization\n",
    "import pyLDAvis\n",
    "import pyLDAvis.gensim\n",
    "import matplotlib.pyplot as plt\n",
    "import seaborn as sns\n",
    "\n",
    "\n",
    "%matplotlib inline"
   ]
  },
  {
   "cell_type": "markdown",
   "metadata": {},
   "source": [
    "## Load  Data"
   ]
  },
  {
   "cell_type": "code",
   "execution_count": 3,
   "metadata": {},
   "outputs": [],
   "source": [
    "data = pd.read_csv(\"cryptodata_test_lemmatized\", sep=\",\", index_col=0)"
   ]
  },
  {
   "cell_type": "code",
   "execution_count": 5,
   "metadata": {
    "scrolled": true
   },
   "outputs": [
    {
     "data": {
      "text/plain": [
       "(500, 6)"
      ]
     },
     "execution_count": 5,
     "metadata": {},
     "output_type": "execute_result"
    }
   ],
   "source": [
    "data.shape"
   ]
  },
  {
   "cell_type": "code",
   "execution_count": 6,
   "metadata": {},
   "outputs": [
    {
     "data": {
      "text/html": [
       "<div>\n",
       "<style scoped>\n",
       "    .dataframe tbody tr th:only-of-type {\n",
       "        vertical-align: middle;\n",
       "    }\n",
       "\n",
       "    .dataframe tbody tr th {\n",
       "        vertical-align: top;\n",
       "    }\n",
       "\n",
       "    .dataframe thead th {\n",
       "        text-align: right;\n",
       "    }\n",
       "</style>\n",
       "<table border=\"1\" class=\"dataframe\">\n",
       "  <thead>\n",
       "    <tr style=\"text-align: right;\">\n",
       "      <th></th>\n",
       "      <th>body</th>\n",
       "      <th>stopword_reviews</th>\n",
       "      <th>body_as_str</th>\n",
       "      <th>tokens</th>\n",
       "      <th>review_lemmatized</th>\n",
       "      <th>body_lemmatized</th>\n",
       "    </tr>\n",
       "    <tr>\n",
       "      <th>time</th>\n",
       "      <th></th>\n",
       "      <th></th>\n",
       "      <th></th>\n",
       "      <th></th>\n",
       "      <th></th>\n",
       "      <th></th>\n",
       "    </tr>\n",
       "  </thead>\n",
       "  <tbody>\n",
       "    <tr>\n",
       "      <th>1543622368</th>\n",
       "      <td>CoinSpeakerProBit: Professional Digi...</td>\n",
       "      <td>['coinspeakerprobit', 'professional'...</td>\n",
       "      <td>CoinSpeakerProBit: Professional Digi...</td>\n",
       "      <td>['coinspeakerprobit', 'professional'...</td>\n",
       "      <td>['coinspeakerprob', 'professional', ...</td>\n",
       "      <td>['coinspeakerprob', 'professional', ...</td>\n",
       "    </tr>\n",
       "    <tr>\n",
       "      <th>1543620634</th>\n",
       "      <td>Today in crypto heard rumors of Sato...</td>\n",
       "      <td>['today', 'crypto', 'heard', 'rumors...</td>\n",
       "      <td>Today in crypto heard rumors of Sato...</td>\n",
       "      <td>['today', 'crypto', 'heard', 'rumors...</td>\n",
       "      <td>['today', 'crypto', 'heard', 'rumor'...</td>\n",
       "      <td>['today', 'crypto', 'heard', 'rumor'...</td>\n",
       "    </tr>\n",
       "    <tr>\n",
       "      <th>1543620300</th>\n",
       "      <td>Crashes in the crypto market resulte...</td>\n",
       "      <td>['crashes', 'crypto', 'market', 'res...</td>\n",
       "      <td>Crashes in the crypto market resulte...</td>\n",
       "      <td>['crashes', 'the', 'crypto', 'market...</td>\n",
       "      <td>['crash', 'the', 'crypto', 'market',...</td>\n",
       "      <td>['crash', 'the', 'crypto', 'market',...</td>\n",
       "    </tr>\n",
       "    <tr>\n",
       "      <th>1543620202</th>\n",
       "      <td>SEC Chairman Jay Clayton has claimed...</td>\n",
       "      <td>['sec', 'chairman', 'jay', 'clayton'...</td>\n",
       "      <td>SEC Chairman Jay Clayton has claimed...</td>\n",
       "      <td>['sec', 'chairman', 'jay', 'clayton'...</td>\n",
       "      <td>['sec', 'chairman', 'jay', 'clayton'...</td>\n",
       "      <td>['sec', 'chairman', 'jay', 'clayton'...</td>\n",
       "    </tr>\n",
       "    <tr>\n",
       "      <th>1543618813</th>\n",
       "      <td>There are four different Ethereum wo...</td>\n",
       "      <td>['four', 'different', 'ethereum', 'w...</td>\n",
       "      <td>There are four different Ethereum wo...</td>\n",
       "      <td>['there', 'are', 'four', 'different'...</td>\n",
       "      <td>['ther', 'are', 'four', 'different',...</td>\n",
       "      <td>['ther', 'are', 'four', 'different',...</td>\n",
       "    </tr>\n",
       "  </tbody>\n",
       "</table>\n",
       "</div>"
      ],
      "text/plain": [
       "                                               body  \\\n",
       "time                                                  \n",
       "1543622368  CoinSpeakerProBit: Professional Digi...   \n",
       "1543620634  Today in crypto heard rumors of Sato...   \n",
       "1543620300  Crashes in the crypto market resulte...   \n",
       "1543620202  SEC Chairman Jay Clayton has claimed...   \n",
       "1543618813  There are four different Ethereum wo...   \n",
       "\n",
       "                                   stopword_reviews  \\\n",
       "time                                                  \n",
       "1543622368  ['coinspeakerprobit', 'professional'...   \n",
       "1543620634  ['today', 'crypto', 'heard', 'rumors...   \n",
       "1543620300  ['crashes', 'crypto', 'market', 'res...   \n",
       "1543620202  ['sec', 'chairman', 'jay', 'clayton'...   \n",
       "1543618813  ['four', 'different', 'ethereum', 'w...   \n",
       "\n",
       "                                        body_as_str  \\\n",
       "time                                                  \n",
       "1543622368  CoinSpeakerProBit: Professional Digi...   \n",
       "1543620634  Today in crypto heard rumors of Sato...   \n",
       "1543620300  Crashes in the crypto market resulte...   \n",
       "1543620202  SEC Chairman Jay Clayton has claimed...   \n",
       "1543618813  There are four different Ethereum wo...   \n",
       "\n",
       "                                             tokens  \\\n",
       "time                                                  \n",
       "1543622368  ['coinspeakerprobit', 'professional'...   \n",
       "1543620634  ['today', 'crypto', 'heard', 'rumors...   \n",
       "1543620300  ['crashes', 'the', 'crypto', 'market...   \n",
       "1543620202  ['sec', 'chairman', 'jay', 'clayton'...   \n",
       "1543618813  ['there', 'are', 'four', 'different'...   \n",
       "\n",
       "                                  review_lemmatized  \\\n",
       "time                                                  \n",
       "1543622368  ['coinspeakerprob', 'professional', ...   \n",
       "1543620634  ['today', 'crypto', 'heard', 'rumor'...   \n",
       "1543620300  ['crash', 'the', 'crypto', 'market',...   \n",
       "1543620202  ['sec', 'chairman', 'jay', 'clayton'...   \n",
       "1543618813  ['ther', 'are', 'four', 'different',...   \n",
       "\n",
       "                                    body_lemmatized  \n",
       "time                                                 \n",
       "1543622368  ['coinspeakerprob', 'professional', ...  \n",
       "1543620634  ['today', 'crypto', 'heard', 'rumor'...  \n",
       "1543620300  ['crash', 'the', 'crypto', 'market',...  \n",
       "1543620202  ['sec', 'chairman', 'jay', 'clayton'...  \n",
       "1543618813  ['ther', 'are', 'four', 'different',...  "
      ]
     },
     "execution_count": 6,
     "metadata": {},
     "output_type": "execute_result"
    }
   ],
   "source": [
    "data.head()"
   ]
  },
  {
   "cell_type": "code",
   "execution_count": 7,
   "metadata": {},
   "outputs": [],
   "source": [
    "#the lemmantized_reviews are interpreted as a string by the read_csv command. We convert it into a list. \n",
    "data['stopword_reviews'] = data['stopword_reviews'].str.replace(r\"[\\[\\]\\']\", \"\").str.split(\", \")"
   ]
  },
  {
   "cell_type": "code",
   "execution_count": 8,
   "metadata": {},
   "outputs": [
    {
     "data": {
      "text/plain": [
       "time\n",
       "1543622368    [coinspeakerprobit, professional, di...\n",
       "1543620634    [today, crypto, heard, rumors, satos...\n",
       "1543620300    [crashes, crypto, market, resulted, ...\n",
       "1543620202    [sec, chairman, jay, clayton, claime...\n",
       "1543618813    [four, different, ethereum, working,...\n",
       "1543617903    [nov, 29, sirin, labs, announced, co...\n",
       "1543616700    [switzerlands, oldest, university, u...\n",
       "1543616305    [newer, hbus, cryptocurrency, exchan...\n",
       "1543616240    [met, u, securities, exchange, commi...\n",
       "1543615852    [latest, ethereum, 1x, meeting, cond...\n",
       "1543615242    [chinese, cryptocurrency, mining, ha...\n",
       "1543615229    [blockchain, phones, therage, right,...\n",
       "1543614900    [check, point, research, cybersecuri...\n",
       "1543613835    [belarus, following, model, set, for...\n",
       "1543612078    [casual, gamers, unite, stay, thats,...\n",
       "1543611643    [new, report, coinshares, bitcoin, m...\n",
       "1543611641    [one, co, founders, second, largest,...\n",
       "1543611625    [co, founder, ethereum, vitalik, but...\n",
       "1543611600    [2017, early, 2018, many, companies,...\n",
       "1543610632    [bitcoin, failed, attempt, currency,...\n",
       "1543610155    [since, recent, bitcoin, cash, bch, ...\n",
       "1543609200    [taiwanese, tech, giant, asus, allow...\n",
       "1543608273    [new, game, fund, tron, arcade, prov...\n",
       "1543608037    [boxing, champion, floyd, mayweather...\n",
       "1543608028    [bitcoin, &, 8217, ;, terrible, pric...\n",
       "1543607738    [ceo, blockchain, startup, arisebank...\n",
       "1543607728    [bitcoin, far, critical, loss, inves...\n",
       "1543607700    [fed, trawl, several, pages, exchang...\n",
       "1543606977    [legal, drama, partners, spoiled, un...\n",
       "1543606800    [u, sec, published, memorandum, late...\n",
       "                               ...                   \n",
       "1543429810    [first, time, ever, u, treasury, dep...\n",
       "1543428900    [prolific, hedge, fund, manager, mik...\n",
       "1543428675    [blockchain, disrupt, traditional, b...\n",
       "1543428600    [u, department, treasury, sanctioned...\n",
       "1543428050    [coinspeakerbitstamp, goes, tech, up...\n",
       "1543428008    [germany, got, second, bitcoin, atm,...\n",
       "1543427757    [sapphire, technology, one, largest,...\n",
       "1543427705    [&, 160, ;, paid, submitted, press, ...\n",
       "1543426982    [submitted, sponsored, story, &, 160...\n",
       "1543426831    [storebrand, leading, norwegian, fin...\n",
       "1543425929    [time, holidays, u, k, startup, laun...\n",
       "1543425036    [forced, lay, 70, %, organization, b...\n",
       "1543424555    [coinspeakertop, korean, enterprises...\n",
       "1543424446    [27, year, old, american, woman, ple...\n",
       "1543424426    [cryptocurrency, related, scams, com...\n",
       "1543423915    [coinspeakercoinadvice, conference, ...\n",
       "1543423828    [us, district, judge, gonzalo, curie...\n",
       "1543423742    [cryptocurrency, markets, experienci...\n",
       "1543423230    [coinspeakerfinance, expo, exclusive...\n",
       "1543423189    [markets, undergoing, recovery, past...\n",
       "1543422662    [coinspeakercybet, worlds, first, de...\n",
       "1543422603    [falling, $, 4, 000, mark, first, ti...\n",
       "1543422576    [securities, exchange, operator, nas...\n",
       "1543421145    [relentless, incursion, cryptocurren...\n",
       "1543421100    [coinbase, launched, counter, tradin...\n",
       "1543420943    [new, broker, dealer, end, user, ori...\n",
       "1543420851    [tapatalk, mobile, forum, applicatio...\n",
       "1543420803    [sec, indecision, led, companies, in...\n",
       "1543420803    [chairman, u, securities, exchange, ...\n",
       "1543420552    [knomad, global, knowledge, partners...\n",
       "Name: stopword_reviews, Length: 500, dtype: object"
      ]
     },
     "execution_count": 8,
     "metadata": {},
     "output_type": "execute_result"
    }
   ],
   "source": [
    "data['stopword_reviews'] #checking if it's a list"
   ]
  },
  {
   "cell_type": "code",
   "execution_count": 9,
   "metadata": {},
   "outputs": [],
   "source": [
    "data.dropna(subset=['stopword_reviews'], inplace=True)"
   ]
  },
  {
   "cell_type": "code",
   "execution_count": 10,
   "metadata": {
    "scrolled": true
   },
   "outputs": [
    {
     "data": {
      "text/plain": [
       "(500, 6)"
      ]
     },
     "execution_count": 10,
     "metadata": {},
     "output_type": "execute_result"
    }
   ],
   "source": [
    "data.shape"
   ]
  },
  {
   "cell_type": "markdown",
   "metadata": {},
   "source": [
    "## Remove words"
   ]
  },
  {
   "cell_type": "code",
   "execution_count": 11,
   "metadata": {},
   "outputs": [
    {
     "name": "stderr",
     "output_type": "stream",
     "text": [
      "[nltk_data] Downloading package stopwords to /home/elliot/nltk_data...\n",
      "[nltk_data]   Package stopwords is already up-to-date!\n"
     ]
    },
    {
     "data": {
      "text/plain": [
       "True"
      ]
     },
     "execution_count": 11,
     "metadata": {},
     "output_type": "execute_result"
    }
   ],
   "source": [
    "import nltk\n",
    "nltk.download(\"stopwords\")"
   ]
  },
  {
   "cell_type": "code",
   "execution_count": 12,
   "metadata": {
    "scrolled": true
   },
   "outputs": [
    {
     "ename": "SyntaxError",
     "evalue": "Missing parentheses in call to 'print'. Did you mean print(lang)? (__init__.py, line 84)",
     "output_type": "error",
     "traceback": [
      "Traceback \u001b[0;36m(most recent call last)\u001b[0m:\n",
      "  File \u001b[1;32m\"/home/elliot/.local/lib/python3.6/site-packages/IPython/core/interactiveshell.py\"\u001b[0m, line \u001b[1;32m3267\u001b[0m, in \u001b[1;35mrun_code\u001b[0m\n    exec(code_obj, self.user_global_ns, self.user_ns)\n",
      "\u001b[0;36m  File \u001b[0;32m\"<ipython-input-12-cc8ad7cccac1>\"\u001b[0;36m, line \u001b[0;32m1\u001b[0;36m, in \u001b[0;35m<module>\u001b[0;36m\u001b[0m\n\u001b[0;31m    import stopwords\u001b[0m\n",
      "\u001b[0;36m  File \u001b[0;32m\"/home/elliot/.local/lib/python3.6/site-packages/stopwords/__init__.py\"\u001b[0;36m, line \u001b[0;32m84\u001b[0m\n\u001b[0;31m    print lang\u001b[0m\n\u001b[0m             ^\u001b[0m\n\u001b[0;31mSyntaxError\u001b[0m\u001b[0;31m:\u001b[0m Missing parentheses in call to 'print'. Did you mean print(lang)?\n"
     ]
    }
   ],
   "source": [
    "import stopwords "
   ]
  },
  {
   "cell_type": "code",
   "execution_count": 13,
   "metadata": {},
   "outputs": [],
   "source": [
    "# We list the words we want to get rid of\"\n",
    "# list_stop_words = [\"i\",\"me\",\"my\",\"myself\",\"we\",\"our\",\"ours\",\"ourselves\",\"you\",\"your\",\"yours\",\"yourself\",\"yourselves\",\"he\",\"him\",\"his\",\"himself\",\"she\",\"her\",\"hers\",\"herself\",\"it\",\"its\",\"itself\",\"they\",\"them\",\"their\",\"theirs\",\"themselves\",\"what\",\"which\",\"who\",\"whom\",\"this\",\"that\",\"these\",\"those\",\"am\",\"is\",\"are\",\"was\",\"were\",\"be\",\"been\",\"being\",\"have\",\"has\",\"had\",\"having\",\"do\",\"does\",\"did\",\"doing\",\"a\",\"an\",\"the\",\"and\",\"but\",\"if\",\"or\",\"because\",\"as\",\"until\",\"while\",\"of\",\"at\",\"by\",\"for\",\"with\",\"about\",\"against\",\"between\",\"into\",\"through\",\"during\",\"before\",\"after\",\"above\",\"below\",\"to\",\"from\",\"up\",\"down\",\"in\",\"out\",\"on\",\"off\",\"over\",\"under\",\"again\",\"further\",\"then\",\"once\",\"here\",\"there\",\"when\",\"where\",\"why\",\"how\",\"all\",\"any\",\"both\",\"each\",\"few\",\"more\",\"most\",\"other\",\"some\",\"such\",\"no\",\"nor\",\"not\",\"only\",\"own\",\"same\",\"so\",\"than\",\"too\",\"very\",\"s\",\"t\",\"can\",\"will\",\"just\",\"don\",\"should\",\"now\"]\n",
    "list_stop_words = [\"&\", \";\", \"2\", \"get\",\"de\", \"got\", \"went\",\"much\",\"well\",\"day\",\"stay\",\"even\",\"could\",\"area\",\"also\",\"uk\",\"us\",\"one\",\"center\",\"really\",\"would\",\"4\",\"great\",\"good\",\"cottage\",\"parc\",\"parcs\",\"park\",\"parks\"]"
   ]
  },
  {
   "cell_type": "code",
   "execution_count": 14,
   "metadata": {},
   "outputs": [],
   "source": [
    "def remove_stop_word(x, list_stop_words=list_stop_words):\n",
    "    clean_x = [l for l in x if l not in list_stop_words]\n",
    "    return clean_x"
   ]
  },
  {
   "cell_type": "code",
   "execution_count": 15,
   "metadata": {},
   "outputs": [],
   "source": [
    "data['stopword_reviews'] = data['stopword_reviews'].apply(remove_stop_word)"
   ]
  },
  {
   "cell_type": "code",
   "execution_count": 16,
   "metadata": {},
   "outputs": [
    {
     "data": {
      "text/html": [
       "<div>\n",
       "<style scoped>\n",
       "    .dataframe tbody tr th:only-of-type {\n",
       "        vertical-align: middle;\n",
       "    }\n",
       "\n",
       "    .dataframe tbody tr th {\n",
       "        vertical-align: top;\n",
       "    }\n",
       "\n",
       "    .dataframe thead th {\n",
       "        text-align: right;\n",
       "    }\n",
       "</style>\n",
       "<table border=\"1\" class=\"dataframe\">\n",
       "  <thead>\n",
       "    <tr style=\"text-align: right;\">\n",
       "      <th></th>\n",
       "      <th>body</th>\n",
       "      <th>stopword_reviews</th>\n",
       "      <th>body_as_str</th>\n",
       "      <th>tokens</th>\n",
       "      <th>review_lemmatized</th>\n",
       "      <th>body_lemmatized</th>\n",
       "    </tr>\n",
       "    <tr>\n",
       "      <th>time</th>\n",
       "      <th></th>\n",
       "      <th></th>\n",
       "      <th></th>\n",
       "      <th></th>\n",
       "      <th></th>\n",
       "      <th></th>\n",
       "    </tr>\n",
       "  </thead>\n",
       "  <tbody>\n",
       "    <tr>\n",
       "      <th>1543622368</th>\n",
       "      <td>CoinSpeakerProBit: Professional Digi...</td>\n",
       "      <td>[coinspeakerprobit, professional, di...</td>\n",
       "      <td>CoinSpeakerProBit: Professional Digi...</td>\n",
       "      <td>['coinspeakerprobit', 'professional'...</td>\n",
       "      <td>['coinspeakerprob', 'professional', ...</td>\n",
       "      <td>['coinspeakerprob', 'professional', ...</td>\n",
       "    </tr>\n",
       "    <tr>\n",
       "      <th>1543620634</th>\n",
       "      <td>Today in crypto heard rumors of Sato...</td>\n",
       "      <td>[today, crypto, heard, rumors, satos...</td>\n",
       "      <td>Today in crypto heard rumors of Sato...</td>\n",
       "      <td>['today', 'crypto', 'heard', 'rumors...</td>\n",
       "      <td>['today', 'crypto', 'heard', 'rumor'...</td>\n",
       "      <td>['today', 'crypto', 'heard', 'rumor'...</td>\n",
       "    </tr>\n",
       "    <tr>\n",
       "      <th>1543620300</th>\n",
       "      <td>Crashes in the crypto market resulte...</td>\n",
       "      <td>[crashes, crypto, market, resulted, ...</td>\n",
       "      <td>Crashes in the crypto market resulte...</td>\n",
       "      <td>['crashes', 'the', 'crypto', 'market...</td>\n",
       "      <td>['crash', 'the', 'crypto', 'market',...</td>\n",
       "      <td>['crash', 'the', 'crypto', 'market',...</td>\n",
       "    </tr>\n",
       "    <tr>\n",
       "      <th>1543620202</th>\n",
       "      <td>SEC Chairman Jay Clayton has claimed...</td>\n",
       "      <td>[sec, chairman, jay, clayton, claime...</td>\n",
       "      <td>SEC Chairman Jay Clayton has claimed...</td>\n",
       "      <td>['sec', 'chairman', 'jay', 'clayton'...</td>\n",
       "      <td>['sec', 'chairman', 'jay', 'clayton'...</td>\n",
       "      <td>['sec', 'chairman', 'jay', 'clayton'...</td>\n",
       "    </tr>\n",
       "    <tr>\n",
       "      <th>1543618813</th>\n",
       "      <td>There are four different Ethereum wo...</td>\n",
       "      <td>[four, different, ethereum, working,...</td>\n",
       "      <td>There are four different Ethereum wo...</td>\n",
       "      <td>['there', 'are', 'four', 'different'...</td>\n",
       "      <td>['ther', 'are', 'four', 'different',...</td>\n",
       "      <td>['ther', 'are', 'four', 'different',...</td>\n",
       "    </tr>\n",
       "  </tbody>\n",
       "</table>\n",
       "</div>"
      ],
      "text/plain": [
       "                                               body  \\\n",
       "time                                                  \n",
       "1543622368  CoinSpeakerProBit: Professional Digi...   \n",
       "1543620634  Today in crypto heard rumors of Sato...   \n",
       "1543620300  Crashes in the crypto market resulte...   \n",
       "1543620202  SEC Chairman Jay Clayton has claimed...   \n",
       "1543618813  There are four different Ethereum wo...   \n",
       "\n",
       "                                   stopword_reviews  \\\n",
       "time                                                  \n",
       "1543622368  [coinspeakerprobit, professional, di...   \n",
       "1543620634  [today, crypto, heard, rumors, satos...   \n",
       "1543620300  [crashes, crypto, market, resulted, ...   \n",
       "1543620202  [sec, chairman, jay, clayton, claime...   \n",
       "1543618813  [four, different, ethereum, working,...   \n",
       "\n",
       "                                        body_as_str  \\\n",
       "time                                                  \n",
       "1543622368  CoinSpeakerProBit: Professional Digi...   \n",
       "1543620634  Today in crypto heard rumors of Sato...   \n",
       "1543620300  Crashes in the crypto market resulte...   \n",
       "1543620202  SEC Chairman Jay Clayton has claimed...   \n",
       "1543618813  There are four different Ethereum wo...   \n",
       "\n",
       "                                             tokens  \\\n",
       "time                                                  \n",
       "1543622368  ['coinspeakerprobit', 'professional'...   \n",
       "1543620634  ['today', 'crypto', 'heard', 'rumors...   \n",
       "1543620300  ['crashes', 'the', 'crypto', 'market...   \n",
       "1543620202  ['sec', 'chairman', 'jay', 'clayton'...   \n",
       "1543618813  ['there', 'are', 'four', 'different'...   \n",
       "\n",
       "                                  review_lemmatized  \\\n",
       "time                                                  \n",
       "1543622368  ['coinspeakerprob', 'professional', ...   \n",
       "1543620634  ['today', 'crypto', 'heard', 'rumor'...   \n",
       "1543620300  ['crash', 'the', 'crypto', 'market',...   \n",
       "1543620202  ['sec', 'chairman', 'jay', 'clayton'...   \n",
       "1543618813  ['ther', 'are', 'four', 'different',...   \n",
       "\n",
       "                                    body_lemmatized  \n",
       "time                                                 \n",
       "1543622368  ['coinspeakerprob', 'professional', ...  \n",
       "1543620634  ['today', 'crypto', 'heard', 'rumor'...  \n",
       "1543620300  ['crash', 'the', 'crypto', 'market',...  \n",
       "1543620202  ['sec', 'chairman', 'jay', 'clayton'...  \n",
       "1543618813  ['ther', 'are', 'four', 'different',...  "
      ]
     },
     "execution_count": 16,
     "metadata": {},
     "output_type": "execute_result"
    }
   ],
   "source": [
    "data.head()"
   ]
  },
  {
   "cell_type": "code",
   "execution_count": 17,
   "metadata": {},
   "outputs": [
    {
     "data": {
      "text/plain": [
       "(500, 6)"
      ]
     },
     "execution_count": 17,
     "metadata": {},
     "output_type": "execute_result"
    }
   ],
   "source": [
    "data.shape"
   ]
  },
  {
   "cell_type": "markdown",
   "metadata": {},
   "source": [
    "## Building an LDA model"
   ]
  },
  {
   "cell_type": "code",
   "execution_count": 18,
   "metadata": {},
   "outputs": [],
   "source": [
    "dictionary = corpora.Dictionary(data['stopword_reviews'])"
   ]
  },
  {
   "cell_type": "code",
   "execution_count": 19,
   "metadata": {},
   "outputs": [
    {
     "data": {
      "text/plain": [
       "4669"
      ]
     },
     "execution_count": 19,
     "metadata": {},
     "output_type": "execute_result"
    }
   ],
   "source": [
    "len(dictionary)"
   ]
  },
  {
   "cell_type": "code",
   "execution_count": 20,
   "metadata": {},
   "outputs": [],
   "source": [
    "doc_term_matrix = [dictionary.doc2bow(rev) for rev in data['stopword_reviews']]"
   ]
  },
  {
   "cell_type": "code",
   "execution_count": 23,
   "metadata": {},
   "outputs": [],
   "source": [
    "import warnings\n",
    "warnings.filterwarnings('ignore')\n",
    "\n",
    "# Creating the object for LDA model using gensim library\n",
    "LDA = gensim.models.ldamodel.LdaModel\n",
    "\n",
    "# Build LDA model\n",
    "num_topics = 4\n",
    "lda_model = LDA(corpus=doc_term_matrix, id2word=dictionary, \n",
    "                num_topics=num_topics, \n",
    "                alpha=[0.0001] * num_topics, \n",
    "                eta=[0.0001] * len(dictionary),\n",
    "                chunksize=2000,\n",
    "                passes=4,\n",
    "                random_state=100,\n",
    "               )"
   ]
  },
  {
   "cell_type": "code",
   "execution_count": 22,
   "metadata": {
    "scrolled": true
   },
   "outputs": [
    {
     "data": {
      "text/plain": [
       "[(0,\n",
       "  '0.019*\"first\" + 0.016*\"post\" + 0.015*\"appeared\" + 0.013*\"ccn\" + 0.013*\"cryptocurrency\"'),\n",
       " (1,\n",
       "  '0.036*\"bitcoin\" + 0.017*\"\" + 0.016*\"market\" + 0.015*\"first\" + 0.013*\"crypto\"'),\n",
       " (2,\n",
       "  '0.017*\"first\" + 0.014*\"\" + 0.014*\"bitcoin\" + 0.011*\"appeared\" + 0.011*\"post\"'),\n",
       " (3,\n",
       "  '0.055*\"$\" + 0.025*\"price\" + 0.020*\"bitcoin\" + 0.016*\"first\" + 0.014*\"post\"'),\n",
       " (4,\n",
       "  '0.023*\"bitcoin\" + 0.022*\"\" + 0.017*\"first\" + 0.015*\"8217\" + 0.015*\"post\"'),\n",
       " (5,\n",
       "  '0.013*\"platform\" + 0.013*\"first\" + 0.012*\"trading\" + 0.011*\"blockchain\" + 0.011*\"exchange\"')]"
      ]
     },
     "execution_count": 22,
     "metadata": {},
     "output_type": "execute_result"
    }
   ],
   "source": [
    "lda_model.print_topics(num_words=5)"
   ]
  },
  {
   "cell_type": "markdown",
   "metadata": {},
   "source": [
    "## Topic visualization"
   ]
  },
  {
   "cell_type": "code",
   "execution_count": 96,
   "metadata": {},
   "outputs": [],
   "source": [
    "# Visualize the topics\n",
    "pd.options.display.max_colwidth = 2000\n",
    "viz = pyLDAvis.gensim.prepare(lda_model, doc_term_matrix, dictionary, mds='tsne')"
   ]
  },
  {
   "cell_type": "code",
   "execution_count": 97,
   "metadata": {},
   "outputs": [
    {
     "data": {
      "text/html": [
       "\n",
       "<link rel=\"stylesheet\" type=\"text/css\" href=\"https://cdn.rawgit.com/bmabey/pyLDAvis/files/ldavis.v1.0.0.css\">\n",
       "\n",
       "\n",
       "<div id=\"ldavis_el55791405573682140564938008833\"></div>\n",
       "<script type=\"text/javascript\">\n",
       "\n",
       "var ldavis_el55791405573682140564938008833_data = {\"mdsDat\": {\"x\": [-632.0454711914062, -1209.6654052734375, -1437.4532470703125], \"y\": [-384.3250732421875, 212.16412353515625, -586.322509765625], \"topics\": [1, 2, 3], \"cluster\": [1, 1, 1], \"Freq\": [42.945159912109375, 31.503433227539062, 25.551403045654297]}, \"tinfo\": {\"Category\": [\"Default\", \"Default\", \"Default\", \"Default\", \"Default\", \"Default\", \"Default\", \"Default\", \"Default\", \"Default\", \"Default\", \"Default\", \"Default\", \"Default\", \"Default\", \"Default\", \"Default\", \"Default\", \"Default\", \"Default\", \"Default\", \"Default\", \"Default\", \"Default\", \"Default\", \"Default\", \"Default\", \"Default\", \"Default\", \"Default\", \"Topic1\", \"Topic1\", \"Topic1\", \"Topic1\", \"Topic1\", \"Topic1\", \"Topic1\", \"Topic1\", \"Topic1\", \"Topic1\", \"Topic1\", \"Topic1\", \"Topic1\", \"Topic1\", \"Topic1\", \"Topic1\", \"Topic1\", \"Topic1\", \"Topic1\", \"Topic1\", \"Topic1\", \"Topic1\", \"Topic1\", \"Topic1\", \"Topic1\", \"Topic1\", \"Topic1\", \"Topic1\", \"Topic1\", \"Topic1\", \"Topic1\", \"Topic1\", \"Topic1\", \"Topic1\", \"Topic1\", \"Topic1\", \"Topic1\", \"Topic1\", \"Topic1\", \"Topic1\", \"Topic1\", \"Topic1\", \"Topic1\", \"Topic1\", \"Topic1\", \"Topic1\", \"Topic1\", \"Topic1\", \"Topic1\", \"Topic1\", \"Topic1\", \"Topic1\", \"Topic1\", \"Topic1\", \"Topic1\", \"Topic1\", \"Topic1\", \"Topic1\", \"Topic1\", \"Topic1\", \"Topic1\", \"Topic1\", \"Topic1\", \"Topic1\", \"Topic1\", \"Topic1\", \"Topic1\", \"Topic1\", \"Topic1\", \"Topic1\", \"Topic1\", \"Topic1\", \"Topic1\", \"Topic1\", \"Topic1\", \"Topic1\", \"Topic1\", \"Topic1\", \"Topic1\", \"Topic1\", \"Topic1\", \"Topic1\", \"Topic1\", \"Topic1\", \"Topic1\", \"Topic1\", \"Topic1\", \"Topic1\", \"Topic1\", \"Topic1\", \"Topic1\", \"Topic1\", \"Topic1\", \"Topic1\", \"Topic1\", \"Topic1\", \"Topic1\", \"Topic1\", \"Topic1\", \"Topic1\", \"Topic1\", \"Topic1\", \"Topic1\", \"Topic1\", \"Topic1\", \"Topic1\", \"Topic1\", \"Topic1\", \"Topic1\", \"Topic1\", \"Topic1\", \"Topic1\", \"Topic1\", \"Topic1\", \"Topic1\", \"Topic1\", \"Topic1\", \"Topic1\", \"Topic1\", \"Topic1\", \"Topic1\", \"Topic1\", \"Topic1\", \"Topic1\", \"Topic1\", \"Topic1\", \"Topic1\", \"Topic1\", \"Topic1\", \"Topic1\", \"Topic1\", \"Topic1\", \"Topic1\", \"Topic1\", \"Topic1\", \"Topic1\", \"Topic1\", \"Topic1\", \"Topic1\", \"Topic1\", \"Topic1\", \"Topic1\", \"Topic1\", \"Topic1\", \"Topic1\", \"Topic2\", \"Topic2\", \"Topic2\", \"Topic2\", \"Topic2\", \"Topic2\", \"Topic2\", \"Topic2\", \"Topic2\", \"Topic2\", \"Topic2\", \"Topic2\", \"Topic2\", \"Topic2\", \"Topic2\", \"Topic2\", \"Topic2\", \"Topic2\", \"Topic2\", \"Topic2\", \"Topic2\", \"Topic2\", \"Topic2\", \"Topic2\", \"Topic2\", \"Topic2\", \"Topic2\", \"Topic2\", \"Topic2\", \"Topic2\", \"Topic2\", \"Topic2\", \"Topic2\", \"Topic2\", \"Topic2\", \"Topic2\", \"Topic2\", \"Topic2\", \"Topic2\", \"Topic2\", \"Topic2\", \"Topic2\", \"Topic2\", \"Topic2\", \"Topic2\", \"Topic2\", \"Topic2\", \"Topic2\", \"Topic2\", \"Topic2\", \"Topic2\", \"Topic2\", \"Topic2\", \"Topic2\", \"Topic2\", \"Topic2\", \"Topic2\", \"Topic2\", \"Topic2\", \"Topic2\", \"Topic2\", \"Topic2\", \"Topic2\", \"Topic2\", \"Topic2\", \"Topic2\", \"Topic2\", \"Topic2\", \"Topic2\", \"Topic2\", \"Topic2\", \"Topic2\", \"Topic2\", \"Topic2\", \"Topic2\", \"Topic2\", \"Topic2\", \"Topic2\", \"Topic2\", \"Topic2\", \"Topic2\", \"Topic2\", \"Topic2\", \"Topic2\", \"Topic2\", \"Topic2\", \"Topic2\", \"Topic2\", \"Topic2\", \"Topic2\", \"Topic2\", \"Topic2\", \"Topic2\", \"Topic2\", \"Topic2\", \"Topic2\", \"Topic2\", \"Topic2\", \"Topic2\", \"Topic2\", \"Topic2\", \"Topic2\", \"Topic2\", \"Topic2\", \"Topic2\", \"Topic2\", \"Topic2\", \"Topic2\", \"Topic2\", \"Topic2\", \"Topic2\", \"Topic2\", \"Topic2\", \"Topic2\", \"Topic2\", \"Topic2\", \"Topic2\", \"Topic2\", \"Topic2\", \"Topic2\", \"Topic2\", \"Topic2\", \"Topic2\", \"Topic2\", \"Topic2\", \"Topic2\", \"Topic2\", \"Topic2\", \"Topic2\", \"Topic3\", \"Topic3\", \"Topic3\", \"Topic3\", \"Topic3\", \"Topic3\", \"Topic3\", \"Topic3\", \"Topic3\", \"Topic3\", \"Topic3\", \"Topic3\", \"Topic3\", \"Topic3\", \"Topic3\", \"Topic3\", \"Topic3\", \"Topic3\", \"Topic3\", \"Topic3\", \"Topic3\", \"Topic3\", \"Topic3\", \"Topic3\", \"Topic3\", \"Topic3\", \"Topic3\", \"Topic3\", \"Topic3\", \"Topic3\", \"Topic3\", \"Topic3\", \"Topic3\", \"Topic3\", \"Topic3\", \"Topic3\", \"Topic3\", \"Topic3\", \"Topic3\", \"Topic3\", \"Topic3\", \"Topic3\", \"Topic3\", \"Topic3\", \"Topic3\", \"Topic3\", \"Topic3\", \"Topic3\", \"Topic3\", \"Topic3\", \"Topic3\", \"Topic3\", \"Topic3\", \"Topic3\", \"Topic3\", \"Topic3\", \"Topic3\", \"Topic3\", \"Topic3\", \"Topic3\", \"Topic3\", \"Topic3\", \"Topic3\", \"Topic3\", \"Topic3\", \"Topic3\", \"Topic3\", \"Topic3\", \"Topic3\", \"Topic3\", \"Topic3\", \"Topic3\", \"Topic3\", \"Topic3\", \"Topic3\", \"Topic3\", \"Topic3\", \"Topic3\", \"Topic3\", \"Topic3\", \"Topic3\", \"Topic3\", \"Topic3\", \"Topic3\", \"Topic3\", \"Topic3\", \"Topic3\", \"Topic3\", \"Topic3\", \"Topic3\", \"Topic3\", \"Topic3\", \"Topic3\", \"Topic3\", \"Topic3\", \"Topic3\", \"Topic3\", \"Topic3\", \"Topic3\", \"Topic3\", \"Topic3\", \"Topic3\", \"Topic3\", \"Topic3\", \"Topic3\", \"Topic3\", \"Topic3\", \"Topic3\", \"Topic3\", \"Topic3\", \"Topic3\", \"Topic3\", \"Topic3\", \"Topic3\", \"Topic3\"], \"Freq\": [133.0, 209.0, 396.0, 252.0, 267.0, 190.0, 100.0, 141.0, 134.0, 197.0, 12.0, 348.0, 169.0, 238.0, 174.0, 250.0, 217.0, 107.0, 278.0, 95.0, 155.0, 101.0, 122.0, 176.0, 68.0, 159.0, 161.0, 108.0, 127.0, 359.0, 2.020090341567993, 2.020012378692627, 2.02003812789917, 1.0067596435546875, 1.006805419921875, 1.0067861080169678, 1.0068219900131226, 1.0068234205245972, 1.0068241357803345, 1.0068035125732422, 1.006794810295105, 1.0068261623382568, 1.006805658340454, 1.0068275928497314, 1.0067965984344482, 1.0068116188049316, 1.006786584854126, 1.006805181503296, 1.0067592859268188, 1.0068477392196655, 1.0068289041519165, 1.0068175792694092, 1.0068213939666748, 1.0068113803863525, 1.0067732334136963, 1.0068312883377075, 1.0067538022994995, 1.0067909955978394, 1.0068110227584839, 1.0067938566207886, 2.0184171199798584, 2.017461061477661, 1.006872296333313, 1.0068520307540894, 1.0068433284759521, 1.0068426132202148, 1.0068401098251343, 1.006840467453003, 1.0068399906158447, 1.0068373680114746, 1.0068401098251343, 1.0068353414535522, 1.0068329572677612, 1.006845235824585, 1.0068436861038208, 1.0068340301513672, 1.006837248802185, 1.006837248802185, 1.0068386793136597, 1.0068365335464478, 5.949658393859863, 2.989135980606079, 2.0016937255859375, 2.0016796588897705, 2.9748852252960205, 3.944065809249878, 2.974177598953247, 1.9957140684127808, 2.9683821201324463, 3.9351720809936523, 6.807229518890381, 6.786746978759766, 10.511570930480957, 2.9626166820526123, 3.915539026260376, 4.861814975738525, 2.9599385261535645, 2.9535677433013916, 3.9016854763031006, 1.9899719953536987, 1.9896091222763062, 1.988681674003601, 3.895906448364258, 1.9874063730239868, 2.9463791847229004, 16.71965217590332, 5.740329742431641, 3.884723663330078, 4.8039398193359375, 5.7012715339660645, 3.8759443759918213, 4.782517433166504, 8.328115463256836, 4.769855499267578, 4.758731842041016, 3.8605105876922607, 4.7445783615112305, 3.8551383018493652, 3.841846227645874, 8.761547088623047, 4.680002689361572, 8.670537948608398, 218.64089965820312, 96.04215240478516, 32.819698333740234, 161.1712188720703, 7.811870098114014, 65.98143768310547, 139.56423950195312, 22.15943145751953, 106.64505767822266, 141.2156982421875, 40.963409423828125, 71.43104553222656, 72.78527069091797, 68.56782531738281, 16.064834594726562, 129.47276306152344, 62.26112747192383, 80.49222564697266, 77.81282043457031, 107.63090515136719, 160.40878295898438, 64.92387390136719, 35.00919723510742, 48.255496978759766, 40.14772415161133, 48.39439010620117, 162.22264099121094, 114.0850601196289, 42.38901138305664, 106.69209289550781, 84.89987182617188, 79.61091613769531, 119.44557189941406, 65.51062774658203, 147.41664123535156, 143.3285369873047, 98.35982513427734, 73.840087890625, 104.78459930419922, 85.63420104980469, 144.10047912597656, 114.65569305419922, 82.93285369873047, 93.77427673339844, 91.03201293945312, 103.1072006225586, 97.58609008789062, 88.11486053466797, 87.69771575927734, 87.32170867919922, 83.72394561767578, 84.5566635131836, 83.88221740722656, 0.9941497445106506, 0.9941497445106506, 0.9941818714141846, 0.9941661953926086, 0.9941449165344238, 0.9941868185997009, 0.9941080808639526, 0.9941862225532532, 0.9941964745521545, 0.9941917061805725, 0.994187593460083, 0.9940634369850159, 0.9941900372505188, 0.99415123462677, 0.9941670894622803, 0.9941357970237732, 0.9941563606262207, 0.9941791296005249, 0.9941664934158325, 0.9940952062606812, 0.994151771068573, 0.9941623210906982, 0.9941530227661133, 0.9941408634185791, 0.9941279888153076, 0.9941428899765015, 0.9941500425338745, 0.9941633343696594, 0.9940965175628662, 0.9941745400428772, 12.890242576599121, 2.9725446701049805, 0.9941953420639038, 0.9941923022270203, 0.9941896796226501, 0.9941888451576233, 0.9941869974136353, 0.9941702485084534, 0.9941763877868652, 0.994178831577301, 0.9941695332527161, 0.9941766262054443, 0.994160532951355, 0.9941649436950684, 0.9941694140434265, 1.967525601387024, 3.8640410900115967, 2.9005115032196045, 1.9560320377349854, 2.8983707427978516, 2.8926937580108643, 2.893960475921631, 2.8859305381774902, 2.882262945175171, 2.8812522888183594, 1.9498590230941772, 3.795369863510132, 1.9497052431106567, 2.876272439956665, 1.9468908309936523, 1.946307897567749, 2.8731353282928467, 1.9411600828170776, 2.8653130531311035, 2.8632097244262695, 2.8551747798919678, 2.855271339416504, 2.8526551723480225, 2.8470699787139893, 1.9372565746307373, 1.9359835386276245, 1.9337512254714966, 1.9327473640441895, 2.8413326740264893, 2.842099666595459, 2.834307909011841, 5.3288774490356445, 3.6670732498168945, 3.6465892791748047, 2.807664632797241, 5.201035976409912, 2.8041470050811768, 2.797018051147461, 57.816287994384766, 7.7475738525390625, 115.17066192626953, 28.9977970123291, 109.48470306396484, 19.082881927490234, 6.355594158172607, 59.43562698364258, 30.857553482055664, 53.27878952026367, 12.379907608032227, 78.08409118652344, 113.96717071533203, 97.75394439697266, 110.54898834228516, 26.02161407470703, 104.59337615966797, 83.8034439086914, 66.98687744140625, 14.638461112976074, 83.60811614990234, 47.05296325683594, 69.71107482910156, 60.915809631347656, 63.578548431396484, 72.37285614013672, 129.13888549804688, 80.26385498046875, 117.51490783691406, 117.11293029785156, 54.649715423583984, 72.86436462402344, 89.92205810546875, 70.56429290771484, 103.5912094116211, 72.37057495117188, 54.531734466552734, 73.77295684814453, 68.99028778076172, 69.3227767944336, 90.45543670654297, 84.95140075683594, 71.52587890625, 71.74197387695312, 68.70620727539062, 64.22004699707031, 2.9588353633880615, 1.9715886116027832, 0.9837925434112549, 0.9838201999664307, 0.9837678670883179, 0.9838123917579651, 0.9837757349014282, 0.9838076829910278, 0.9838148951530457, 0.983799397945404, 0.9838305711746216, 0.983802318572998, 0.9838647246360779, 0.9837490320205688, 0.983730673789978, 0.9834579229354858, 0.9820963144302368, 0.983302891254425, 0.9830639958381653, 0.9828107357025146, 0.9822761416435242, 1.9660601615905762, 0.9752296209335327, 0.9760622978210449, 0.9753906726837158, 0.9752506613731384, 0.9732733964920044, 0.9740962982177734, 0.9739758968353271, 0.9740263819694519, 1.9495996236801147, 1.939916968345642, 2.888113021850586, 1.9365386962890625, 2.881899118423462, 3.7884714603424072, 4.70168924331665, 1.9259350299835205, 3.7490949630737305, 2.839556932449341, 4.635323524475098, 1.9185103178024292, 1.9173274040222168, 2.818754196166992, 2.8122386932373047, 3.697894811630249, 1.9113773107528687, 2.804485321044922, 4.548618793487549, 2.7997539043426514, 4.528916358947754, 1.9046485424041748, 2.7886431217193604, 2.788295269012451, 1.9018349647521973, 1.9013880491256714, 1.900457501411438, 6.160407066345215, 2.7775731086730957, 3.6307895183563232, 2.769965171813965, 4.410633087158203, 6.640511512756348, 2.755906105041504, 2.75296950340271, 2.7530875205993652, 3.5155675411224365, 67.65483856201172, 8.717255592346191, 7.457050800323486, 6.111616134643555, 75.26261901855469, 14.552942276000977, 79.23387145996094, 6.003223419189453, 123.5047378540039, 4.773040294647217, 53.23134994506836, 51.14059829711914, 101.18778228759766, 4.756808757781982, 70.19541931152344, 81.19033813476562, 37.723026275634766, 58.490806579589844, 93.09321594238281, 94.28050994873047, 32.78913116455078, 64.14096069335938, 21.9694766998291, 59.845184326171875, 31.46185302734375, 50.456111907958984, 42.713619232177734, 27.59698486328125, 83.18927001953125, 48.02328872680664, 44.03318786621094, 70.86839294433594, 45.41250228881836, 43.81224822998047, 63.291839599609375, 60.6995849609375, 63.383522033691406, 47.542335510253906, 64.44170379638672, 55.436073303222656, 73.29644012451172, 53.66537094116211, 56.38520050048828, 49.1585807800293, 52.85661315917969, 55.73585510253906, 54.1190185546875, 49.34001159667969], \"Term\": [\"quot\", \"french\", \"kids\", \"day\", \"well\", \"aqua\", \"car\", \"mundo\", \"golf\", \"expensive\", \"gt\", \"activities\", \"bikes\", \"centre\", \"slides\", \"could\", \"restaurants\", \"main\", \"food\", \"high\", \"laon\", \"easy\", \"1\", \"old\", \"sure\", \"supermarket\", \"cottages\", \"use\", \"outside\", \"staff\", \"overhaul\", \"definitly\", \"wallet\", \"rustic\", \"repeating\", \"uni\", \"vrry\", \"emphasis\", \"swmming\", \"wettest\", \"counterparts\", \"radiator\", \"calf\", \"reallocate\", \"muscles\", \"conce\", \"mismatched\", \"steepness\", \"marsh\", \"waterworld\", \"gladly\", \"waterfalls\", \"bustle\", \"begins\", \"66\", \"nails\", \"renters\", \"agreeable\", \"programs\", \"holer\", \"addition\", \"tucked\", \"looser\", \"2015\", \"styling\", \"swimmingpools\", \"doorposts\", \"additionally\", \"someday\", \"impacted\", \"168\", \"trimming\", \"build\", \"emptying\", \"hiccups\", \"drains\", \"rates\", \"glossy\", \"funthe\", \"dubious\", \"painting\", \"yesterday\", \"adequately\", \"audience\", \"beaucoup\", \"conferences\", \"segways\", \"banned\", \"fries\", \"stars\", \"forget\", \"skirting\", \"arriving\", \"fittings\", \"tres\", \"swam\", \"voles\", \"okay\", \"sunsets\", \"goals\", \"specs\", \"shows\", \"control\", \"payantes\", \"resulted\", \"dust\", \"appalling\", \"threadbare\", \"spectacular\", \"litre\", \"personnes\", \"bear\", \"typical\", \"path\", \"pile\", \"version\", \"moins\", \"pancakes\", \"drenched\", \"lights\", \"spider\", \"woodland\", \"lake\", \"accommodation\", \"lodge\", \"children\", \"update\", \"house\", \"holiday\", \"school\", \"water\", \"area\", \"bedroom\", \"view\", \"amp\", \"still\", \"holidays\", \"clean\", \"quality\", \"enjoyed\", \"lot\", \"family\", \"pool\", \"best\", \"point\", \"tired\", \"indoor\", \"ones\", \"time\", \"week\", \"areas\", \"bit\", \"better\", \"location\", \"site\", \"recommend\", \"staff\", \"activities\", \"around\", \"loved\", \"go\", \"need\", \"kids\", \"nice\", \"3\", \"back\", \"much\", \"food\", \"could\", \"place\", \"lovely\", \"restaurants\", \"like\", \"little\", \"centre\", \"pretend\", \"west\", \"otitis\", \"bacteria\", \"illness\", \"antibiotics\", \"exclusion\", \"chilrens\", \"dragging\", \"fingernail\", \"inflammation\", \"rafters\", \"officially\", \"grandon\", \"hospitalier\", \"lodging\", \"undergoing\", \"angry\", \"colonial\", \"viruses\", \"capybara\", \"cruising\", \"infection\", \"pharmacists\", \"ear\", \"aquamundu\", \"doctors\", \"wares\", \"arachnophobia\", \"airconditioning\", \"gt\", \"doctor\", \"repeated\", \"coeliacs\", \"rewind\", \"thous\", \"restaraunts\", \"slovenly\", \"denied\", \"slightest\", \"organized\", \"insisted\", \"flatly\", \"carefure\", \"spanish\", \"grid\", \"wheels\", \"starts\", \"restaruants\", \"caught\", \"abundant\", \"ovens\", \"excuse\", \"nescafe\", \"\\\\\\\\tthe\", \"cave\", \"stopping\", \"fellow\", \"thousands\", \"operating\", \"dreams\", \"freshly\", \"dvds\", \"\\\\\\\\u00a3100\", \"grade\", \"concerning\", \"grip\", \"theft\", \"swing\", \"lift\", \"units\", \"representative\", \"failing\", \"accro\", \"gendarmerie\", \"gym\", \"supplies\", \"walled\", \"lets\", \"share\", \"pods\", \"clothing\", \"defeats\", \"car\", \"immediately\", \"day\", \"resort\", \"could\", \"bbq\", \"saturday\", \"1\", \"cost\", \"main\", \"report\", \"old\", \"nice\", \"centre\", \"food\", \"home\", \"well\", \"place\", \"year\", \"manager\", \"much\", \"easy\", \"bikes\", \"5\", \"laon\", \"stay\", \"kids\", \"little\", \"staff\", \"time\", \"found\", \"expensive\", \"site\", \"english\", \"activities\", \"french\", \"however\", \"go\", \"back\", \"bit\", \"lake\", \"pool\", \"week\", \"clean\", \"holiday\", \"like\", \"charactersreviews\", \"characters\", \"sucked\", \"ranged\", \"blobs\", \"tires\", \"accepting\", \"pard\", \"1yrs\", \"awkward\", \"generel\", \"72\", \"chainsaw\", \"suggests\", \"pristine\", \"tools\", \"international\", \"accepted\", \"merge\", \"asleep\", \"poorest\", \"stress\", \"lazed\", \"cosmetic\", \"vossermeen\", \"disconnected\", \"dragonflies\", \"lemon\", \"tiredness\", \"nt\", \"neck\", \"vpn\", \"charges\", \"widely\", \"cup\", \"south\", \"2007\", \"spatula\", \"rush\", \"weak\", \"roll\", \"wwi\", \"excessively\", \"settled\", \"priciest\", \"tuesday\", \"surpassed\", \"improvements\", \"staffed\", \"timers\", \"horses\", \"playarea\", \"bubble\", \"hindsight\", \"unresponsive\", \"masks\", \"approved\", \"finished\", \"entertaining\", \"password\", \"situation\", \"budget\", \"thats\", \"becomes\", \"gcse\", \"cubicles\", \"challenge\", \"quot\", \"superb\", \"additional\", \"downside\", \"aqua\", \"expectations\", \"french\", \"slight\", \"kids\", \"street\", \"mundo\", \"golf\", \"activities\", \"appreciate\", \"restaurants\", \"well\", \"high\", \"slides\", \"pool\", \"staff\", \"bad\", \"lovely\", \"maintained\", \"expensive\", \"make\", \"cottages\", \"outside\", \"sure\", \"time\", \"supermarket\", \"people\", \"children\", \"villa\", \"beach\", \"day\", \"go\", \"area\", \"restaurant\", \"food\", \"back\", \"lake\", \"around\", \"centre\", \"english\", \"week\", \"nice\", \"site\", \"little\"], \"Total\": [133.0, 209.0, 396.0, 252.0, 267.0, 190.0, 100.0, 141.0, 134.0, 197.0, 12.0, 348.0, 169.0, 238.0, 174.0, 250.0, 217.0, 107.0, 278.0, 95.0, 155.0, 101.0, 122.0, 176.0, 68.0, 159.0, 161.0, 108.0, 127.0, 359.0, 2.0202889442443848, 2.0202109813690186, 2.0202367305755615, 1.0069581270217896, 1.007003903388977, 1.0069845914840698, 1.0070204734802246, 1.0070219039916992, 1.0070226192474365, 1.0070019960403442, 1.006993293762207, 1.0070246458053589, 1.0070041418075562, 1.0070260763168335, 1.0069950819015503, 1.0070101022720337, 1.006985068321228, 1.007003664970398, 1.006957769393921, 1.0070462226867676, 1.0070273876190186, 1.0070160627365112, 1.0070198774337769, 1.0070098638534546, 1.0069717168807983, 1.0070297718048096, 1.0069522857666016, 1.0069894790649414, 1.007009506225586, 1.0069923400878906, 2.020209312438965, 2.020118236541748, 1.007070779800415, 1.0070505142211914, 1.0070418119430542, 1.007041096687317, 1.0070385932922363, 1.007038950920105, 1.0070384740829468, 1.0070358514785767, 1.0070385932922363, 1.0070338249206543, 1.0070314407348633, 1.007043719291687, 1.0070421695709229, 1.0070325136184692, 1.007035732269287, 1.007035732269287, 1.0070371627807617, 1.0070350170135498, 6.064481258392334, 3.0312154293060303, 2.019763708114624, 2.0198802947998047, 3.0308756828308105, 4.0419487953186035, 3.0309176445007324, 2.0195605754852295, 3.0304806232452393, 4.041789531707764, 7.074214935302734, 7.0735344886779785, 11.11655330657959, 3.0305707454681396, 4.041269302368164, 5.051876068115234, 3.0306191444396973, 3.030393123626709, 4.041325092315674, 2.0191924571990967, 2.0192606449127197, 2.01932430267334, 4.040261745452881, 2.0188984870910645, 3.0302717685699463, 18.18422508239746, 6.061415195465088, 4.040828227996826, 5.048112869262695, 6.060415267944336, 4.040583610534668, 5.050875186920166, 9.088178634643555, 5.050168037414551, 5.048964500427246, 4.039965629577637, 5.049324035644531, 4.0396409034729, 4.039103984832764, 10.089986801147461, 5.0453691482543945, 10.08956241607666, 382.3927917480469, 152.68699645996094, 45.28773498535156, 290.8179016113281, 9.069815635681152, 105.43002319335938, 252.89346313476562, 30.192689895629883, 187.66690063476562, 266.6676940917969, 62.322601318359375, 121.51264953613281, 124.42021179199219, 116.45469665527344, 21.128849029541016, 247.7332305908203, 105.34293365478516, 143.49798583984375, 139.3859405517578, 207.63189697265625, 338.4533996582031, 114.41118621826172, 54.256492614746094, 80.37455749511719, 64.3165512084961, 81.29946899414062, 362.52484130859375, 238.46754455566406, 69.29837799072266, 220.50552368164062, 166.42503356933594, 154.39486694335938, 263.48663330078125, 122.38507843017578, 359.2120666503906, 348.1075134277344, 214.2977294921875, 145.28887939453125, 239.25714111328125, 180.29212951660156, 396.7441101074219, 284.35870361328125, 174.25965881347656, 218.20062255859375, 208.4341278076172, 278.097900390625, 250.3232421875, 206.38987731933594, 211.04168701171875, 217.9529266357422, 195.20297241210938, 214.16053771972656, 238.0213623046875, 0.9943496584892273, 0.9943496584892273, 0.9943817853927612, 0.9943661093711853, 0.9943448305130005, 0.9943867325782776, 0.9943079948425293, 0.9943861365318298, 0.9943963885307312, 0.9943916201591492, 0.9943875074386597, 0.9942633509635925, 0.9943899512290955, 0.9943511486053467, 0.9943670034408569, 0.9943357110023499, 0.9943562746047974, 0.9943790435791016, 0.9943664073944092, 0.9942951202392578, 0.9943516850471497, 0.9943622350692749, 0.9943529367446899, 0.9943407773971558, 0.9943279027938843, 0.9943428039550781, 0.9943499565124512, 0.9943632483482361, 0.9942964315414429, 0.9943744540214539, 12.970342636108398, 2.9913296699523926, 0.9943952560424805, 0.9943922162055969, 0.9943895936012268, 0.9943887591362, 0.9943869113922119, 0.99437016248703, 0.9943763017654419, 0.9943787455558777, 0.9943694472312927, 0.994376540184021, 0.9943604469299316, 0.994364857673645, 0.9943693280220032, 1.9928805828094482, 3.9896066188812256, 2.9910359382629395, 1.9928710460662842, 2.9912197589874268, 2.987137794494629, 2.991389513015747, 2.992213010787964, 2.9906177520751953, 2.9903817176818848, 1.9925265312194824, 3.988647699356079, 1.993408203125, 2.991236925125122, 1.9925426244735718, 1.992349624633789, 2.991912603378296, 1.9933117628097534, 2.9914207458496094, 2.9909229278564453, 2.9907724857330322, 2.991791248321533, 2.991870880126953, 2.9861032962799072, 1.9928712844848633, 1.9925447702407837, 1.9929053783416748, 1.9926536083221436, 2.9896399974823, 2.991729497909546, 2.99060320854187, 5.980602741241455, 3.986950397491455, 3.9860544204711914, 2.9894702434539795, 5.979173183441162, 2.990414619445801, 2.988297939300537, 100.90054321289062, 9.97560977935791, 252.7774658203125, 48.9234504699707, 250.3232421875, 29.951618194580078, 7.979738712310791, 122.01763153076172, 54.900146484375, 107.90718078613281, 18.025720596313477, 176.0666046142578, 284.35870361328125, 238.0213623046875, 278.097900390625, 46.04228973388672, 267.6468811035156, 206.38987731933594, 156.0829620361328, 22.88275146484375, 208.4341278076172, 101.86152648925781, 169.86578369140625, 144.99827575683594, 155.87583923339844, 186.23681640625, 396.7441101074219, 214.16053771972656, 359.2120666503906, 362.52484130859375, 132.19424438476562, 197.8058624267578, 263.48663330078125, 191.0259552001953, 348.1075134277344, 209.4663848876953, 139.14956665039062, 239.25714111328125, 218.20062255859375, 220.50552368164062, 382.3927917480469, 338.4533996582031, 238.46754455566406, 247.7332305908203, 252.89346313476562, 195.20297241210938, 2.959036350250244, 1.9717895984649658, 0.9839935302734375, 0.9840211868286133, 0.9839688539505005, 0.9840133786201477, 0.9839767217636108, 0.9840086698532104, 0.9840158820152283, 0.9840003848075867, 0.9840315580368042, 0.9840033054351807, 0.9840657114982605, 0.9839993715286255, 0.9840018153190613, 0.9840547442436218, 0.9828121662139893, 0.9840697646141052, 0.984011173248291, 0.9840424656867981, 0.9839892983436584, 1.9718436002731323, 0.983108639717102, 0.9840888977050781, 0.9840620756149292, 0.983991265296936, 0.9830799698829651, 0.9839234948158264, 0.9839171171188354, 0.9841102361679077, 1.972208023071289, 1.9719921350479126, 2.9598875045776367, 1.9723724126815796, 2.9599342346191406, 3.948434352874756, 4.9376702308654785, 1.9722930192947388, 3.9490365982055664, 2.961014986038208, 4.938022136688232, 1.9719674587249756, 1.9723314046859741, 2.9585108757019043, 2.9585371017456055, 3.9498584270477295, 1.9727201461791992, 2.9611918926239014, 4.938058376312256, 2.96112060546875, 4.939425945281982, 1.9726998805999756, 2.960627317428589, 2.961580991744995, 1.9724012613296509, 1.9724544286727905, 1.9724301099777222, 6.921785831451416, 2.960574150085449, 3.9498510360717773, 2.961179733276367, 4.938472270965576, 7.9062323570251465, 2.961212158203125, 2.959040641784668, 2.9618358612060547, 3.9526851177215576, 133.35693359375, 11.89546012878418, 9.89614486694336, 7.918767929077148, 190.7815704345703, 23.84439468383789, 209.4663848876953, 7.936310768127441, 396.7441101074219, 5.943172454833984, 141.9590606689453, 134.78489685058594, 348.1075134277344, 5.931028842926025, 217.9529266357422, 267.6468811035156, 95.81474304199219, 174.08152770996094, 338.4533996582031, 359.2120666503906, 82.89490509033203, 211.04168701171875, 47.82554244995117, 197.8058624267578, 80.91178894042969, 161.87730407714844, 127.83808898925781, 68.78778839111328, 362.52484130859375, 159.86648559570312, 140.99996948242188, 290.8179016113281, 148.8980255126953, 142.09646606445312, 252.7774658203125, 239.25714111328125, 266.6676940917969, 167.1552734375, 278.097900390625, 218.20062255859375, 382.3927917480469, 214.2977294921875, 238.0213623046875, 191.0259552001953, 238.46754455566406, 284.35870361328125, 263.48663330078125, 214.16053771972656], \"loglift\": [30.0, 29.0, 28.0, 27.0, 26.0, 25.0, 24.0, 23.0, 22.0, 21.0, 20.0, 19.0, 18.0, 17.0, 16.0, 15.0, 14.0, 13.0, 12.0, 11.0, 10.0, 9.0, 8.0, 7.0, 6.0, 5.0, 4.0, 3.0, 2.0, 1.0, 0.8450999855995178, 0.8450999855995178, 0.8450999855995178, 0.8450000286102295, 0.8450000286102295, 0.8450000286102295, 0.8450000286102295, 0.8450000286102295, 0.8450000286102295, 0.8450000286102295, 0.8450000286102295, 0.8450000286102295, 0.8450000286102295, 0.8450000286102295, 0.8450000286102295, 0.8450000286102295, 0.8450000286102295, 0.8450000286102295, 0.8450000286102295, 0.8450000286102295, 0.8450000286102295, 0.8450000286102295, 0.8450000286102295, 0.8450000286102295, 0.8450000286102295, 0.8450000286102295, 0.8450000286102295, 0.8450000286102295, 0.8450000286102295, 0.8450000286102295, 0.8443999886512756, 0.8439000248908997, 0.8450000286102295, 0.8450000286102295, 0.8450000286102295, 0.8450000286102295, 0.8450000286102295, 0.8450000286102295, 0.8450000286102295, 0.8450000286102295, 0.8450000286102295, 0.8450000286102295, 0.8450000286102295, 0.8450000286102295, 0.8450000286102295, 0.8450000286102295, 0.8450000286102295, 0.8450000286102295, 0.8450000286102295, 0.8450000286102295, 0.8260999917984009, 0.8313000202178955, 0.8363000154495239, 0.8361999988555908, 0.8266000151634216, 0.8206999897956848, 0.8263000249862671, 0.8334000110626221, 0.8245000243186951, 0.8184999823570251, 0.8068000078201294, 0.8039000034332275, 0.7893000245094299, 0.8226000070571899, 0.8136000037193298, 0.8069000244140625, 0.8216000199317932, 0.819599986076355, 0.8101000189781189, 0.8306999802589417, 0.8305000066757202, 0.8299999833106995, 0.808899998664856, 0.8295000195503235, 0.8172000050544739, 0.7613000273704529, 0.7907999753952026, 0.8058000206947327, 0.7957000136375427, 0.7842000126838684, 0.803600013256073, 0.7907000184059143, 0.7578999996185303, 0.788100004196167, 0.7860000133514404, 0.7997999787330627, 0.7829999923706055, 0.7985000014305115, 0.795199990272522, 0.7041000127792358, 0.7700999975204468, 0.6937000155448914, 0.28619998693466187, 0.3815999925136566, 0.5231999754905701, 0.2549999952316284, 0.695900022983551, 0.3765999972820282, 0.2508000135421753, 0.5358999967575073, 0.2800999879837036, 0.2094999998807907, 0.42559999227523804, 0.3140000104904175, 0.3091000020503998, 0.3156000077724457, 0.5712000131607056, 0.1964000016450882, 0.31940001249313354, 0.2671000063419342, 0.2623000144958496, 0.1881999969482422, 0.09860000014305115, 0.27869999408721924, 0.40709999203681946, 0.335099995136261, 0.37400001287460327, 0.3264999985694885, 0.041099999099969864, 0.1080000028014183, 0.35370001196861267, 0.1193000003695488, 0.17219999432563782, 0.18289999663829803, 0.054099999368190765, 0.22030000388622284, -0.04540000110864639, -0.042100001126527786, 0.06650000065565109, 0.16840000450611115, 0.019600000232458115, 0.10080000013113022, -0.16750000417232513, -0.06310000270605087, 0.10270000249147415, 0.000699999975040555, 0.01679999940097332, -0.1469999998807907, -0.09679999947547913, -0.005900000222027302, -0.03290000185370445, -0.06939999759197235, -0.0013000000035390258, -0.08410000056028366, -0.19769999384880066, 1.1548999547958374, 1.1548999547958374, 1.1548999547958374, 1.1548999547958374, 1.1548999547958374, 1.1548999547958374, 1.1548999547958374, 1.1548999547958374, 1.1548999547958374, 1.1548999547958374, 1.1548999547958374, 1.1548999547958374, 1.1548999547958374, 1.1548999547958374, 1.1548999547958374, 1.1548999547958374, 1.1548999547958374, 1.1548999547958374, 1.1548999547958374, 1.1548999547958374, 1.1548999547958374, 1.1548999547958374, 1.1548999547958374, 1.1548999547958374, 1.1548999547958374, 1.1548999547958374, 1.1548999547958374, 1.1548999547958374, 1.1548999547958374, 1.1548999547958374, 1.148900032043457, 1.148800015449524, 1.1548999547958374, 1.1548999547958374, 1.1548999547958374, 1.1548999547958374, 1.1548999547958374, 1.1548999547958374, 1.1548999547958374, 1.1548999547958374, 1.1548999547958374, 1.1548999547958374, 1.1548999547958374, 1.1548999547958374, 1.1548999547958374, 1.142300009727478, 1.1231000423431396, 1.1243000030517578, 1.1363999843597412, 1.1234999895095825, 1.1229000091552734, 1.121999979019165, 1.118899941444397, 1.1181999444961548, 1.117900013923645, 1.1333999633789062, 1.1053999662399292, 1.1328999996185303, 1.1159000396728516, 1.1318999528884888, 1.131700038909912, 1.1145999431610107, 1.128600001335144, 1.1119999885559082, 1.1114000082015991, 1.1087000370025635, 1.1083999872207642, 1.1073999404907227, 1.1073999404907227, 1.1267999410629272, 1.1262999773025513, 1.124899983406067, 1.124500036239624, 1.104200005531311, 1.1038000583648682, 1.1014000177383423, 1.0397000312805176, 1.0714000463485718, 1.066100001335144, 1.0923000574111938, 1.0155999660491943, 1.0908000469207764, 1.0888999700546265, 0.5982000231742859, 0.9023000001907349, 0.36899998784065247, 0.6320000290870667, 0.3280999958515167, 0.7042999863624573, 0.9275000095367432, 0.4357999861240387, 0.5788999795913696, 0.44929999113082886, 0.7792999744415283, 0.34200000762939453, 0.24070000648498535, 0.2651999890804291, 0.23260000348091125, 0.5843999981880188, 0.21549999713897705, 0.25380000472068787, 0.3091999888420105, 0.708299994468689, 0.24160000681877136, 0.38269999623298645, 0.26440000534057617, 0.28780001401901245, 0.2583000063896179, 0.20990000665187836, 0.03269999846816063, 0.1737000048160553, 0.037700001150369644, 0.025100000202655792, 0.271699994802475, 0.15639999508857727, 0.07999999821186066, 0.15919999778270721, -0.05700000002980232, 0.09229999780654907, 0.218299999833107, -0.0215000007301569, 0.003599999938160181, -0.002099999925121665, -0.2865000069141388, -0.2272000014781952, -0.04910000041127205, -0.08420000225305557, -0.14810000360012054, 0.043299999088048935, 1.364400029182434, 1.364400029182434, 1.364300012588501, 1.364300012588501, 1.364300012588501, 1.364300012588501, 1.364300012588501, 1.364300012588501, 1.364300012588501, 1.364300012588501, 1.364300012588501, 1.364300012588501, 1.364300012588501, 1.3641999959945679, 1.3641999959945679, 1.3638999462127686, 1.363700032234192, 1.363700032234192, 1.3634999990463257, 1.3631999492645264, 1.3626999855041504, 1.3615000247955322, 1.3564000129699707, 1.3562999963760376, 1.3555999994277954, 1.3555999994277954, 1.3545000553131104, 1.3544000387191772, 1.3543000221252441, 1.354200005531311, 1.3529000282287598, 1.348099946975708, 1.339900016784668, 1.3460999727249146, 1.3378000259399414, 1.323099970817566, 1.315500020980835, 1.3407000303268433, 1.3125, 1.32260000705719, 1.301200032234192, 1.3370000123977661, 1.3361999988555908, 1.316100001335144, 1.3137999773025513, 1.2985999584197998, 1.332900047302246, 1.3100999593734741, 1.2822999954223633, 1.30840003490448, 1.2776999473571777, 1.3293999433517456, 1.3046000003814697, 1.3042000532150269, 1.3279999494552612, 1.3278000354766846, 1.327299952507019, 1.2479000091552734, 1.3006999492645264, 1.2803000211715698, 1.297700047492981, 1.2513999938964844, 1.190000057220459, 1.2926000356674194, 1.2922999858856201, 1.2913999557495117, 1.2473000288009644, 0.6858999729156494, 1.0535999536514282, 1.0815000534057617, 1.1053999662399292, 0.4343000054359436, 0.8707000017166138, 0.392300009727478, 1.0852999687194824, 0.19750000536441803, 1.1452000141143799, 0.38359999656677246, 0.3953999876976013, 0.12890000641345978, 1.1439000368118286, 0.23149999976158142, 0.17159999907016754, 0.43230000138282776, 0.27379998564720154, 0.07370000332593918, 0.026799999177455902, 0.43700000643730164, 0.17350000143051147, 0.5866000056266785, 0.16899999976158142, 0.41990000009536743, 0.19869999587535858, 0.26820001006126404, 0.451200008392334, -0.10750000178813934, 0.16179999709129333, 0.20069999992847443, -0.04740000143647194, 0.1770000010728836, 0.18790000677108765, -0.0203000009059906, -0.0071000000461936, -0.0723000019788742, 0.10719999670982361, -0.09769999980926514, -0.00570000009611249, -0.2874999940395355, -0.020099999383091927, -0.07569999992847443, 0.0071000000461936, -0.14219999313354492, -0.26510000228881836, -0.218299999833107, -0.10350000113248825], \"logprob\": [30.0, 29.0, 28.0, 27.0, 26.0, 25.0, 24.0, 23.0, 22.0, 21.0, 20.0, 19.0, 18.0, 17.0, 16.0, 15.0, 14.0, 13.0, 12.0, 11.0, 10.0, 9.0, 8.0, 7.0, 6.0, 5.0, 4.0, 3.0, 2.0, 1.0, -9.529000282287598, -9.52910041809082, -9.52910041809082, -10.2253999710083, -10.2253999710083, -10.2253999710083, -10.2253999710083, -10.2253999710083, -10.2253999710083, -10.2253999710083, -10.2253999710083, -10.2253999710083, -10.2253999710083, -10.2253999710083, -10.2253999710083, -10.2253999710083, -10.2253999710083, -10.2253999710083, -10.2253999710083, -10.2253999710083, -10.2253999710083, -10.2253999710083, -10.2253999710083, -10.2253999710083, -10.2253999710083, -10.2253999710083, -10.2253999710083, -10.2253999710083, -10.2253999710083, -10.2253999710083, -9.529899597167969, -9.53030014038086, -10.225299835205078, -10.225299835205078, -10.2253999710083, -10.2253999710083, -10.2253999710083, -10.2253999710083, -10.2253999710083, -10.2253999710083, -10.2253999710083, -10.2253999710083, -10.2253999710083, -10.2253999710083, -10.2253999710083, -10.2253999710083, -10.2253999710083, -10.2253999710083, -10.2253999710083, -10.2253999710083, -8.448800086975098, -9.137200355529785, -9.538200378417969, -9.538200378417969, -9.142000198364258, -8.859999656677246, -9.142200469970703, -9.541199684143066, -9.144200325012207, -8.862199783325195, -8.314200401306152, -8.31719970703125, -7.879700183868408, -9.146100044250488, -8.867199897766113, -8.650799751281738, -9.147000312805176, -9.149200439453125, -8.870800018310547, -9.544099807739258, -9.54419994354248, -9.544699668884277, -8.872300148010254, -9.545299530029297, -9.151599884033203, -7.415599822998047, -8.484700202941895, -8.875100135803223, -8.662699699401855, -8.491499900817871, -8.877400398254395, -8.667200088500977, -8.112500190734863, -8.669899940490723, -8.672200202941895, -8.881400108337402, -8.675200462341309, -8.882800102233887, -8.886199951171875, -8.061800003051758, -8.688899993896484, -8.072199821472168, -4.844699859619141, -5.667399883270264, -6.741099834442139, -5.149700164794922, -8.17650032043457, -6.042799949645996, -5.293700218200684, -7.133900165557861, -5.562699794769287, -5.281899929046631, -6.519499778747559, -5.963399887084961, -5.944699764251709, -6.00439977645874, -7.45550012588501, -5.36870002746582, -6.100800037384033, -5.843999862670898, -5.877900123596191, -5.553500175476074, -5.1545000076293945, -6.059000015258789, -6.676599979400635, -6.3557000160217285, -6.539599895477295, -6.352799892425537, -5.143199920654297, -5.495200157165527, -6.485300064086914, -5.56220006942749, -5.7906999588012695, -5.855000019073486, -5.4492998123168945, -6.050000190734863, -5.238900184631348, -5.267000198364258, -5.643499851226807, -5.930300235748291, -5.5802998542785645, -5.782100200653076, -5.26170015335083, -5.490200042724609, -5.8140997886657715, -5.691299915313721, -5.7210001945495605, -5.596399784088135, -5.651400089263916, -5.753499984741211, -5.758299827575684, -5.762599945068359, -5.804699897766113, -5.7947998046875, -5.802800178527832, -9.928199768066406, -9.928199768066406, -9.928199768066406, -9.928199768066406, -9.928199768066406, -9.928199768066406, -9.928299903869629, -9.928199768066406, -9.928199768066406, -9.928199768066406, -9.928199768066406, -9.928299903869629, -9.928199768066406, -9.928199768066406, -9.928199768066406, -9.928199768066406, -9.928199768066406, -9.928199768066406, -9.928199768066406, -9.928299903869629, -9.928199768066406, -9.928199768066406, -9.928199768066406, -9.928199768066406, -9.928199768066406, -9.928199768066406, -9.928199768066406, -9.928199768066406, -9.928299903869629, -9.928199768066406, -7.365900039672852, -8.832900047302246, -9.928199768066406, -9.928199768066406, -9.928199768066406, -9.928199768066406, -9.928199768066406, -9.928199768066406, -9.928199768066406, -9.928199768066406, -9.928199768066406, -9.928199768066406, -9.928199768066406, -9.928199768066406, -9.928199768066406, -9.245599746704102, -8.570599555969238, -8.857500076293945, -9.251399993896484, -8.858200073242188, -8.860199928283691, -8.859700202941895, -8.862500190734863, -8.863800048828125, -8.864100456237793, -9.254599571228027, -8.588600158691406, -9.25469970703125, -8.865900039672852, -9.256099700927734, -9.256400108337402, -8.866900444030762, -9.259099960327148, -8.86970043182373, -8.870400428771973, -8.873200416564941, -8.873200416564941, -8.874099731445312, -8.876099586486816, -9.261099815368652, -9.261699676513672, -9.262900352478027, -9.263400077819824, -8.878100395202637, -8.877799987792969, -8.880599975585938, -8.249199867248535, -8.623000144958496, -8.628600120544434, -8.890000343322754, -8.273500442504883, -8.891300201416016, -8.893799781799316, -5.865099906921387, -7.875, -5.175899982452393, -6.555099964141846, -5.226600170135498, -6.973599910736084, -8.072999954223633, -5.837500095367432, -6.493000030517578, -5.946800231933594, -7.406300067901611, -5.564599990844727, -5.186399936676025, -5.339900016784668, -5.216899871826172, -6.663400173187256, -5.272299766540527, -5.493899822235107, -5.717899799346924, -7.238699913024902, -5.496200084686279, -6.071100234985352, -5.677999973297119, -5.812900066375732, -5.770100116729736, -5.640500068664551, -5.061500072479248, -5.5370001792907715, -5.155799865722656, -5.159200191497803, -5.92140007019043, -5.633800029754639, -5.423399925231934, -5.665800094604492, -5.281899929046631, -5.640600204467773, -5.923600196838379, -5.621399879455566, -5.688399791717529, -5.683599948883057, -5.417500019073486, -5.480299949645996, -5.652299880981445, -5.6493000984191895, -5.692500114440918, -5.760000228881836, -8.628199577331543, -9.034099578857422, -9.729299545288086, -9.729299545288086, -9.729299545288086, -9.729299545288086, -9.729299545288086, -9.729299545288086, -9.729299545288086, -9.729299545288086, -9.72920036315918, -9.729299545288086, -9.72920036315918, -9.729299545288086, -9.729299545288086, -9.729599952697754, -9.730999946594238, -9.7298002243042, -9.729999542236328, -9.730299949645996, -9.730799674987793, -9.03689956665039, -9.73799991607666, -9.737199783325195, -9.737899780273438, -9.73799991607666, -9.739999771118164, -9.7391996383667, -9.739299774169922, -9.739299774169922, -9.045299530029297, -9.050299644470215, -8.652299880981445, -9.052000045776367, -8.654500007629395, -8.380999565124512, -8.164999961853027, -9.057499885559082, -8.391400337219238, -8.669300079345703, -8.179200172424316, -9.061400413513184, -9.062000274658203, -8.6766996383667, -8.678999900817871, -8.405200004577637, -9.065099716186523, -8.681699752807617, -8.198100090026855, -8.68340015411377, -8.202500343322754, -9.068599700927734, -8.687399864196777, -8.6875, -9.070099830627441, -9.07040023803711, -9.070899963378906, -7.894800186157227, -8.691399574279785, -8.423500061035156, -8.694100379943848, -8.228899955749512, -7.819799900054932, -8.699199676513672, -8.700300216674805, -8.700200080871582, -8.455699920654297, -5.498499870300293, -7.547599792480469, -7.703800201416016, -7.9028000831604, -5.392000198364258, -7.035200119018555, -5.3404998779296875, -7.920599937438965, -4.896699905395508, -8.149999618530273, -5.73829984664917, -5.77839994430542, -5.0960001945495605, -8.153400421142578, -5.461699962615967, -5.316100120544434, -6.082699775695801, -5.644100189208984, -5.179299831390381, -5.1666998863220215, -6.222799777984619, -5.5518999099731445, -6.623300075531006, -5.621200084686279, -6.264200210571289, -5.791800022125244, -5.958399772644043, -6.395199775695801, -5.291800022125244, -5.841300010681152, -5.927999973297119, -5.452099800109863, -5.897200107574463, -5.933000087738037, -5.565199851989746, -5.60699987411499, -5.563700199127197, -5.85129976272583, -5.5472002029418945, -5.697700023651123, -5.418399810791016, -5.730199813842773, -5.680699825286865, -5.81790018081665, -5.7453999519348145, -5.692299842834473, -5.721799850463867, -5.814199924468994]}, \"token.table\": {\"Topic\": [1, 2, 3, 1, 3, 3, 1, 1, 2, 3, 1, 2, 3, 1, 3, 2, 2, 2, 3, 3, 1, 2, 3, 2, 1, 2, 3, 1, 2, 3, 1, 1, 1, 2, 1, 2, 3, 2, 2, 1, 2, 3, 3, 1, 2, 3, 2, 2, 1, 2, 3, 1, 2, 3, 1, 2, 3, 1, 3, 1, 3, 1, 2, 3, 2, 1, 2, 3, 1, 1, 2, 3, 1, 2, 3, 1, 1, 3, 1, 2, 3, 1, 1, 2, 3, 1, 2, 3, 1, 2, 3, 1, 2, 3, 3, 3, 3, 1, 1, 1, 2, 1, 2, 3, 2, 2, 2, 1, 2, 3, 3, 3, 3, 3, 3, 1, 2, 3, 2, 1, 2, 3, 2, 2, 2, 1, 2, 1, 1, 3, 1, 2, 3, 1, 2, 3, 1, 2, 3, 1, 2, 3, 3, 1, 2, 3, 2, 1, 2, 3, 2, 2, 1, 1, 2, 3, 2, 3, 1, 2, 1, 1, 1, 2, 2, 2, 1, 2, 3, 1, 1, 1, 2, 3, 1, 2, 3, 3, 3, 2, 2, 1, 2, 3, 1, 2, 3, 2, 1, 2, 3, 2, 2, 1, 3, 1, 2, 1, 2, 3, 1, 1, 2, 3, 1, 2, 3, 2, 1, 1, 3, 2, 3, 1, 1, 1, 2, 3, 1, 1, 2, 3, 2, 2, 2, 2, 2, 2, 1, 1, 2, 3, 3, 1, 1, 2, 3, 1, 2, 3, 1, 2, 3, 3, 2, 1, 2, 3, 1, 2, 3, 2, 1, 2, 3, 1, 3, 1, 2, 3, 2, 2, 2, 3, 1, 2, 3, 1, 2, 3, 1, 2, 3, 3, 3, 2, 2, 1, 2, 1, 2, 3, 1, 1, 2, 3, 1, 2, 3, 1, 2, 3, 2, 1, 1, 2, 3, 1, 2, 3, 1, 2, 3, 1, 2, 3, 1, 2, 3, 1, 2, 3, 1, 2, 3, 1, 3, 3, 1, 1, 1, 2, 3, 1, 2, 3, 1, 1, 3, 1, 2, 3, 2, 1, 2, 3, 3, 2, 1, 1, 2, 3, 1, 2, 3, 2, 2, 2, 1, 2, 3, 2, 1, 1, 1, 3, 3, 1, 1, 1, 2, 3, 1, 2, 1, 1, 2, 3, 3, 2, 3, 1, 2, 3, 1, 2, 3, 3, 2, 3, 3, 1, 1, 2, 3, 1, 2, 3, 1, 2, 3, 1, 1, 1, 2, 3, 1, 2, 1, 1, 2, 2, 1, 2, 3, 2, 2, 1, 2, 3, 1, 2, 3, 1, 2, 3, 3, 1, 1, 2, 3, 1, 2, 3, 1, 3, 2, 1, 1, 2, 3, 3, 1, 1, 2, 3, 1, 3, 2, 2, 1, 3, 2, 3, 1, 1, 1, 1, 2, 3, 3, 1, 2, 1, 2, 3, 1, 1, 2, 3, 2, 1, 3, 3, 1, 3, 3, 1, 1, 2, 3, 1, 2, 3, 2, 1, 2, 3, 3, 1, 1, 2, 1, 2, 3, 2, 2, 2, 1, 1, 2, 3, 3, 1, 2, 3, 3, 3, 3, 1, 1, 1, 3, 1, 2, 2, 1, 2, 3, 1, 3, 1, 2, 3, 1, 1, 2, 3, 1, 2, 3, 2, 1, 3, 3, 1, 2, 1, 2, 1, 2, 3, 1, 1, 3, 1, 2, 3, 1, 2, 3, 2, 1, 2, 3, 1, 2, 3, 1, 2, 3, 1], \"Freq\": [0.31962594389915466, 0.4835366904735565, 0.18849734961986542, 0.9930105805397034, 1.016243815422058, 1.0126233100891113, 0.9929988384246826, 0.4763007164001465, 0.2639738917350769, 0.2582353353500366, 0.3448316752910614, 0.42069464921951294, 0.23448555171489716, 0.9930765628814697, 1.0162566900253296, 1.0032163858413696, 1.0028679370880127, 1.0043058395385742, 1.016188144683838, 1.0162842273712158, 0.628737211227417, 0.18993103504180908, 0.18338169157505035, 1.0034652948379517, 0.41079261898994446, 0.29875826835632324, 0.2901402413845062, 0.9899964332580566, 0.20209890604019165, 0.7073461413383484, 0.9930102229118347, 0.9902148246765137, 0.9930590391159058, 1.0056573152542114, 0.5867214202880859, 0.19289469718933105, 0.22504381835460663, 1.0056527853012085, 1.0056449174880981, 0.9898678660392761, 0.1686048060655594, 0.8430240750312805, 1.0139776468276978, 0.3931197226047516, 0.20966385304927826, 0.3931197226047516, 1.0056893825531006, 1.005736231803894, 0.5287479758262634, 0.2324991077184677, 0.23624908924102783, 0.6060748100280762, 0.21645528078079224, 0.1731642335653305, 0.45730769634246826, 0.2893171012401581, 0.2519858777523041, 0.9895153641700745, 1.0162162780761719, 0.9901576638221741, 1.016259789466858, 0.43079620599746704, 0.31622275710105896, 0.2520616054534912, 1.0056657791137695, 0.38603097200393677, 0.21714241802692413, 0.39809441566467285, 0.9903144240379333, 0.20032306015491486, 0.6343563795089722, 0.16693589091300964, 0.4574357271194458, 0.2392740696668625, 0.3096488118171692, 0.9899274706840515, 0.989812970161438, 1.0130985975265503, 0.6578672528266907, 0.1925465166568756, 0.1444098949432373, 0.9930389523506165, 0.5681262612342834, 0.24473132193088531, 0.1835484802722931, 0.5107404589653015, 0.2824094295501709, 0.21030490100383759, 0.3178980350494385, 0.4120900630950928, 0.27080202102661133, 0.4852486252784729, 0.3129173219203949, 0.19954147934913635, 1.0162923336029053, 1.013298749923706, 0.8099671006202698, 0.9930176734924316, 0.9930290579795837, 0.9930445551872253, 1.0056804418563843, 0.23785798251628876, 0.5748234391212463, 0.18830424547195435, 1.0056670904159546, 1.0029352903366089, 1.0037508010864258, 0.35290950536727905, 0.41172775626182556, 0.23527300357818604, 1.0161923170089722, 1.0119702816009521, 1.0143070220947266, 1.0138435363769531, 1.0135520696640015, 0.5536110401153564, 0.20287609100341797, 0.24413903057575226, 1.005645513534546, 0.520721435546875, 0.29063519835472107, 0.18972021341323853, 1.003205418586731, 1.0056394338607788, 1.0056655406951904, 0.9930387139320374, 1.0030853748321533, 0.989621639251709, 0.9900348782539368, 1.0161683559417725, 0.21857865154743195, 0.5646615028381348, 0.21857865154743195, 0.3521185517311096, 0.3335859775543213, 0.3088759183883667, 0.3914937973022461, 0.43543699383735657, 0.1717778891324997, 0.9930552840232849, 1.0056697130203247, 1.012885332107544, 1.013535976409912, 0.2927476167678833, 0.4549456238746643, 0.24923107028007507, 1.0039159059524536, 0.9899955987930298, 1.0056555271148682, 1.0162692070007324, 1.0028984546661377, 1.005682110786438, 0.9930105805397034, 0.12628227472305298, 0.12628227472305298, 0.7576936483383179, 1.005635142326355, 1.0172111988067627, 0.9930166006088257, 1.0038398504257202, 0.9903186559677124, 0.9930141568183899, 0.9348762631416321, 0.05499272048473358, 1.0033553838729858, 1.005704402923584, 0.274882972240448, 0.4614107310771942, 0.2650657296180725, 0.9930270314216614, 0.9930055737495422, 0.3716772496700287, 0.3716772496700287, 0.2565096318721771, 0.5574991106987, 0.2508746087551117, 0.18815594911575317, 1.0133169889450073, 1.0140283107757568, 1.005724549293518, 1.002602458000183, 0.20969289541244507, 0.20969289541244507, 0.6290786862373352, 0.3286050260066986, 0.36904871463775635, 0.3033277094364166, 1.003686785697937, 0.5201513171195984, 0.30342158675193787, 0.17819997668266296, 1.0033067464828491, 1.0056400299072266, 0.14447139203548431, 0.8668283224105835, 0.9899125695228577, 1.005671501159668, 0.3703731596469879, 0.39914000034332275, 0.2301347851753235, 0.989509105682373, 0.40848979353904724, 0.4160544276237488, 0.1815510243177414, 0.27689406275749207, 0.3437305688858032, 0.3771488070487976, 1.002703070640564, 0.9899419546127319, 0.993012011051178, 1.0138421058654785, 1.0027644634246826, 1.0162276029586792, 0.9930216670036316, 0.9930134415626526, 0.43885836005210876, 0.30929067730903625, 0.25495582818984985, 0.990494966506958, 0.3487037718296051, 0.274511456489563, 0.378380686044693, 1.0030348300933838, 1.0056809186935425, 1.0035724639892578, 1.0027437210083008, 1.0022865533828735, 1.0031421184539795, 0.9930070638656616, 0.3339778184890747, 0.271356999874115, 0.3965986669063568, 1.0129724740982056, 0.9930562376976013, 0.5535928010940552, 0.2728421688079834, 0.17794054746627808, 0.7572584748268127, 0.047328654676675797, 0.18931461870670319, 0.3257874548435211, 0.5646982192993164, 0.1085958182811737, 1.0122634172439575, 1.0056649446487427, 0.626007616519928, 0.16124439239501953, 0.20866921544075012, 0.40244466066360474, 0.3952581584453583, 0.20840884745121002, 1.0056873559951782, 0.10024449974298477, 0.8019559979438782, 0.10024449974298477, 0.993013322353363, 1.0131055116653442, 0.6219239234924316, 0.24876955151557922, 0.12438477575778961, 1.0056791305541992, 1.0056442022323608, 1.005655288696289, 1.0174884796142578, 0.36295434832572937, 0.3251466155052185, 0.3125440180301666, 0.5727095603942871, 0.23536008596420288, 0.1909031867980957, 0.3207681179046631, 0.4105831980705261, 0.2694452106952667, 1.017181634902954, 1.0163391828536987, 1.0034985542297363, 1.0035771131515503, 0.8919734358787537, 0.09910815954208374, 0.4303213059902191, 0.327863872051239, 0.24077501893043518, 0.9900311827659607, 0.3968985080718994, 0.37355154752731323, 0.22880032658576965, 0.5181519389152527, 0.2720297574996948, 0.21373768150806427, 0.7286741137504578, 0.15456724166870117, 0.13248620927333832, 1.0056965351104736, 0.9929788708686829, 0.5595973134040833, 0.19370676577091217, 0.25110137462615967, 0.5093300938606262, 0.2340165376663208, 0.2546650469303131, 0.41697922348976135, 0.27956563234329224, 0.30325761437416077, 0.27801671624183655, 0.49116286635398865, 0.23168060183525085, 0.2718212902545929, 0.2718212902545929, 0.4600052237510681, 0.39549243450164795, 0.22246448695659637, 0.38313329219818115, 0.043701037764549255, 0.6555155515670776, 0.305907279253006, 0.9930903315544128, 1.013965129852295, 1.0162485837936401, 0.9930633902549744, 0.9902315735816956, 0.43658876419067383, 0.40300503373146057, 0.1631210744380951, 0.43674564361572266, 0.18315139412879944, 0.37334707379341125, 0.9930534958839417, 0.9930192828178406, 1.0140918493270874, 0.47700363397598267, 0.27178114652633667, 0.24959492683410645, 1.003137230873108, 0.4044187664985657, 0.4009020924568176, 0.19693435728549957, 1.0161463022232056, 1.0056416988372803, 0.9899705648422241, 0.3521394729614258, 0.4430141746997833, 0.20446807146072388, 0.5904097557067871, 0.1968032568693161, 0.20910345017910004, 1.0037426948547363, 1.005662441253662, 1.0056499242782593, 0.3363629877567291, 0.3285405933856964, 0.3363629877567291, 1.0028784275054932, 0.9899573922157288, 0.9893673658370972, 0.9901870489120483, 1.0162512063980103, 1.012696385383606, 0.9900660514831543, 0.9906392097473145, 0.4113475978374481, 0.276595801115036, 0.3120568096637726, 0.9899560213088989, 1.005691409111023, 0.9903020858764648, 0.4263775050640106, 0.4069966971874237, 0.1647367626428604, 1.0138390064239502, 0.8362360000610352, 0.1672472059726715, 0.6450840830802917, 0.18430973589420319, 0.18430973589420319, 0.472738653421402, 0.2511424124240875, 0.274779349565506, 1.0162712335586548, 1.0056824684143066, 1.014014720916748, 1.0162582397460938, 0.9930393099784851, 0.5885539650917053, 0.1613776981830597, 0.24681295454502106, 0.2174615114927292, 0.27745088934898376, 0.5099097490310669, 0.9930243492126465, 1.0057697296142578, 1.0162383317947388, 0.9930134415626526, 0.9930229187011719, 0.53928142786026, 0.2778116464614868, 0.18793140351772308, 0.9930956959724426, 1.0056363344192505, 0.9930447936058044, 0.27738142013549805, 0.6657153964042664, 1.003559947013855, 0.2044009566307068, 0.5927627682685852, 0.2044009566307068, 1.0056447982788086, 1.0035772323608398, 0.4546670913696289, 0.26322829723358154, 0.28715816140174866, 0.3991687595844269, 0.27528879046440125, 0.32117027044296265, 0.9900102019309998, 1.005642056465149, 1.012551188468933, 1.012905240058899, 0.9930899739265442, 0.12531737983226776, 0.751904308795929, 0.12531737983226776, 0.7286531925201416, 0.1324823945760727, 0.1324823945760727, 0.9897992610931396, 1.0140236616134644, 1.003522276878357, 0.9904302954673767, 0.45163580775260925, 0.3415732979774475, 0.20494398474693298, 1.0131096839904785, 0.9896042943000793, 0.4595547914505005, 0.20105521380901337, 0.33317720890045166, 0.25200626254081726, 0.7560187578201294, 1.0056530237197876, 1.0056617259979248, 0.9930106997489929, 1.0130597352981567, 1.0056625604629517, 1.0140480995178223, 0.990461528301239, 0.9904691576957703, 0.9910077452659607, 0.40922901034355164, 0.3284967541694641, 0.261683851480484, 1.0125436782836914, 0.9896606206893921, 1.0029969215393066, 0.4134520888328552, 0.38660454750061035, 0.19867178797721863, 0.9930450320243835, 0.5925050973892212, 0.22326278686523438, 0.18891467154026031, 1.002846121788025, 0.16826030611991882, 0.8413015007972717, 1.0142792463302612, 0.9930074214935303, 1.0162668228149414, 1.0162608623504639, 0.9897743463516235, 0.16813136637210846, 0.08406568318605423, 0.7565911412239075, 0.3377818763256073, 0.36280274391174316, 0.3002505600452423, 0.8360361456871033, 0.26167434453964233, 0.3343616724014282, 0.4070490002632141, 1.0138285160064697, 0.9897313117980957, 0.9930081367492676, 1.004653811454773, 0.9930263757705688, 0.1264825016260147, 0.8853774666786194, 1.0027170181274414, 1.0056428909301758, 1.0029295682907104, 0.9898960590362549, 0.44686591625213623, 0.3227365016937256, 0.22894982993602753, 1.0131299495697021, 0.5972039103507996, 0.2737184464931488, 0.12441748380661011, 1.016345739364624, 1.0162463188171387, 1.0162036418914795, 0.9897880554199219, 0.9930152893066406, 0.9900410771369934, 1.0126944780349731, 0.880264401435852, 0.1100330501794815, 1.0056757926940918, 0.9930638670921326, 1.0037415027618408, 1.013992428779602, 0.8820465803146362, 0.11025582253932953, 0.29401111602783203, 0.4134531319141388, 0.29401111602783203, 0.9901074171066284, 0.5843012928962708, 0.2551174759864807, 0.15636232495307922, 0.3492322862148285, 0.34251630306243896, 0.30222025513648987, 1.0057376623153687, 0.9898967146873474, 1.0161960124969482, 1.0142028331756592, 0.993028461933136, 1.0032731294631958, 0.9899829626083374, 1.0056687593460083, 0.5701591372489929, 0.2397865504026413, 0.19182924926280975, 0.9930328130722046, 0.9930030703544617, 1.013166069984436, 0.4780524671077728, 0.3019278645515442, 0.2222524732351303, 0.30637383460998535, 0.39230796694755554, 0.30263757705688477, 1.0056824684143066, 0.9930467009544373, 1.0026050806045532, 1.014007329940796, 0.8920109272003174, 0.09911232441663742, 1.0142154693603516, 0.36519041657447815, 0.42925888299942017, 0.20501917600631714, 0.9897019863128662], \"Term\": [\"1\", \"1\", \"1\", \"168\", \"1yrs\", \"2007\", \"2015\", \"3\", \"3\", \"3\", \"5\", \"5\", \"5\", \"66\", \"72\", \"\\\\\\\\tthe\", \"\\\\\\\\u00a3100\", \"abundant\", \"accepted\", \"accepting\", \"accommodation\", \"accommodation\", \"accommodation\", \"accro\", \"activities\", \"activities\", \"activities\", \"addition\", \"additional\", \"additional\", \"additionally\", \"adequately\", \"agreeable\", \"airconditioning\", \"amp\", \"amp\", \"amp\", \"angry\", \"antibiotics\", \"appalling\", \"appreciate\", \"appreciate\", \"approved\", \"aqua\", \"aqua\", \"aqua\", \"aquamundu\", \"arachnophobia\", \"area\", \"area\", \"area\", \"areas\", \"areas\", \"areas\", \"around\", \"around\", \"around\", \"arriving\", \"asleep\", \"audience\", \"awkward\", \"back\", \"back\", \"back\", \"bacteria\", \"bad\", \"bad\", \"bad\", \"banned\", \"bbq\", \"bbq\", \"bbq\", \"beach\", \"beach\", \"beach\", \"bear\", \"beaucoup\", \"becomes\", \"bedroom\", \"bedroom\", \"bedroom\", \"begins\", \"best\", \"best\", \"best\", \"better\", \"better\", \"better\", \"bikes\", \"bikes\", \"bikes\", \"bit\", \"bit\", \"bit\", \"blobs\", \"bubble\", \"budget\", \"build\", \"bustle\", \"calf\", \"capybara\", \"car\", \"car\", \"car\", \"carefure\", \"caught\", \"cave\", \"centre\", \"centre\", \"centre\", \"chainsaw\", \"challenge\", \"characters\", \"charactersreviews\", \"charges\", \"children\", \"children\", \"children\", \"chilrens\", \"clean\", \"clean\", \"clean\", \"clothing\", \"coeliacs\", \"colonial\", \"conce\", \"concerning\", \"conferences\", \"control\", \"cosmetic\", \"cost\", \"cost\", \"cost\", \"cottages\", \"cottages\", \"cottages\", \"could\", \"could\", \"could\", \"counterparts\", \"cruising\", \"cubicles\", \"cup\", \"day\", \"day\", \"day\", \"defeats\", \"definitly\", \"denied\", \"disconnected\", \"doctor\", \"doctors\", \"doorposts\", \"downside\", \"downside\", \"downside\", \"dragging\", \"dragonflies\", \"drains\", \"dreams\", \"drenched\", \"dubious\", \"dust\", \"dust\", \"dvds\", \"ear\", \"easy\", \"easy\", \"easy\", \"emphasis\", \"emptying\", \"english\", \"english\", \"english\", \"enjoyed\", \"enjoyed\", \"enjoyed\", \"entertaining\", \"excessively\", \"exclusion\", \"excuse\", \"expectations\", \"expectations\", \"expectations\", \"expensive\", \"expensive\", \"expensive\", \"failing\", \"family\", \"family\", \"family\", \"fellow\", \"fingernail\", \"finished\", \"finished\", \"fittings\", \"flatly\", \"food\", \"food\", \"food\", \"forget\", \"found\", \"found\", \"found\", \"french\", \"french\", \"french\", \"freshly\", \"fries\", \"funthe\", \"gcse\", \"gendarmerie\", \"generel\", \"gladly\", \"glossy\", \"go\", \"go\", \"go\", \"goals\", \"golf\", \"golf\", \"golf\", \"grade\", \"grandon\", \"grid\", \"grip\", \"gt\", \"gym\", \"hiccups\", \"high\", \"high\", \"high\", \"hindsight\", \"holer\", \"holiday\", \"holiday\", \"holiday\", \"holidays\", \"holidays\", \"holidays\", \"home\", \"home\", \"home\", \"horses\", \"hospitalier\", \"house\", \"house\", \"house\", \"however\", \"however\", \"however\", \"illness\", \"immediately\", \"immediately\", \"immediately\", \"impacted\", \"improvements\", \"indoor\", \"indoor\", \"indoor\", \"infection\", \"inflammation\", \"insisted\", \"international\", \"kids\", \"kids\", \"kids\", \"lake\", \"lake\", \"lake\", \"laon\", \"laon\", \"laon\", \"lazed\", \"lemon\", \"lets\", \"lift\", \"lights\", \"lights\", \"like\", \"like\", \"like\", \"litre\", \"little\", \"little\", \"little\", \"location\", \"location\", \"location\", \"lodge\", \"lodge\", \"lodge\", \"lodging\", \"looser\", \"lot\", \"lot\", \"lot\", \"loved\", \"loved\", \"loved\", \"lovely\", \"lovely\", \"lovely\", \"main\", \"main\", \"main\", \"maintained\", \"maintained\", \"maintained\", \"make\", \"make\", \"make\", \"manager\", \"manager\", \"manager\", \"marsh\", \"masks\", \"merge\", \"mismatched\", \"moins\", \"much\", \"much\", \"much\", \"mundo\", \"mundo\", \"mundo\", \"muscles\", \"nails\", \"neck\", \"need\", \"need\", \"need\", \"nescafe\", \"nice\", \"nice\", \"nice\", \"nt\", \"officially\", \"okay\", \"old\", \"old\", \"old\", \"ones\", \"ones\", \"ones\", \"operating\", \"organized\", \"otitis\", \"outside\", \"outside\", \"outside\", \"ovens\", \"overhaul\", \"painting\", \"pancakes\", \"pard\", \"password\", \"path\", \"payantes\", \"people\", \"people\", \"people\", \"personnes\", \"pharmacists\", \"pile\", \"place\", \"place\", \"place\", \"playarea\", \"pods\", \"pods\", \"point\", \"point\", \"point\", \"pool\", \"pool\", \"pool\", \"poorest\", \"pretend\", \"priciest\", \"pristine\", \"programs\", \"quality\", \"quality\", \"quality\", \"quot\", \"quot\", \"quot\", \"radiator\", \"rafters\", \"ranged\", \"rates\", \"reallocate\", \"recommend\", \"recommend\", \"recommend\", \"renters\", \"repeated\", \"repeating\", \"report\", \"report\", \"representative\", \"resort\", \"resort\", \"resort\", \"restaraunts\", \"restaruants\", \"restaurant\", \"restaurant\", \"restaurant\", \"restaurants\", \"restaurants\", \"restaurants\", \"resulted\", \"rewind\", \"roll\", \"rush\", \"rustic\", \"saturday\", \"saturday\", \"saturday\", \"school\", \"school\", \"school\", \"segways\", \"settled\", \"share\", \"shows\", \"site\", \"site\", \"site\", \"situation\", \"skirting\", \"slides\", \"slides\", \"slides\", \"slight\", \"slight\", \"slightest\", \"slovenly\", \"someday\", \"south\", \"spanish\", \"spatula\", \"specs\", \"spectacular\", \"spider\", \"staff\", \"staff\", \"staff\", \"staffed\", \"stars\", \"starts\", \"stay\", \"stay\", \"stay\", \"steepness\", \"still\", \"still\", \"still\", \"stopping\", \"street\", \"street\", \"stress\", \"styling\", \"sucked\", \"suggests\", \"sunsets\", \"superb\", \"superb\", \"superb\", \"supermarket\", \"supermarket\", \"supermarket\", \"supplies\", \"sure\", \"sure\", \"sure\", \"surpassed\", \"swam\", \"swimmingpools\", \"swing\", \"swmming\", \"thats\", \"thats\", \"theft\", \"thous\", \"thousands\", \"threadbare\", \"time\", \"time\", \"time\", \"timers\", \"tired\", \"tired\", \"tired\", \"tiredness\", \"tires\", \"tools\", \"tres\", \"trimming\", \"tucked\", \"tuesday\", \"typical\", \"typical\", \"undergoing\", \"uni\", \"units\", \"unresponsive\", \"update\", \"update\", \"use\", \"use\", \"use\", \"version\", \"view\", \"view\", \"view\", \"villa\", \"villa\", \"villa\", \"viruses\", \"voles\", \"vossermeen\", \"vpn\", \"vrry\", \"walled\", \"wallet\", \"wares\", \"water\", \"water\", \"water\", \"waterfalls\", \"waterworld\", \"weak\", \"week\", \"week\", \"week\", \"well\", \"well\", \"well\", \"west\", \"wettest\", \"wheels\", \"widely\", \"woodland\", \"woodland\", \"wwi\", \"year\", \"year\", \"year\", \"yesterday\"]}, \"R\": 30, \"lambda.step\": 0.01, \"plot.opts\": {\"xlab\": \"PC1\", \"ylab\": \"PC2\"}, \"topic.order\": [2, 3, 1]};\n",
       "\n",
       "function LDAvis_load_lib(url, callback){\n",
       "  var s = document.createElement('script');\n",
       "  s.src = url;\n",
       "  s.async = true;\n",
       "  s.onreadystatechange = s.onload = callback;\n",
       "  s.onerror = function(){console.warn(\"failed to load library \" + url);};\n",
       "  document.getElementsByTagName(\"head\")[0].appendChild(s);\n",
       "}\n",
       "\n",
       "if(typeof(LDAvis) !== \"undefined\"){\n",
       "   // already loaded: just create the visualization\n",
       "   !function(LDAvis){\n",
       "       new LDAvis(\"#\" + \"ldavis_el55791405573682140564938008833\", ldavis_el55791405573682140564938008833_data);\n",
       "   }(LDAvis);\n",
       "}else if(typeof define === \"function\" && define.amd){\n",
       "   // require.js is available: use it to load d3/LDAvis\n",
       "   require.config({paths: {d3: \"https://cdnjs.cloudflare.com/ajax/libs/d3/3.5.5/d3.min\"}});\n",
       "   require([\"d3\"], function(d3){\n",
       "      window.d3 = d3;\n",
       "      LDAvis_load_lib(\"https://cdn.rawgit.com/bmabey/pyLDAvis/files/ldavis.v1.0.0.js\", function(){\n",
       "        new LDAvis(\"#\" + \"ldavis_el55791405573682140564938008833\", ldavis_el55791405573682140564938008833_data);\n",
       "      });\n",
       "    });\n",
       "}else{\n",
       "    // require.js not available: dynamically load d3 & LDAvis\n",
       "    LDAvis_load_lib(\"https://cdnjs.cloudflare.com/ajax/libs/d3/3.5.5/d3.min.js\", function(){\n",
       "         LDAvis_load_lib(\"https://cdn.rawgit.com/bmabey/pyLDAvis/files/ldavis.v1.0.0.js\", function(){\n",
       "                 new LDAvis(\"#\" + \"ldavis_el55791405573682140564938008833\", ldavis_el55791405573682140564938008833_data);\n",
       "            })\n",
       "         });\n",
       "}\n",
       "</script>"
      ],
      "text/plain": [
       "PreparedData(topic_coordinates=                 x           y  topics  cluster       Freq\n",
       "topic                                                     \n",
       "1      -632.045471 -384.325073       1        1  42.945160\n",
       "2     -1209.665405  212.164124       2        1  31.503433\n",
       "0     -1437.453247 -586.322510       3        1  25.551403, topic_info=     Category        Freq         Term       Total  loglift  logprob\n",
       "847   Default  133.000000         quot  133.000000  30.0000  30.0000\n",
       "896   Default  209.000000       french  209.000000  29.0000  29.0000\n",
       "907   Default  396.000000         kids  396.000000  28.0000  28.0000\n",
       "353   Default  252.000000          day  252.000000  27.0000  27.0000\n",
       "506   Default  267.000000         well  267.000000  26.0000  26.0000\n",
       "109   Default  190.000000         aqua  190.000000  25.0000  25.0000\n",
       "113   Default  100.000000          car  100.000000  24.0000  24.0000\n",
       "123   Default  141.000000        mundo  141.000000  23.0000  23.0000\n",
       "170   Default  134.000000         golf  134.000000  22.0000  22.0000\n",
       "962   Default  197.000000    expensive  197.000000  21.0000  21.0000\n",
       "7168  Default   12.000000           gt   12.000000  20.0000  20.0000\n",
       "555   Default  348.000000   activities  348.000000  19.0000  19.0000\n",
       "538   Default  169.000000        bikes  169.000000  18.0000  18.0000\n",
       "258   Default  238.000000       centre  238.000000  17.0000  17.0000\n",
       "634   Default  174.000000       slides  174.000000  16.0000  16.0000\n",
       "516   Default  250.000000        could  250.000000  15.0000  15.0000\n",
       "782   Default  217.000000  restaurants  217.000000  14.0000  14.0000\n",
       "391   Default  107.000000         main  107.000000  13.0000  13.0000\n",
       "586   Default  278.000000         food  278.000000  12.0000  12.0000\n",
       "546   Default   95.000000         high   95.000000  11.0000  11.0000\n",
       "475   Default  155.000000         laon  155.000000  10.0000  10.0000\n",
       "577   Default  101.000000         easy  101.000000   9.0000   9.0000\n",
       "134   Default  122.000000            1  122.000000   8.0000   8.0000\n",
       "612   Default  176.000000          old  176.000000   7.0000   7.0000\n",
       "424   Default   68.000000         sure   68.000000   6.0000   6.0000\n",
       "798   Default  159.000000  supermarket  159.000000   5.0000   5.0000\n",
       "31    Default  161.000000     cottages  161.000000   4.0000   4.0000\n",
       "1207  Default  108.000000          use  108.000000   3.0000   3.0000\n",
       "682   Default  127.000000      outside  127.000000   2.0000   2.0000\n",
       "498   Default  359.000000        staff  359.000000   1.0000   1.0000\n",
       "...       ...         ...          ...         ...      ...      ...\n",
       "406    Topic3   93.093216         pool  338.453400   0.0737  -5.1793\n",
       "498    Topic3   94.280510        staff  359.212067   0.0268  -5.1667\n",
       "699    Topic3   32.789131          bad   82.894905   0.4370  -6.2228\n",
       "768    Topic3   64.140961       lovely  211.041687   0.1735  -5.5519\n",
       "676    Topic3   21.969477   maintained   47.825542   0.5866  -6.6233\n",
       "962    Topic3   59.845184    expensive  197.805862   0.1690  -5.6212\n",
       "709    Topic3   31.461853         make   80.911789   0.4199  -6.2642\n",
       "31     Topic3   50.456112     cottages  161.877304   0.1987  -5.7918\n",
       "682    Topic3   42.713619      outside  127.838089   0.2682  -5.9584\n",
       "424    Topic3   27.596985         sure   68.787788   0.4512  -6.3952\n",
       "428    Topic3   83.189270         time  362.524841  -0.1075  -5.2918\n",
       "798    Topic3   48.023289  supermarket  159.866486   0.1618  -5.8413\n",
       "403    Topic3   44.033188       people  140.999969   0.2007  -5.9280\n",
       "346    Topic3   70.868393     children  290.817902  -0.0474  -5.4521\n",
       "995    Topic3   45.412502        villa  148.898026   0.1770  -5.8972\n",
       "1411   Topic3   43.812248        beach  142.096466   0.1879  -5.9330\n",
       "353    Topic3   63.291840          day  252.777466  -0.0203  -5.5652\n",
       "524    Topic3   60.699585           go  239.257141  -0.0071  -5.6070\n",
       "443    Topic3   63.383522         area  266.667694  -0.0723  -5.5637\n",
       "986    Topic3   47.542336   restaurant  167.155273   0.1072  -5.8513\n",
       "586    Topic3   64.441704         food  278.097900  -0.0977  -5.5472\n",
       "336    Topic3   55.436073         back  218.200623  -0.0057  -5.6977\n",
       "594    Topic3   73.296440         lake  382.392792  -0.2875  -5.4184\n",
       "557    Topic3   53.665371       around  214.297729  -0.0201  -5.7302\n",
       "258    Topic3   56.385201       centre  238.021362  -0.0757  -5.6807\n",
       "461    Topic3   49.158581      english  191.025955   0.0071  -5.8179\n",
       "505    Topic3   52.856613         week  238.467545  -0.1422  -5.7454\n",
       "608    Topic3   55.735855         nice  284.358704  -0.2651  -5.6923\n",
       "200    Topic3   54.119019         site  263.486633  -0.2183  -5.7218\n",
       "476    Topic3   49.340012       little  214.160538  -0.1035  -5.8142\n",
       "\n",
       "[419 rows x 6 columns], token_table=      Topic      Freq           Term\n",
       "term                                \n",
       "134       1  0.319626              1\n",
       "134       2  0.483537              1\n",
       "134       3  0.188497              1\n",
       "5716      1  0.993011            168\n",
       "6246      3  1.016244           1yrs\n",
       "6389      3  1.012623           2007\n",
       "5068      1  0.992999           2015\n",
       "135       1  0.476301              3\n",
       "135       2  0.263974              3\n",
       "135       3  0.258235              3\n",
       "137       1  0.344832              5\n",
       "137       2  0.420695              5\n",
       "137       3  0.234486              5\n",
       "3078      1  0.993077             66\n",
       "1875      3  1.016257             72\n",
       "3647      2  1.003216         \\\\tthe\n",
       "3793      2  1.002868     \\\\u00a3100\n",
       "4374      2  1.004306       abundant\n",
       "6187      3  1.016188       accepted\n",
       "3310      3  1.016284      accepting\n",
       "439       1  0.628737  accommodation\n",
       "439       2  0.189931  accommodation\n",
       "439       3  0.183382  accommodation\n",
       "5928      2  1.003465          accro\n",
       "555       1  0.410793     activities\n",
       "555       2  0.298758     activities\n",
       "555       3  0.290140     activities\n",
       "5782      1  0.989996       addition\n",
       "1588      2  0.202099     additional\n",
       "1588      3  0.707346     additional\n",
       "...     ...       ...            ...\n",
       "6373      1  0.989897          voles\n",
       "4968      3  1.016196     vossermeen\n",
       "5472      3  1.014203            vpn\n",
       "6245      1  0.993028           vrry\n",
       "3195      2  1.003273         walled\n",
       "3089      1  0.989983         wallet\n",
       "5783      2  1.005669          wares\n",
       "1079      1  0.570159          water\n",
       "1079      2  0.239787          water\n",
       "1079      3  0.191829          water\n",
       "5521      1  0.993033     waterfalls\n",
       "6465      1  0.993003     waterworld\n",
       "869       3  1.013166           weak\n",
       "505       1  0.478052           week\n",
       "505       2  0.301928           week\n",
       "505       3  0.222252           week\n",
       "506       1  0.306374           well\n",
       "506       2  0.392308           well\n",
       "506       3  0.302638           well\n",
       "5994      2  1.005682           west\n",
       "4783      1  0.993047        wettest\n",
       "3562      2  1.002605         wheels\n",
       "2725      3  1.014007         widely\n",
       "649       1  0.892011       woodland\n",
       "649       2  0.099112       woodland\n",
       "5963      3  1.014215            wwi\n",
       "1140      1  0.365190           year\n",
       "1140      2  0.429259           year\n",
       "1140      3  0.205019           year\n",
       "2421      1  0.989702      yesterday\n",
       "\n",
       "[552 rows x 3 columns], R=30, lambda_step=0.01, plot_opts={'xlab': 'PC1', 'ylab': 'PC2'}, topic_order=[2, 3, 1])"
      ]
     },
     "execution_count": 97,
     "metadata": {},
     "output_type": "execute_result"
    }
   ],
   "source": [
    "pyLDAvis.enable_notebook()\n",
    "viz\n",
    "#pyLDAvis.show(viz)"
   ]
  },
  {
   "cell_type": "code",
   "execution_count": null,
   "metadata": {},
   "outputs": [],
   "source": []
  }
 ],
 "metadata": {
  "kernelspec": {
   "display_name": "Python 3",
   "language": "python",
   "name": "python3"
  },
  "language_info": {
   "codemirror_mode": {
    "name": "ipython",
    "version": 3
   },
   "file_extension": ".py",
   "mimetype": "text/x-python",
   "name": "python",
   "nbconvert_exporter": "python",
   "pygments_lexer": "ipython3",
   "version": "3.6.7"
  }
 },
 "nbformat": 4,
 "nbformat_minor": 2
}
