{
 "cells": [
  {
   "cell_type": "markdown",
   "metadata": {
    "colab_type": "text",
    "id": "AJJa5LepUlM5"
   },
   "source": [
    "# Making initial imports"
   ]
  },
  {
   "cell_type": "code",
   "execution_count": 1,
   "metadata": {
    "colab": {},
    "colab_type": "code",
    "id": "B1brrbapzwjh"
   },
   "outputs": [],
   "source": [
    "# !pip install langdetect\n",
    "import pandas as pd\n",
    "import matplotlib.pyplot as plt\n",
    "import seaborn as sns\n",
    "import re"
   ]
  },
  {
   "cell_type": "code",
   "execution_count": 2,
   "metadata": {
    "colab": {
     "base_uri": "https://localhost:8080/",
     "height": 102
    },
    "colab_type": "code",
    "id": "cX6z2S4cPsVu",
    "outputId": "ddf42c5b-5901-4ea0-e200-c2a26cbe32a8"
   },
   "outputs": [
    {
     "name": "stderr",
     "output_type": "stream",
     "text": [
      "[nltk_data] Downloading package punkt to /home/elliot/nltk_data...\n",
      "[nltk_data]   Package punkt is already up-to-date!\n",
      "[nltk_data] Downloading package stopwords to /home/elliot/nltk_data...\n",
      "[nltk_data]   Package stopwords is already up-to-date!\n"
     ]
    },
    {
     "data": {
      "text/plain": [
       "True"
      ]
     },
     "execution_count": 2,
     "metadata": {},
     "output_type": "execute_result"
    }
   ],
   "source": [
    "# NLP library imports\n",
    "import nltk\n",
    "from nltk.corpus import stopwords\n",
    "from nltk.stem.wordnet import WordNetLemmatizer\n",
    "from nltk.stem import PorterStemmer\n",
    "from nltk import word_tokenize\n",
    "from nltk.tokenize import sent_tokenize\n",
    "from nltk.tokenize import word_tokenize\n",
    "nltk.download('punkt')\n",
    "nltk.download('stopwords')"
   ]
  },
  {
   "cell_type": "markdown",
   "metadata": {
    "colab_type": "text",
    "id": "s5YWKd3kDjAN"
   },
   "source": [
    "# Loading data scrapped on TrustPilot"
   ]
  },
  {
   "cell_type": "markdown",
   "metadata": {
    "colab_type": "text",
    "id": "SVw85YFlviN_"
   },
   "source": [
    "The dataframe is  composed with the comments scraped on Trustpolit at [this page](https://fr.trustpilot.com/review/www.centerparcs.fr/fr-fr)."
   ]
  },
  {
   "cell_type": "code",
   "execution_count": 3,
   "metadata": {
    "colab": {
     "base_uri": "https://localhost:8080/",
     "height": 204
    },
    "colab_type": "code",
    "id": "ihyBDJ8tsv6v",
    "outputId": "c3395200-8aa6-49ef-efcb-00cb275e889d",
    "scrolled": true
   },
   "outputs": [
    {
     "data": {
      "text/html": [
       "<div>\n",
       "<style scoped>\n",
       "    .dataframe tbody tr th:only-of-type {\n",
       "        vertical-align: middle;\n",
       "    }\n",
       "\n",
       "    .dataframe tbody tr th {\n",
       "        vertical-align: top;\n",
       "    }\n",
       "\n",
       "    .dataframe thead th {\n",
       "        text-align: right;\n",
       "    }\n",
       "</style>\n",
       "<table border=\"1\" class=\"dataframe\">\n",
       "  <thead>\n",
       "    <tr style=\"text-align: right;\">\n",
       "      <th></th>\n",
       "      <th>time</th>\n",
       "      <th>body</th>\n",
       "    </tr>\n",
       "  </thead>\n",
       "  <tbody>\n",
       "    <tr>\n",
       "      <th>0</th>\n",
       "      <td>1543622368</td>\n",
       "      <td>CoinSpeakerProBit: Professional Digital Curren...</td>\n",
       "    </tr>\n",
       "    <tr>\n",
       "      <th>1</th>\n",
       "      <td>1543620634</td>\n",
       "      <td>Today in crypto heard rumors of Satoshi's retu...</td>\n",
       "    </tr>\n",
       "    <tr>\n",
       "      <th>2</th>\n",
       "      <td>1543620300</td>\n",
       "      <td>Crashes in the crypto market resulted in spike...</td>\n",
       "    </tr>\n",
       "    <tr>\n",
       "      <th>3</th>\n",
       "      <td>1543620202</td>\n",
       "      <td>SEC Chairman Jay Clayton has claimed that bitc...</td>\n",
       "    </tr>\n",
       "    <tr>\n",
       "      <th>4</th>\n",
       "      <td>1543618813</td>\n",
       "      <td>There are four different Ethereum working grou...</td>\n",
       "    </tr>\n",
       "  </tbody>\n",
       "</table>\n",
       "</div>"
      ],
      "text/plain": [
       "         time                                               body\n",
       "0  1543622368  CoinSpeakerProBit: Professional Digital Curren...\n",
       "1  1543620634  Today in crypto heard rumors of Satoshi's retu...\n",
       "2  1543620300  Crashes in the crypto market resulted in spike...\n",
       "3  1543620202  SEC Chairman Jay Clayton has claimed that bitc...\n",
       "4  1543618813  There are four different Ethereum working grou..."
      ]
     },
     "execution_count": 3,
     "metadata": {},
     "output_type": "execute_result"
    }
   ],
   "source": [
    "df = pd.read_csv('CryptoData_head.csv')\n",
    "df.head()"
   ]
  },
  {
   "cell_type": "code",
   "execution_count": 7,
   "metadata": {
    "collapsed": true
   },
   "outputs": [
    {
     "name": "stderr",
     "output_type": "stream",
     "text": [
      "/home/elliot/.local/lib/python3.6/site-packages/pandas/core/generic.py:5096: SettingWithCopyWarning: \n",
      "A value is trying to be set on a copy of a slice from a DataFrame.\n",
      "Try using .loc[row_indexer,col_indexer] = value instead\n",
      "\n",
      "See the caveats in the documentation: http://pandas.pydata.org/pandas-docs/stable/indexing.html#indexing-view-versus-copy\n",
      "  self[name] = value\n"
     ]
    },
    {
     "data": {
      "text/plain": [
       "0      Après une désastreuse aventure au Bois franc, ...\n",
       "1      Ambiance détendue , une vraie déconnexion.  Le...\n",
       "2      Première fois que nous allions à center Parcs ...\n",
       "3      Génial pour les enfants petits et grands ! Ple...\n",
       "4      Nous avons fait une réservation avec notre CE ...\n",
       "5      This was the third European CP we've visited, ...\n",
       "6      I have to admit after reading so many negative...\n",
       "7      they have good amenities but the cottages are ...\n",
       "8      Pool was fun but there was overcrowding at tim...\n",
       "9      Our third European Centre Parcs.  The location...\n",
       "10     Hi- we are on our way home following a week at...\n",
       "11     the place is nice, looks good.BUT we arrived t...\n",
       "12     Journey from folkestone was easy it took appro...\n",
       "13     Just had a fab family holiday plenty to do and...\n",
       "14     This was our third stay in a Center Parcs' vil...\n",
       "15     Stayed 24th Aug to 27th Aug. Very easy to get ...\n",
       "16     So getting here was easy just 2.5 hours from C...\n",
       "17     We had a nice family weekend here. It is a ver...\n",
       "18     We had a fantastic 7 night stay at the start o...\n",
       "19     Stayed in premium 4 bed house 401! Not a fault...\n",
       "20     What a great place to stay! Lovely peaceful, g...\n",
       "21     I am writing this on my last day sitting on a ...\n",
       "22     We have just returned from a trip to this Cent...\n",
       "23     Aqua mundo was the highlight- whole family lov...\n",
       "24     We spent 4 nights recently and had a good time...\n",
       "25     Stayed in a Premium 4 bedroom cottage, loads o...\n",
       "26     Our family visited this parc last week. Premiu...\n",
       "27     I was really torn when it came to booking this...\n",
       "28     We had a great holiday at Le Lac there were pl...\n",
       "29     Please don't be put off by some of the reviews...\n",
       "                             ...                        \n",
       "633    We returned from Center Parcs Le Lac d'Ailette...\n",
       "634    Filthy dirty villas; filthy swimming pools; la...\n",
       "635    We have been to 2 of the UK parcs and although...\n",
       "636    We totally agree with all the positive reviews...\n",
       "637    Just returned from 2 weeks at this park after ...\n",
       "638    Having visited UK parks and one in Belguim  - ...\n",
       "639    like, I suspect,  other people I was a bit anx...\n",
       "640    After reading some bad reviews I was a bit sce...\n",
       "641    Spent a week in that park with 4 children. The...\n",
       "642    This was my first experience of centre parcs f...\n",
       "643    I really enjoyed this holiday at Center Parcs,...\n",
       "644    I'm french so get used to go in the French Cen...\n",
       "645    We had a great holiday, checkin was a breeze a...\n",
       "646    The site was badly signposted when you arrived...\n",
       "647    We booked this CP as a change to our normal du...\n",
       "648    In summary, the pool and kids facilites were g...\n",
       "649    Having enjoyed many stays at all the various E...\n",
       "650    This is the fourth Center Parcs I have visited...\n",
       "651    This was our fifth visit to centerparcs Europe...\n",
       "652    We stayed here for a week 29th May to 5th June...\n",
       "653    This is the 3rd Euro CP I have visited in the ...\n",
       "654    Firstly I have to say that we have been to CP'...\n",
       "655    Did Monday to Friday half term week and it was...\n",
       "656    Not impressed with Centre Parcs at all - site ...\n",
       "657    This is the 7th different Center Parcs we have...\n",
       "658    I'm not sure what I make of this place! It's t...\n",
       "659    We (my husband, 5 and 6 years old girls and my...\n",
       "660    Visited here in April with my husband and 2 ch...\n",
       "661    Journey time from Calais takes approximately 2...\n",
       "662    We stayed at this new Center Parcs 22nd to 26t...\n",
       "Name: review, Length: 663, dtype: object"
      ]
     },
     "execution_count": 7,
     "metadata": {},
     "output_type": "execute_result"
    }
   ],
   "source": [
    "df1.review = df1.review.apply(lambda x:x.replace(r\"\\u00e8\",\"è\"))\n",
    "df1.review = df1.review.apply(lambda x:x.replace(r'\\u00e9', 'é'))\n",
    "df1.review = df1.review.apply(lambda x:x.replace(r\"\\u00ea\",\"ê\"))\n",
    "df1.review = df1.review.apply(lambda x:x.replace(r\"\\u00eb\",\"ë\"))\n",
    "df1.review = df1.review.apply(lambda x:x.replace(r\"\\u00fb\",\"û\"))\n",
    "df1.review = df1.review.apply(lambda x:x.replace(r\"\\u00f9\",\"ù\"))\n",
    "df1.review = df1.review.apply(lambda x:x.replace(r'\\u00e0', 'à'))\n",
    "df1.review = df1.review.apply(lambda x:x.replace(r'\\u00e2', 'â'))\n",
    "df1.review = df1.review.apply(lambda x:x.replace(r'\\u00f4', 'ô'))\n",
    "df1.review = df1.review.apply(lambda x:x.replace(r'\\u00ee', 'î'))\n",
    "df1.review = df1.review.apply(lambda x:x.replace(r'\\u00ef', 'ï'))\n",
    "df1.review = df1.review.apply(lambda x:x.replace(r'\\u2019', \"'\"))\n",
    "df1.review = df1.review.apply(lambda x:x.replace(r'\\'', \"'\"))\n",
    "\n",
    "df1.review"
   ]
  },
  {
   "cell_type": "code",
   "execution_count": 8,
   "metadata": {
    "collapsed": true
   },
   "outputs": [
    {
     "data": {
      "text/plain": [
       "0                                      très bon week end\n",
       "1      Séjour agréable comme toujours ,une vraie déco...\n",
       "2                                 3,5 serait plus juste \n",
       "3                                    Endroit sympathique\n",
       "4                               Réservation février 2019\n",
       "5               Great holiday, but too many cars on site\n",
       "6                                  Supassed expectations\n",
       "7          good amenities but the cottages are not clean\n",
       "8                    Not enamoured with Le Lac D'Ailette\n",
       "9                     Family holiday - children 10 and 7\n",
       "10                           Very tired and dirty resort\n",
       "11               Nice place, super disappointing service\n",
       "12                                       Annual holiday \n",
       "13                                             Fantastic\n",
       "14                                              Not good\n",
       "15                                          'A surprise'\n",
       "16                  Brilliant Holiday - Here's some tips\n",
       "17             Fun weekend but not the best centre parcs\n",
       "18                   Fantastic stay for the whole family\n",
       "19                                     Best Centre Parcs\n",
       "20               Great place, will definitely come back!\n",
       "21                               Don't believe the hype!\n",
       "22     Works well - kids loved - easy travels - comfo...\n",
       "23                                     Centre parcs fun!\n",
       "24                                    Overall great stay\n",
       "25                       Great stay!!! Good family fun!!\n",
       "26                          Things could be really good.\n",
       "27                Enjoyable but not sure we would return\n",
       "28                                               Aug Fun\n",
       "29                                   Brilliant holiday! \n",
       "                             ...                        \n",
       "633                  Not for us...dirty and understaffed\n",
       "634                                   Cryptosporidium!!!\n",
       "635                          Just like the UK but better\n",
       "636    Great Holiday for Disabled - Really relaxing a...\n",
       "637    Great setting, good accomodation, good facilities\n",
       "638                                      best so far....\n",
       "639    Ignore all the negativity of previous reports ...\n",
       "640          Fantastic holiday with breathtaking nature!\n",
       "641                             Great holiday for family\n",
       "642    Good for children but not clean and far too mu...\n",
       "643               Great Family Holiday With Plenty To Do\n",
       "644                                   No value for money\n",
       "645                                    A superb holiday,\n",
       "646                                The worst trip ever!!\n",
       "647                                       Enjoyable stay\n",
       "648                           Best Centre Parc in France\n",
       "649          Great Lake Vista - Retaurants Disappointing\n",
       "650                      Fantastic Children's Play Areas\n",
       "651                           ok but a bit of a rip off!\n",
       "652     Great week, the sun shone and everyone was happy\n",
       "653                   How many flumes can a man take ???\n",
       "654                      A different type of Centerparcs\n",
       "655                                          fab fab fab\n",
       "656                    Stay at Home and save your money!\n",
       "657                             Not the best Ceter Parcs\n",
       "658                      Center Parcs meets Newport Bay!\n",
       "659                        Happy kids = happy parents ;)\n",
       "660    Great pool, great houses, awful sports facilities\n",
       "661    newly designed accomodation  a breath of fresh...\n",
       "662    First review of great new Center Parcs in Fran...\n",
       "Name: title, Length: 663, dtype: object"
      ]
     },
     "execution_count": 8,
     "metadata": {},
     "output_type": "execute_result"
    }
   ],
   "source": [
    "df1.title = df1.title.apply(lambda x:x.replace(r\"\\u00e8\",\"è\"))\n",
    "df1.title = df1.title.apply(lambda x:x.replace(r'\\u00e9', 'é'))\n",
    "df1.title = df1.title.apply(lambda x:x.replace(r\"\\u00ea\",\"ê\"))\n",
    "df1.title = df1.title.apply(lambda x:x.replace(r\"\\u00eb\",\"ë\"))\n",
    "df1.title = df1.title.apply(lambda x:x.replace(r\"\\u00f9\",\"ù\"))\n",
    "df1.title = df1.title.apply(lambda x:x.replace(r'\\u00ee', 'î'))\n",
    "df1.title = df1.title.apply(lambda x:x.replace(r'\\u00ef', 'ï'))\n",
    "df1.title = df1.title.apply(lambda x:x.replace(r\"\\u00fb\",\"û\"))\n",
    "df1.title = df1.title.apply(lambda x:x.replace(r'\\u00e0', 'à'))\n",
    "df1.title = df1.title.apply(lambda x:x.replace(r'\\u00e2', 'â'))\n",
    "df1.title = df1.title.apply(lambda x:x.replace(r'\\u00f4', 'ô'))\n",
    "df1.title = df1.title.apply(lambda x:x.replace(r'\\u2019', \"'\"))\n",
    "df1.title = df1.title.apply(lambda x:x.replace(r'\\'', \"'\"))\n",
    "\n",
    "df1.title"
   ]
  },
  {
   "cell_type": "code",
   "execution_count": 9,
   "metadata": {},
   "outputs": [],
   "source": [
    "df1.trip_date = df1.trip_date.apply(lambda x:x.replace(r\"\\u00e8\",\"è\"))\n",
    "df1.trip_date = df1.trip_date.apply(lambda x:x.replace(r'\\u00e9', 'é'))\n",
    "df1.trip_date = df1.trip_date.apply(lambda x:x.replace(r\"\\u00ea\",\"ê\"))\n",
    "df1.trip_date = df1.trip_date.apply(lambda x:x.replace(r\"\\u00eb\",\"ë\"))\n",
    "df1.trip_date = df1.trip_date.apply(lambda x:x.replace(r\"\\u00f9\",\"ù\"))\n",
    "df1.trip_date = df1.trip_date.apply(lambda x:x.replace(r'\\u00ee', 'î'))\n",
    "df1.trip_date = df1.trip_date.apply(lambda x:x.replace(r'\\u00ef', 'ï'))\n",
    "df1.trip_date = df1.trip_date.apply(lambda x:x.replace(r\"\\u00fb\",\"û\"))\n",
    "df1.trip_date = df1.trip_date.apply(lambda x:x.replace(r'\\u00e0', 'à'))\n",
    "df1.trip_date = df1.trip_date.apply(lambda x:x.replace(r'\\u00e2', 'â'))\n",
    "df1.trip_date = df1.trip_date.apply(lambda x:x.replace(r'\\u00f4', 'ô'))\n",
    "df1.trip_date = df1.trip_date.apply(lambda x:x.replace(r'\\u2019', \"'\"))\n",
    "df1.trip_date = df1.trip_date.apply(lambda x:x.replace(r'\\'', \"'\"))"
   ]
  },
  {
   "cell_type": "code",
   "execution_count": 13,
   "metadata": {},
   "outputs": [
    {
     "data": {
      "text/plain": [
       "412"
      ]
     },
     "execution_count": 13,
     "metadata": {},
     "output_type": "execute_result"
    }
   ],
   "source": [
    "len(df['body'][0])"
   ]
  },
  {
   "cell_type": "code",
   "execution_count": 10,
   "metadata": {},
   "outputs": [
    {
     "data": {
      "text/plain": [
       "pandas.core.series.Series"
      ]
     },
     "execution_count": 10,
     "metadata": {},
     "output_type": "execute_result"
    }
   ],
   "source": [
    "type(df['body'])"
   ]
  },
  {
   "cell_type": "markdown",
   "metadata": {
    "colab_type": "text",
    "id": "O3KKfifnDq2V"
   },
   "source": [
    "# Shapping dataFrame"
   ]
  },
  {
   "cell_type": "markdown",
   "metadata": {},
   "source": [
    "**Making some modifications from raw data**"
   ]
  },
  {
   "cell_type": "code",
   "execution_count": 81,
   "metadata": {
    "colab": {
     "base_uri": "https://localhost:8080/",
     "height": 235
    },
    "colab_type": "code",
    "collapsed": true,
    "id": "mDAVmCJdtM31",
    "outputId": "05c9ca5c-3b48-4564-dce2-470ca8a9c320"
   },
   "outputs": [
    {
     "ename": "KeyError",
     "evalue": "'published_date'",
     "output_type": "error",
     "traceback": [
      "\u001b[1;31m---------------------------------------------------------------------------\u001b[0m",
      "\u001b[1;31mKeyError\u001b[0m                                  Traceback (most recent call last)",
      "\u001b[1;32m~\\Anaconda3\\lib\\site-packages\\pandas\\core\\indexes\\base.py\u001b[0m in \u001b[0;36mget_loc\u001b[1;34m(self, key, method, tolerance)\u001b[0m\n\u001b[0;32m   3077\u001b[0m             \u001b[1;32mtry\u001b[0m\u001b[1;33m:\u001b[0m\u001b[1;33m\u001b[0m\u001b[1;33m\u001b[0m\u001b[0m\n\u001b[1;32m-> 3078\u001b[1;33m                 \u001b[1;32mreturn\u001b[0m \u001b[0mself\u001b[0m\u001b[1;33m.\u001b[0m\u001b[0m_engine\u001b[0m\u001b[1;33m.\u001b[0m\u001b[0mget_loc\u001b[0m\u001b[1;33m(\u001b[0m\u001b[0mkey\u001b[0m\u001b[1;33m)\u001b[0m\u001b[1;33m\u001b[0m\u001b[1;33m\u001b[0m\u001b[0m\n\u001b[0m\u001b[0;32m   3079\u001b[0m             \u001b[1;32mexcept\u001b[0m \u001b[0mKeyError\u001b[0m\u001b[1;33m:\u001b[0m\u001b[1;33m\u001b[0m\u001b[1;33m\u001b[0m\u001b[0m\n",
      "\u001b[1;32mpandas\\_libs\\index.pyx\u001b[0m in \u001b[0;36mpandas._libs.index.IndexEngine.get_loc\u001b[1;34m()\u001b[0m\n",
      "\u001b[1;32mpandas\\_libs\\index.pyx\u001b[0m in \u001b[0;36mpandas._libs.index.IndexEngine.get_loc\u001b[1;34m()\u001b[0m\n",
      "\u001b[1;32mpandas\\_libs\\hashtable_class_helper.pxi\u001b[0m in \u001b[0;36mpandas._libs.hashtable.PyObjectHashTable.get_item\u001b[1;34m()\u001b[0m\n",
      "\u001b[1;32mpandas\\_libs\\hashtable_class_helper.pxi\u001b[0m in \u001b[0;36mpandas._libs.hashtable.PyObjectHashTable.get_item\u001b[1;34m()\u001b[0m\n",
      "\u001b[1;31mKeyError\u001b[0m: 'published_date'",
      "\nDuring handling of the above exception, another exception occurred:\n",
      "\u001b[1;31mKeyError\u001b[0m                                  Traceback (most recent call last)",
      "\u001b[1;32m<ipython-input-81-0b0e3cac322e>\u001b[0m in \u001b[0;36m<module>\u001b[1;34m\u001b[0m\n\u001b[0;32m      6\u001b[0m \u001b[1;33m\u001b[0m\u001b[0m\n\u001b[0;32m      7\u001b[0m \u001b[1;31m# Setting date as index\u001b[0m\u001b[1;33m\u001b[0m\u001b[1;33m\u001b[0m\u001b[1;33m\u001b[0m\u001b[0m\n\u001b[1;32m----> 8\u001b[1;33m \u001b[0mdf1\u001b[0m\u001b[1;33m.\u001b[0m\u001b[0mset_index\u001b[0m\u001b[1;33m(\u001b[0m\u001b[1;34m'published_date'\u001b[0m\u001b[1;33m,\u001b[0m \u001b[0minplace\u001b[0m \u001b[1;33m=\u001b[0m \u001b[1;32mTrue\u001b[0m\u001b[1;33m)\u001b[0m\u001b[1;33m\u001b[0m\u001b[1;33m\u001b[0m\u001b[0m\n\u001b[0m\u001b[0;32m      9\u001b[0m \u001b[1;33m\u001b[0m\u001b[0m\n\u001b[0;32m     10\u001b[0m \u001b[1;31m#  Displaying result\u001b[0m\u001b[1;33m\u001b[0m\u001b[1;33m\u001b[0m\u001b[1;33m\u001b[0m\u001b[0m\n",
      "\u001b[1;32m~\\Anaconda3\\lib\\site-packages\\pandas\\core\\frame.py\u001b[0m in \u001b[0;36mset_index\u001b[1;34m(self, keys, drop, append, inplace, verify_integrity)\u001b[0m\n\u001b[0;32m   3907\u001b[0m                 \u001b[0mnames\u001b[0m\u001b[1;33m.\u001b[0m\u001b[0mappend\u001b[0m\u001b[1;33m(\u001b[0m\u001b[1;32mNone\u001b[0m\u001b[1;33m)\u001b[0m\u001b[1;33m\u001b[0m\u001b[1;33m\u001b[0m\u001b[0m\n\u001b[0;32m   3908\u001b[0m             \u001b[1;32melse\u001b[0m\u001b[1;33m:\u001b[0m\u001b[1;33m\u001b[0m\u001b[1;33m\u001b[0m\u001b[0m\n\u001b[1;32m-> 3909\u001b[1;33m                 \u001b[0mlevel\u001b[0m \u001b[1;33m=\u001b[0m \u001b[0mframe\u001b[0m\u001b[1;33m[\u001b[0m\u001b[0mcol\u001b[0m\u001b[1;33m]\u001b[0m\u001b[1;33m.\u001b[0m\u001b[0m_values\u001b[0m\u001b[1;33m\u001b[0m\u001b[1;33m\u001b[0m\u001b[0m\n\u001b[0m\u001b[0;32m   3910\u001b[0m                 \u001b[0mnames\u001b[0m\u001b[1;33m.\u001b[0m\u001b[0mappend\u001b[0m\u001b[1;33m(\u001b[0m\u001b[0mcol\u001b[0m\u001b[1;33m)\u001b[0m\u001b[1;33m\u001b[0m\u001b[1;33m\u001b[0m\u001b[0m\n\u001b[0;32m   3911\u001b[0m                 \u001b[1;32mif\u001b[0m \u001b[0mdrop\u001b[0m\u001b[1;33m:\u001b[0m\u001b[1;33m\u001b[0m\u001b[1;33m\u001b[0m\u001b[0m\n",
      "\u001b[1;32m~\\Anaconda3\\lib\\site-packages\\pandas\\core\\frame.py\u001b[0m in \u001b[0;36m__getitem__\u001b[1;34m(self, key)\u001b[0m\n\u001b[0;32m   2686\u001b[0m             \u001b[1;32mreturn\u001b[0m \u001b[0mself\u001b[0m\u001b[1;33m.\u001b[0m\u001b[0m_getitem_multilevel\u001b[0m\u001b[1;33m(\u001b[0m\u001b[0mkey\u001b[0m\u001b[1;33m)\u001b[0m\u001b[1;33m\u001b[0m\u001b[1;33m\u001b[0m\u001b[0m\n\u001b[0;32m   2687\u001b[0m         \u001b[1;32melse\u001b[0m\u001b[1;33m:\u001b[0m\u001b[1;33m\u001b[0m\u001b[1;33m\u001b[0m\u001b[0m\n\u001b[1;32m-> 2688\u001b[1;33m             \u001b[1;32mreturn\u001b[0m \u001b[0mself\u001b[0m\u001b[1;33m.\u001b[0m\u001b[0m_getitem_column\u001b[0m\u001b[1;33m(\u001b[0m\u001b[0mkey\u001b[0m\u001b[1;33m)\u001b[0m\u001b[1;33m\u001b[0m\u001b[1;33m\u001b[0m\u001b[0m\n\u001b[0m\u001b[0;32m   2689\u001b[0m \u001b[1;33m\u001b[0m\u001b[0m\n\u001b[0;32m   2690\u001b[0m     \u001b[1;32mdef\u001b[0m \u001b[0m_getitem_column\u001b[0m\u001b[1;33m(\u001b[0m\u001b[0mself\u001b[0m\u001b[1;33m,\u001b[0m \u001b[0mkey\u001b[0m\u001b[1;33m)\u001b[0m\u001b[1;33m:\u001b[0m\u001b[1;33m\u001b[0m\u001b[1;33m\u001b[0m\u001b[0m\n",
      "\u001b[1;32m~\\Anaconda3\\lib\\site-packages\\pandas\\core\\frame.py\u001b[0m in \u001b[0;36m_getitem_column\u001b[1;34m(self, key)\u001b[0m\n\u001b[0;32m   2693\u001b[0m         \u001b[1;31m# get column\u001b[0m\u001b[1;33m\u001b[0m\u001b[1;33m\u001b[0m\u001b[1;33m\u001b[0m\u001b[0m\n\u001b[0;32m   2694\u001b[0m         \u001b[1;32mif\u001b[0m \u001b[0mself\u001b[0m\u001b[1;33m.\u001b[0m\u001b[0mcolumns\u001b[0m\u001b[1;33m.\u001b[0m\u001b[0mis_unique\u001b[0m\u001b[1;33m:\u001b[0m\u001b[1;33m\u001b[0m\u001b[1;33m\u001b[0m\u001b[0m\n\u001b[1;32m-> 2695\u001b[1;33m             \u001b[1;32mreturn\u001b[0m \u001b[0mself\u001b[0m\u001b[1;33m.\u001b[0m\u001b[0m_get_item_cache\u001b[0m\u001b[1;33m(\u001b[0m\u001b[0mkey\u001b[0m\u001b[1;33m)\u001b[0m\u001b[1;33m\u001b[0m\u001b[1;33m\u001b[0m\u001b[0m\n\u001b[0m\u001b[0;32m   2696\u001b[0m \u001b[1;33m\u001b[0m\u001b[0m\n\u001b[0;32m   2697\u001b[0m         \u001b[1;31m# duplicate columns & possible reduce dimensionality\u001b[0m\u001b[1;33m\u001b[0m\u001b[1;33m\u001b[0m\u001b[1;33m\u001b[0m\u001b[0m\n",
      "\u001b[1;32m~\\Anaconda3\\lib\\site-packages\\pandas\\core\\generic.py\u001b[0m in \u001b[0;36m_get_item_cache\u001b[1;34m(self, item)\u001b[0m\n\u001b[0;32m   2487\u001b[0m         \u001b[0mres\u001b[0m \u001b[1;33m=\u001b[0m \u001b[0mcache\u001b[0m\u001b[1;33m.\u001b[0m\u001b[0mget\u001b[0m\u001b[1;33m(\u001b[0m\u001b[0mitem\u001b[0m\u001b[1;33m)\u001b[0m\u001b[1;33m\u001b[0m\u001b[1;33m\u001b[0m\u001b[0m\n\u001b[0;32m   2488\u001b[0m         \u001b[1;32mif\u001b[0m \u001b[0mres\u001b[0m \u001b[1;32mis\u001b[0m \u001b[1;32mNone\u001b[0m\u001b[1;33m:\u001b[0m\u001b[1;33m\u001b[0m\u001b[1;33m\u001b[0m\u001b[0m\n\u001b[1;32m-> 2489\u001b[1;33m             \u001b[0mvalues\u001b[0m \u001b[1;33m=\u001b[0m \u001b[0mself\u001b[0m\u001b[1;33m.\u001b[0m\u001b[0m_data\u001b[0m\u001b[1;33m.\u001b[0m\u001b[0mget\u001b[0m\u001b[1;33m(\u001b[0m\u001b[0mitem\u001b[0m\u001b[1;33m)\u001b[0m\u001b[1;33m\u001b[0m\u001b[1;33m\u001b[0m\u001b[0m\n\u001b[0m\u001b[0;32m   2490\u001b[0m             \u001b[0mres\u001b[0m \u001b[1;33m=\u001b[0m \u001b[0mself\u001b[0m\u001b[1;33m.\u001b[0m\u001b[0m_box_item_values\u001b[0m\u001b[1;33m(\u001b[0m\u001b[0mitem\u001b[0m\u001b[1;33m,\u001b[0m \u001b[0mvalues\u001b[0m\u001b[1;33m)\u001b[0m\u001b[1;33m\u001b[0m\u001b[1;33m\u001b[0m\u001b[0m\n\u001b[0;32m   2491\u001b[0m             \u001b[0mcache\u001b[0m\u001b[1;33m[\u001b[0m\u001b[0mitem\u001b[0m\u001b[1;33m]\u001b[0m \u001b[1;33m=\u001b[0m \u001b[0mres\u001b[0m\u001b[1;33m\u001b[0m\u001b[1;33m\u001b[0m\u001b[0m\n",
      "\u001b[1;32m~\\Anaconda3\\lib\\site-packages\\pandas\\core\\internals.py\u001b[0m in \u001b[0;36mget\u001b[1;34m(self, item, fastpath)\u001b[0m\n\u001b[0;32m   4113\u001b[0m \u001b[1;33m\u001b[0m\u001b[0m\n\u001b[0;32m   4114\u001b[0m             \u001b[1;32mif\u001b[0m \u001b[1;32mnot\u001b[0m \u001b[0misna\u001b[0m\u001b[1;33m(\u001b[0m\u001b[0mitem\u001b[0m\u001b[1;33m)\u001b[0m\u001b[1;33m:\u001b[0m\u001b[1;33m\u001b[0m\u001b[1;33m\u001b[0m\u001b[0m\n\u001b[1;32m-> 4115\u001b[1;33m                 \u001b[0mloc\u001b[0m \u001b[1;33m=\u001b[0m \u001b[0mself\u001b[0m\u001b[1;33m.\u001b[0m\u001b[0mitems\u001b[0m\u001b[1;33m.\u001b[0m\u001b[0mget_loc\u001b[0m\u001b[1;33m(\u001b[0m\u001b[0mitem\u001b[0m\u001b[1;33m)\u001b[0m\u001b[1;33m\u001b[0m\u001b[1;33m\u001b[0m\u001b[0m\n\u001b[0m\u001b[0;32m   4116\u001b[0m             \u001b[1;32melse\u001b[0m\u001b[1;33m:\u001b[0m\u001b[1;33m\u001b[0m\u001b[1;33m\u001b[0m\u001b[0m\n\u001b[0;32m   4117\u001b[0m                 \u001b[0mindexer\u001b[0m \u001b[1;33m=\u001b[0m \u001b[0mnp\u001b[0m\u001b[1;33m.\u001b[0m\u001b[0marange\u001b[0m\u001b[1;33m(\u001b[0m\u001b[0mlen\u001b[0m\u001b[1;33m(\u001b[0m\u001b[0mself\u001b[0m\u001b[1;33m.\u001b[0m\u001b[0mitems\u001b[0m\u001b[1;33m)\u001b[0m\u001b[1;33m)\u001b[0m\u001b[1;33m[\u001b[0m\u001b[0misna\u001b[0m\u001b[1;33m(\u001b[0m\u001b[0mself\u001b[0m\u001b[1;33m.\u001b[0m\u001b[0mitems\u001b[0m\u001b[1;33m)\u001b[0m\u001b[1;33m]\u001b[0m\u001b[1;33m\u001b[0m\u001b[1;33m\u001b[0m\u001b[0m\n",
      "\u001b[1;32m~\\Anaconda3\\lib\\site-packages\\pandas\\core\\indexes\\base.py\u001b[0m in \u001b[0;36mget_loc\u001b[1;34m(self, key, method, tolerance)\u001b[0m\n\u001b[0;32m   3078\u001b[0m                 \u001b[1;32mreturn\u001b[0m \u001b[0mself\u001b[0m\u001b[1;33m.\u001b[0m\u001b[0m_engine\u001b[0m\u001b[1;33m.\u001b[0m\u001b[0mget_loc\u001b[0m\u001b[1;33m(\u001b[0m\u001b[0mkey\u001b[0m\u001b[1;33m)\u001b[0m\u001b[1;33m\u001b[0m\u001b[1;33m\u001b[0m\u001b[0m\n\u001b[0;32m   3079\u001b[0m             \u001b[1;32mexcept\u001b[0m \u001b[0mKeyError\u001b[0m\u001b[1;33m:\u001b[0m\u001b[1;33m\u001b[0m\u001b[1;33m\u001b[0m\u001b[0m\n\u001b[1;32m-> 3080\u001b[1;33m                 \u001b[1;32mreturn\u001b[0m \u001b[0mself\u001b[0m\u001b[1;33m.\u001b[0m\u001b[0m_engine\u001b[0m\u001b[1;33m.\u001b[0m\u001b[0mget_loc\u001b[0m\u001b[1;33m(\u001b[0m\u001b[0mself\u001b[0m\u001b[1;33m.\u001b[0m\u001b[0m_maybe_cast_indexer\u001b[0m\u001b[1;33m(\u001b[0m\u001b[0mkey\u001b[0m\u001b[1;33m)\u001b[0m\u001b[1;33m)\u001b[0m\u001b[1;33m\u001b[0m\u001b[1;33m\u001b[0m\u001b[0m\n\u001b[0m\u001b[0;32m   3081\u001b[0m \u001b[1;33m\u001b[0m\u001b[0m\n\u001b[0;32m   3082\u001b[0m         \u001b[0mindexer\u001b[0m \u001b[1;33m=\u001b[0m \u001b[0mself\u001b[0m\u001b[1;33m.\u001b[0m\u001b[0mget_indexer\u001b[0m\u001b[1;33m(\u001b[0m\u001b[1;33m[\u001b[0m\u001b[0mkey\u001b[0m\u001b[1;33m]\u001b[0m\u001b[1;33m,\u001b[0m \u001b[0mmethod\u001b[0m\u001b[1;33m=\u001b[0m\u001b[0mmethod\u001b[0m\u001b[1;33m,\u001b[0m \u001b[0mtolerance\u001b[0m\u001b[1;33m=\u001b[0m\u001b[0mtolerance\u001b[0m\u001b[1;33m)\u001b[0m\u001b[1;33m\u001b[0m\u001b[1;33m\u001b[0m\u001b[0m\n",
      "\u001b[1;32mpandas\\_libs\\index.pyx\u001b[0m in \u001b[0;36mpandas._libs.index.IndexEngine.get_loc\u001b[1;34m()\u001b[0m\n",
      "\u001b[1;32mpandas\\_libs\\index.pyx\u001b[0m in \u001b[0;36mpandas._libs.index.IndexEngine.get_loc\u001b[1;34m()\u001b[0m\n",
      "\u001b[1;32mpandas\\_libs\\hashtable_class_helper.pxi\u001b[0m in \u001b[0;36mpandas._libs.hashtable.PyObjectHashTable.get_item\u001b[1;34m()\u001b[0m\n",
      "\u001b[1;32mpandas\\_libs\\hashtable_class_helper.pxi\u001b[0m in \u001b[0;36mpandas._libs.hashtable.PyObjectHashTable.get_item\u001b[1;34m()\u001b[0m\n",
      "\u001b[1;31mKeyError\u001b[0m: 'published_date'"
     ]
    }
   ],
   "source": [
    "# Deleting '\\n' from content and name columns\n",
    "#clean_n = lambda x: ' '.join(x.split()).lower()\n",
    "\n",
    "#for col in ['name', 'content']:\n",
    "#    df[col] = df[col].apply(clean_n)\n",
    "\n",
    "# Setting date as index\n",
    "df1.set_index('index', inplace = True)\n",
    "\n",
    "#  Displaying result\n",
    "df1.head()"
   ]
  },
  {
   "cell_type": "markdown",
   "metadata": {
    "colab_type": "text",
    "id": "GhNwaxJMECPY"
   },
   "source": [
    "# Exploratory Data Analysis"
   ]
  },
  {
   "cell_type": "code",
   "execution_count": 4,
   "metadata": {
    "colab": {
     "base_uri": "https://localhost:8080/",
     "height": 170
    },
    "colab_type": "code",
    "id": "qzkNSIqexrGI",
    "outputId": "2ade5bd5-2369-4e99-944d-23447fd45923"
   },
   "outputs": [
    {
     "name": "stdout",
     "output_type": "stream",
     "text": [
      "<class 'pandas.core.frame.DataFrame'>\n",
      "RangeIndex: 500 entries, 0 to 499\n",
      "Data columns (total 2 columns):\n",
      "time    500 non-null int64\n",
      "body    499 non-null object\n",
      "dtypes: int64(1), object(1)\n",
      "memory usage: 7.9+ KB\n"
     ]
    }
   ],
   "source": [
    "# Even if not really useful for this case, a good habit is to start with df.describe() and df.info() when you start working on a dataFrame\n",
    "df.info()"
   ]
  },
  {
   "cell_type": "markdown",
   "metadata": {
    "colab_type": "text",
    "id": "-S8wX_k9ELU3"
   },
   "source": [
    "**Studying eventual doubles**\n",
    "\n",
    "- We're here looking at names which are pseudos. Be careful, differents people could use the same ones. The date is a good indicator to know if the same person let 2 comments."
   ]
  },
  {
   "cell_type": "code",
   "execution_count": 67,
   "metadata": {
    "colab": {
     "base_uri": "https://localhost:8080/",
     "height": 343
    },
    "colab_type": "code",
    "collapsed": true,
    "id": "spwpPLb-tmBJ",
    "outputId": "1ef790e2-cd2a-4769-a5e8-81f6de3e1b32"
   },
   "outputs": [
    {
     "ename": "AttributeError",
     "evalue": "'DataFrame' object has no attribute 'reviewer_id'",
     "output_type": "error",
     "traceback": [
      "\u001b[1;31m---------------------------------------------------------------------------\u001b[0m",
      "\u001b[1;31mAttributeError\u001b[0m                            Traceback (most recent call last)",
      "\u001b[1;32m<ipython-input-67-1a08d0d4203c>\u001b[0m in \u001b[0;36m<module>\u001b[1;34m\u001b[0m\n\u001b[1;32m----> 1\u001b[1;33m \u001b[0mprint\u001b[0m\u001b[1;33m(\u001b[0m\u001b[1;34m'Number of comments'\u001b[0m\u001b[1;33m,\u001b[0m \u001b[0mdf1\u001b[0m\u001b[1;33m.\u001b[0m\u001b[0mreviewer_id\u001b[0m\u001b[1;33m.\u001b[0m\u001b[0mcount\u001b[0m\u001b[1;33m(\u001b[0m\u001b[1;33m)\u001b[0m\u001b[1;33m)\u001b[0m\u001b[1;33m\u001b[0m\u001b[1;33m\u001b[0m\u001b[0m\n\u001b[0m\u001b[0;32m      2\u001b[0m \u001b[0mprint\u001b[0m\u001b[1;33m(\u001b[0m\u001b[1;34m'Number of unique names: '\u001b[0m\u001b[1;33m,\u001b[0m \u001b[0mdf1\u001b[0m\u001b[1;33m.\u001b[0m\u001b[0mreviewer_id\u001b[0m\u001b[1;33m.\u001b[0m\u001b[0mnunique\u001b[0m\u001b[1;33m(\u001b[0m\u001b[1;33m)\u001b[0m\u001b[1;33m)\u001b[0m\u001b[1;33m\u001b[0m\u001b[1;33m\u001b[0m\u001b[0m\n\u001b[0;32m      3\u001b[0m \u001b[1;33m\u001b[0m\u001b[0m\n\u001b[0;32m      4\u001b[0m \u001b[0mdouble\u001b[0m \u001b[1;33m=\u001b[0m \u001b[0mdf1\u001b[0m\u001b[1;33m.\u001b[0m\u001b[0mreviewer_id\u001b[0m\u001b[1;33m.\u001b[0m\u001b[0mvalue_counts\u001b[0m\u001b[1;33m(\u001b[0m\u001b[1;33m)\u001b[0m\u001b[1;33m.\u001b[0m\u001b[0mindex\u001b[0m\u001b[1;33m.\u001b[0m\u001b[0mtolist\u001b[0m\u001b[1;33m(\u001b[0m\u001b[1;33m)\u001b[0m\u001b[1;33m[\u001b[0m\u001b[1;33m:\u001b[0m\u001b[0msum\u001b[0m\u001b[1;33m(\u001b[0m\u001b[0mdf1\u001b[0m\u001b[1;33m.\u001b[0m\u001b[0mreviewer_id\u001b[0m\u001b[1;33m.\u001b[0m\u001b[0mvalue_counts\u001b[0m\u001b[1;33m(\u001b[0m\u001b[1;33m)\u001b[0m\u001b[1;33m>=\u001b[0m\u001b[1;36m2\u001b[0m\u001b[1;33m)\u001b[0m\u001b[1;33m]\u001b[0m\u001b[1;33m\u001b[0m\u001b[1;33m\u001b[0m\u001b[0m\n\u001b[0;32m      5\u001b[0m \u001b[1;32mfor\u001b[0m \u001b[0mname\u001b[0m \u001b[1;32min\u001b[0m \u001b[0mdouble\u001b[0m\u001b[1;33m:\u001b[0m\u001b[1;33m\u001b[0m\u001b[1;33m\u001b[0m\u001b[0m\n",
      "\u001b[1;32m~\\Anaconda3\\lib\\site-packages\\pandas\\core\\generic.py\u001b[0m in \u001b[0;36m__getattr__\u001b[1;34m(self, name)\u001b[0m\n\u001b[0;32m   4374\u001b[0m             \u001b[1;32mif\u001b[0m \u001b[0mself\u001b[0m\u001b[1;33m.\u001b[0m\u001b[0m_info_axis\u001b[0m\u001b[1;33m.\u001b[0m\u001b[0m_can_hold_identifiers_and_holds_name\u001b[0m\u001b[1;33m(\u001b[0m\u001b[0mname\u001b[0m\u001b[1;33m)\u001b[0m\u001b[1;33m:\u001b[0m\u001b[1;33m\u001b[0m\u001b[1;33m\u001b[0m\u001b[0m\n\u001b[0;32m   4375\u001b[0m                 \u001b[1;32mreturn\u001b[0m \u001b[0mself\u001b[0m\u001b[1;33m[\u001b[0m\u001b[0mname\u001b[0m\u001b[1;33m]\u001b[0m\u001b[1;33m\u001b[0m\u001b[1;33m\u001b[0m\u001b[0m\n\u001b[1;32m-> 4376\u001b[1;33m             \u001b[1;32mreturn\u001b[0m \u001b[0mobject\u001b[0m\u001b[1;33m.\u001b[0m\u001b[0m__getattribute__\u001b[0m\u001b[1;33m(\u001b[0m\u001b[0mself\u001b[0m\u001b[1;33m,\u001b[0m \u001b[0mname\u001b[0m\u001b[1;33m)\u001b[0m\u001b[1;33m\u001b[0m\u001b[1;33m\u001b[0m\u001b[0m\n\u001b[0m\u001b[0;32m   4377\u001b[0m \u001b[1;33m\u001b[0m\u001b[0m\n\u001b[0;32m   4378\u001b[0m     \u001b[1;32mdef\u001b[0m \u001b[0m__setattr__\u001b[0m\u001b[1;33m(\u001b[0m\u001b[0mself\u001b[0m\u001b[1;33m,\u001b[0m \u001b[0mname\u001b[0m\u001b[1;33m,\u001b[0m \u001b[0mvalue\u001b[0m\u001b[1;33m)\u001b[0m\u001b[1;33m:\u001b[0m\u001b[1;33m\u001b[0m\u001b[1;33m\u001b[0m\u001b[0m\n",
      "\u001b[1;31mAttributeError\u001b[0m: 'DataFrame' object has no attribute 'reviewer_id'"
     ]
    }
   ],
   "source": [
    "print('Number of comments', df.reviewer_id.count())\n",
    "print('Number of unique names: ', df.reviewer_id.nunique())\n",
    "\n",
    "double = df.reviewer_id.value_counts().index.tolist()[:sum(df.reviewer_id.value_counts()>=2)]\n",
    "for name in double:\n",
    "    print('\\n',name)\n",
    "    date_double = df[df.reviewer_id==name].index.tolist()\n",
    "    content_double = df[df.reviewer_id==name].review.tolist()\n",
    "    [print(date,content) for date,content in zip(date_double,content_double)]"
   ]
  },
  {
   "cell_type": "markdown",
   "metadata": {
    "colab_type": "text",
    "id": "BruF1vFwyIRQ"
   },
   "source": [
    "You might find interesting things in your dataset. \n",
    "\n",
    "For example it is fun here to see **Peltier**'s comments and how he changed is mind:\n",
    "\n",
    "- April 14th 13:41 : \"formule intéressante pour de courtes vacances\"\n",
    "- April 14th 20:33 : \"pas de réseau et deux chaines tv manquantes\" \n",
    "\n"
   ]
  },
  {
   "cell_type": "markdown",
   "metadata": {
    "colab_type": "text",
    "id": "hxSb1N1jEPuN"
   },
   "source": [
    "**Rapid overview of global rating**\n"
   ]
  },
  {
   "cell_type": "markdown",
   "metadata": {
    "colab_type": "text",
    "id": "RtxcYJ-jxKpv"
   },
   "source": [
    "**Distribution of comments length**"
   ]
  },
  {
   "cell_type": "code",
   "execution_count": 20,
   "metadata": {
    "collapsed": true
   },
   "outputs": [
    {
     "data": {
      "text/plain": [
       "[412,\n",
       " 263,\n",
       " 123,\n",
       " 457,\n",
       " 258,\n",
       " 482,\n",
       " 147,\n",
       " 433,\n",
       " 1451,\n",
       " 165,\n",
       " 484,\n",
       " 488,\n",
       " 121,\n",
       " 163,\n",
       " 65,\n",
       " 609,\n",
       " 441,\n",
       " 510,\n",
       " 474,\n",
       " 452,\n",
       " 507,\n",
       " 136,\n",
       " 95,\n",
       " 470,\n",
       " 483,\n",
       " 430,\n",
       " 465,\n",
       " 157,\n",
       " 81,\n",
       " 113,\n",
       " 465,\n",
       " 1442,\n",
       " 1442,\n",
       " 526,\n",
       " 1435,\n",
       " 434,\n",
       " 573,\n",
       " 528,\n",
       " 79,\n",
       " 89,\n",
       " 215,\n",
       " 478,\n",
       " 428,\n",
       " 85,\n",
       " 65,\n",
       " 469,\n",
       " 469,\n",
       " 147,\n",
       " 1450,\n",
       " 451,\n",
       " 168,\n",
       " 445,\n",
       " 457,\n",
       " 304,\n",
       " 1449,\n",
       " 318,\n",
       " 477,\n",
       " 477,\n",
       " 565,\n",
       " 429,\n",
       " 509,\n",
       " 520,\n",
       " 246,\n",
       " 531,\n",
       " 435,\n",
       " 111,\n",
       " 521,\n",
       " 461,\n",
       " 75,\n",
       " 203,\n",
       " 473,\n",
       " 630,\n",
       " 468,\n",
       " 498,\n",
       " 436,\n",
       " 121,\n",
       " 128,\n",
       " 313,\n",
       " 437,\n",
       " 86,\n",
       " 106,\n",
       " 102,\n",
       " 504,\n",
       " 441,\n",
       " 483,\n",
       " 445,\n",
       " 507,\n",
       " 307,\n",
       " 478,\n",
       " 93,\n",
       " 456,\n",
       " 530,\n",
       " 124,\n",
       " 542,\n",
       " 464,\n",
       " 345,\n",
       " 548,\n",
       " 453,\n",
       " 113,\n",
       " 121,\n",
       " 250,\n",
       " 295,\n",
       " 578,\n",
       " 440,\n",
       " 154,\n",
       " 434,\n",
       " 310,\n",
       " 361,\n",
       " 75,\n",
       " 457,\n",
       " 497,\n",
       " 451,\n",
       " 485,\n",
       " 474,\n",
       " 256,\n",
       " 129,\n",
       " 466,\n",
       " 162,\n",
       " 425,\n",
       " 229,\n",
       " 465,\n",
       " 448,\n",
       " 456,\n",
       " 85,\n",
       " 360,\n",
       " 415,\n",
       " 344,\n",
       " 425,\n",
       " 119,\n",
       " 140,\n",
       " 289,\n",
       " 429,\n",
       " 405,\n",
       " 130,\n",
       " 425,\n",
       " 420,\n",
       " 156,\n",
       " 479,\n",
       " 104,\n",
       " 434,\n",
       " 425,\n",
       " 114,\n",
       " 422,\n",
       " 414,\n",
       " 313,\n",
       " 122,\n",
       " 434,\n",
       " 463,\n",
       " 107,\n",
       " 458,\n",
       " 404,\n",
       " 458,\n",
       " 3,\n",
       " 240,\n",
       " 445,\n",
       " 427,\n",
       " 487,\n",
       " 441,\n",
       " 455,\n",
       " 462,\n",
       " 472,\n",
       " 86,\n",
       " 600,\n",
       " 477,\n",
       " 491,\n",
       " 509,\n",
       " 603,\n",
       " 440,\n",
       " 449,\n",
       " 450,\n",
       " 411,\n",
       " 475,\n",
       " 230,\n",
       " 425,\n",
       " 445,\n",
       " 152,\n",
       " 547,\n",
       " 472,\n",
       " 506,\n",
       " 417,\n",
       " 445,\n",
       " 452,\n",
       " 467,\n",
       " 512,\n",
       " 551,\n",
       " 169,\n",
       " 475,\n",
       " 589,\n",
       " 418,\n",
       " 224,\n",
       " 450,\n",
       " 129,\n",
       " 461,\n",
       " 427,\n",
       " 239,\n",
       " 137,\n",
       " 468,\n",
       " 506,\n",
       " 476,\n",
       " 480,\n",
       " 114,\n",
       " 460,\n",
       " 146,\n",
       " 176,\n",
       " 1443,\n",
       " 429,\n",
       " 125,\n",
       " 458,\n",
       " 631,\n",
       " 1452,\n",
       " 436,\n",
       " 101,\n",
       " 409,\n",
       " 96,\n",
       " 379,\n",
       " 549,\n",
       " 427,\n",
       " 689,\n",
       " 476,\n",
       " 187,\n",
       " 138,\n",
       " 144,\n",
       " 511,\n",
       " 100,\n",
       " 67,\n",
       " 269,\n",
       " 461,\n",
       " 94,\n",
       " 113,\n",
       " 524,\n",
       " 218,\n",
       " 127,\n",
       " 117,\n",
       " 437,\n",
       " 422,\n",
       " 1444,\n",
       " 1443,\n",
       " 537,\n",
       " 483,\n",
       " 513,\n",
       " 235,\n",
       " 294,\n",
       " 445,\n",
       " 95,\n",
       " 198,\n",
       " 556,\n",
       " 122,\n",
       " 150,\n",
       " 74,\n",
       " 426,\n",
       " 349,\n",
       " 58,\n",
       " 367,\n",
       " 489,\n",
       " 466,\n",
       " 164,\n",
       " 265,\n",
       " 697,\n",
       " 451,\n",
       " 286,\n",
       " 94,\n",
       " 274,\n",
       " 357,\n",
       " 122,\n",
       " 503,\n",
       " 1446,\n",
       " 441,\n",
       " 195,\n",
       " 65,\n",
       " 470,\n",
       " 273,\n",
       " 453,\n",
       " 405,\n",
       " 116,\n",
       " 137,\n",
       " 125,\n",
       " 509,\n",
       " 440,\n",
       " 507,\n",
       " 477,\n",
       " 458,\n",
       " 253,\n",
       " 660,\n",
       " 440,\n",
       " 321,\n",
       " 304,\n",
       " 167,\n",
       " 472,\n",
       " 185,\n",
       " 417,\n",
       " 474,\n",
       " 250,\n",
       " 495,\n",
       " 534,\n",
       " 489,\n",
       " 357,\n",
       " 526,\n",
       " 466,\n",
       " 481,\n",
       " 484,\n",
       " 84,\n",
       " 408,\n",
       " 454,\n",
       " 116,\n",
       " 432,\n",
       " 145,\n",
       " 59,\n",
       " 326,\n",
       " 152,\n",
       " 262,\n",
       " 505,\n",
       " 568,\n",
       " 119,\n",
       " 171,\n",
       " 439,\n",
       " 460,\n",
       " 614,\n",
       " 83,\n",
       " 124,\n",
       " 261,\n",
       " 299,\n",
       " 480,\n",
       " 467,\n",
       " 145,\n",
       " 512,\n",
       " 524,\n",
       " 466,\n",
       " 495,\n",
       " 430,\n",
       " 277,\n",
       " 458,\n",
       " 544,\n",
       " 156,\n",
       " 426,\n",
       " 226,\n",
       " 430,\n",
       " 243,\n",
       " 115,\n",
       " 417,\n",
       " 455,\n",
       " 534,\n",
       " 117,\n",
       " 107,\n",
       " 402,\n",
       " 393,\n",
       " 177,\n",
       " 387,\n",
       " 494,\n",
       " 482,\n",
       " 307,\n",
       " 556,\n",
       " 432,\n",
       " 251,\n",
       " 411,\n",
       " 420,\n",
       " 243,\n",
       " 130,\n",
       " 423,\n",
       " 424,\n",
       " 355,\n",
       " 346,\n",
       " 212,\n",
       " 149,\n",
       " 414,\n",
       " 437,\n",
       " 423,\n",
       " 460,\n",
       " 345,\n",
       " 512,\n",
       " 435,\n",
       " 472,\n",
       " 417,\n",
       " 282,\n",
       " 231,\n",
       " 468,\n",
       " 385,\n",
       " 423,\n",
       " 503,\n",
       " 318,\n",
       " 439,\n",
       " 476,\n",
       " 158,\n",
       " 60,\n",
       " 485,\n",
       " 409,\n",
       " 465,\n",
       " 555,\n",
       " 453,\n",
       " 432,\n",
       " 466,\n",
       " 582,\n",
       " 462,\n",
       " 140,\n",
       " 472,\n",
       " 652,\n",
       " 417,\n",
       " 415,\n",
       " 650,\n",
       " 454,\n",
       " 445,\n",
       " 447,\n",
       " 427,\n",
       " 518,\n",
       " 135,\n",
       " 510,\n",
       " 655,\n",
       " 425,\n",
       " 113,\n",
       " 138,\n",
       " 173,\n",
       " 454,\n",
       " 499,\n",
       " 632,\n",
       " 449,\n",
       " 426,\n",
       " 1449,\n",
       " 312,\n",
       " 442,\n",
       " 175,\n",
       " 277,\n",
       " 525,\n",
       " 445,\n",
       " 603,\n",
       " 208,\n",
       " 133,\n",
       " 480,\n",
       " 142,\n",
       " 1446,\n",
       " 222,\n",
       " 138,\n",
       " 448,\n",
       " 523,\n",
       " 463,\n",
       " 237,\n",
       " 98,\n",
       " 180,\n",
       " 431,\n",
       " 54,\n",
       " 133,\n",
       " 131,\n",
       " 95,\n",
       " 318,\n",
       " 83,\n",
       " 350,\n",
       " 456,\n",
       " 425,\n",
       " 451,\n",
       " 437,\n",
       " 117,\n",
       " 107,\n",
       " 538,\n",
       " 390,\n",
       " 687,\n",
       " 478,\n",
       " 285,\n",
       " 163,\n",
       " 1452,\n",
       " 375,\n",
       " 206,\n",
       " 470,\n",
       " 98,\n",
       " 138,\n",
       " 474,\n",
       " 137,\n",
       " 1443,\n",
       " 57,\n",
       " 308,\n",
       " 1445,\n",
       " 167,\n",
       " 425,\n",
       " 480,\n",
       " 207,\n",
       " 497,\n",
       " 125,\n",
       " 331,\n",
       " 568,\n",
       " 486,\n",
       " 486,\n",
       " 448,\n",
       " 478,\n",
       " 1450,\n",
       " 123,\n",
       " 381,\n",
       " 465,\n",
       " 482,\n",
       " 262,\n",
       " 430,\n",
       " 507,\n",
       " 233,\n",
       " 491,\n",
       " 191,\n",
       " 224,\n",
       " 542,\n",
       " 461,\n",
       " 130,\n",
       " 69,\n",
       " 469,\n",
       " 660,\n",
       " 478,\n",
       " 192]"
      ]
     },
     "execution_count": 20,
     "metadata": {},
     "output_type": "execute_result"
    }
   ],
   "source": [
    "[len(str(x)) for x in list(df['body'])]"
   ]
  },
  {
   "cell_type": "code",
   "execution_count": 21,
   "metadata": {
    "colab": {
     "base_uri": "https://localhost:8080/",
     "height": 349
    },
    "colab_type": "code",
    "id": "KCiWzmLoxL3c",
    "outputId": "7f0c744b-457c-42b9-ba43-b0ac0dbea365"
   },
   "outputs": [
    {
     "data": {
      "image/png": "[encoded data removed]",
      "text/plain": [
       "<Figure size 864x360 with 1 Axes>"
      ]
     },
     "metadata": {
      "needs_background": "light"
     },
     "output_type": "display_data"
    }
   ],
   "source": [
    "# Making the plot\n",
    "x = plt.figure(figsize=(12,5))\n",
    "sns.distplot([len(str(x)) for x in list(df['body'])])\n",
    "plt.title('Characters distributions')\n",
    "plt.xticks(range(0,2000,250))\n",
    "plt.show()"
   ]
  },
  {
   "cell_type": "code",
   "execution_count": 71,
   "metadata": {
    "colab": {
     "base_uri": "https://localhost:8080/",
     "height": 378
    },
    "colab_type": "code",
    "collapsed": true,
    "id": "7PZ7spdtwyul",
    "outputId": "457b99c4-1e93-45ab-dc2e-14f11cd37cd0"
   },
   "outputs": [
    {
     "ename": "KeyError",
     "evalue": "'published_date'",
     "output_type": "error",
     "traceback": [
      "\u001b[1;31m---------------------------------------------------------------------------\u001b[0m",
      "\u001b[1;31mKeyError\u001b[0m                                  Traceback (most recent call last)",
      "\u001b[1;32m~\\Anaconda3\\lib\\site-packages\\pandas\\core\\indexes\\base.py\u001b[0m in \u001b[0;36mget_loc\u001b[1;34m(self, key, method, tolerance)\u001b[0m\n\u001b[0;32m   3077\u001b[0m             \u001b[1;32mtry\u001b[0m\u001b[1;33m:\u001b[0m\u001b[1;33m\u001b[0m\u001b[1;33m\u001b[0m\u001b[0m\n\u001b[1;32m-> 3078\u001b[1;33m                 \u001b[1;32mreturn\u001b[0m \u001b[0mself\u001b[0m\u001b[1;33m.\u001b[0m\u001b[0m_engine\u001b[0m\u001b[1;33m.\u001b[0m\u001b[0mget_loc\u001b[0m\u001b[1;33m(\u001b[0m\u001b[0mkey\u001b[0m\u001b[1;33m)\u001b[0m\u001b[1;33m\u001b[0m\u001b[1;33m\u001b[0m\u001b[0m\n\u001b[0m\u001b[0;32m   3079\u001b[0m             \u001b[1;32mexcept\u001b[0m \u001b[0mKeyError\u001b[0m\u001b[1;33m:\u001b[0m\u001b[1;33m\u001b[0m\u001b[1;33m\u001b[0m\u001b[0m\n",
      "\u001b[1;32mpandas\\_libs\\index.pyx\u001b[0m in \u001b[0;36mpandas._libs.index.IndexEngine.get_loc\u001b[1;34m()\u001b[0m\n",
      "\u001b[1;32mpandas\\_libs\\index.pyx\u001b[0m in \u001b[0;36mpandas._libs.index.IndexEngine.get_loc\u001b[1;34m()\u001b[0m\n",
      "\u001b[1;32mpandas\\_libs\\hashtable_class_helper.pxi\u001b[0m in \u001b[0;36mpandas._libs.hashtable.PyObjectHashTable.get_item\u001b[1;34m()\u001b[0m\n",
      "\u001b[1;32mpandas\\_libs\\hashtable_class_helper.pxi\u001b[0m in \u001b[0;36mpandas._libs.hashtable.PyObjectHashTable.get_item\u001b[1;34m()\u001b[0m\n",
      "\u001b[1;31mKeyError\u001b[0m: 'published_date'",
      "\nDuring handling of the above exception, another exception occurred:\n",
      "\u001b[1;31mKeyError\u001b[0m                                  Traceback (most recent call last)",
      "\u001b[1;32m<ipython-input-71-68a9f5c5d1ab>\u001b[0m in \u001b[0;36m<module>\u001b[1;34m\u001b[0m\n\u001b[0;32m      1\u001b[0m \u001b[1;31m# Repartition of reviews dates\u001b[0m\u001b[1;33m\u001b[0m\u001b[1;33m\u001b[0m\u001b[1;33m\u001b[0m\u001b[0m\n\u001b[1;32m----> 2\u001b[1;33m \u001b[0mdf1\u001b[0m\u001b[1;33m[\u001b[0m\u001b[1;34m'published_date'\u001b[0m\u001b[1;33m]\u001b[0m\u001b[1;33m.\u001b[0m\u001b[0mresample\u001b[0m\u001b[1;33m(\u001b[0m\u001b[1;34m'M'\u001b[0m\u001b[1;33m)\u001b[0m\u001b[1;33m.\u001b[0m\u001b[0mcount\u001b[0m\u001b[1;33m(\u001b[0m\u001b[1;33m)\u001b[0m\u001b[1;33m.\u001b[0m\u001b[0mplot\u001b[0m\u001b[1;33m(\u001b[0m\u001b[1;33m)\u001b[0m\u001b[1;33m\u001b[0m\u001b[1;33m\u001b[0m\u001b[0m\n\u001b[0m",
      "\u001b[1;32m~\\Anaconda3\\lib\\site-packages\\pandas\\core\\frame.py\u001b[0m in \u001b[0;36m__getitem__\u001b[1;34m(self, key)\u001b[0m\n\u001b[0;32m   2686\u001b[0m             \u001b[1;32mreturn\u001b[0m \u001b[0mself\u001b[0m\u001b[1;33m.\u001b[0m\u001b[0m_getitem_multilevel\u001b[0m\u001b[1;33m(\u001b[0m\u001b[0mkey\u001b[0m\u001b[1;33m)\u001b[0m\u001b[1;33m\u001b[0m\u001b[1;33m\u001b[0m\u001b[0m\n\u001b[0;32m   2687\u001b[0m         \u001b[1;32melse\u001b[0m\u001b[1;33m:\u001b[0m\u001b[1;33m\u001b[0m\u001b[1;33m\u001b[0m\u001b[0m\n\u001b[1;32m-> 2688\u001b[1;33m             \u001b[1;32mreturn\u001b[0m \u001b[0mself\u001b[0m\u001b[1;33m.\u001b[0m\u001b[0m_getitem_column\u001b[0m\u001b[1;33m(\u001b[0m\u001b[0mkey\u001b[0m\u001b[1;33m)\u001b[0m\u001b[1;33m\u001b[0m\u001b[1;33m\u001b[0m\u001b[0m\n\u001b[0m\u001b[0;32m   2689\u001b[0m \u001b[1;33m\u001b[0m\u001b[0m\n\u001b[0;32m   2690\u001b[0m     \u001b[1;32mdef\u001b[0m \u001b[0m_getitem_column\u001b[0m\u001b[1;33m(\u001b[0m\u001b[0mself\u001b[0m\u001b[1;33m,\u001b[0m \u001b[0mkey\u001b[0m\u001b[1;33m)\u001b[0m\u001b[1;33m:\u001b[0m\u001b[1;33m\u001b[0m\u001b[1;33m\u001b[0m\u001b[0m\n",
      "\u001b[1;32m~\\Anaconda3\\lib\\site-packages\\pandas\\core\\frame.py\u001b[0m in \u001b[0;36m_getitem_column\u001b[1;34m(self, key)\u001b[0m\n\u001b[0;32m   2693\u001b[0m         \u001b[1;31m# get column\u001b[0m\u001b[1;33m\u001b[0m\u001b[1;33m\u001b[0m\u001b[1;33m\u001b[0m\u001b[0m\n\u001b[0;32m   2694\u001b[0m         \u001b[1;32mif\u001b[0m \u001b[0mself\u001b[0m\u001b[1;33m.\u001b[0m\u001b[0mcolumns\u001b[0m\u001b[1;33m.\u001b[0m\u001b[0mis_unique\u001b[0m\u001b[1;33m:\u001b[0m\u001b[1;33m\u001b[0m\u001b[1;33m\u001b[0m\u001b[0m\n\u001b[1;32m-> 2695\u001b[1;33m             \u001b[1;32mreturn\u001b[0m \u001b[0mself\u001b[0m\u001b[1;33m.\u001b[0m\u001b[0m_get_item_cache\u001b[0m\u001b[1;33m(\u001b[0m\u001b[0mkey\u001b[0m\u001b[1;33m)\u001b[0m\u001b[1;33m\u001b[0m\u001b[1;33m\u001b[0m\u001b[0m\n\u001b[0m\u001b[0;32m   2696\u001b[0m \u001b[1;33m\u001b[0m\u001b[0m\n\u001b[0;32m   2697\u001b[0m         \u001b[1;31m# duplicate columns & possible reduce dimensionality\u001b[0m\u001b[1;33m\u001b[0m\u001b[1;33m\u001b[0m\u001b[1;33m\u001b[0m\u001b[0m\n",
      "\u001b[1;32m~\\Anaconda3\\lib\\site-packages\\pandas\\core\\generic.py\u001b[0m in \u001b[0;36m_get_item_cache\u001b[1;34m(self, item)\u001b[0m\n\u001b[0;32m   2487\u001b[0m         \u001b[0mres\u001b[0m \u001b[1;33m=\u001b[0m \u001b[0mcache\u001b[0m\u001b[1;33m.\u001b[0m\u001b[0mget\u001b[0m\u001b[1;33m(\u001b[0m\u001b[0mitem\u001b[0m\u001b[1;33m)\u001b[0m\u001b[1;33m\u001b[0m\u001b[1;33m\u001b[0m\u001b[0m\n\u001b[0;32m   2488\u001b[0m         \u001b[1;32mif\u001b[0m \u001b[0mres\u001b[0m \u001b[1;32mis\u001b[0m \u001b[1;32mNone\u001b[0m\u001b[1;33m:\u001b[0m\u001b[1;33m\u001b[0m\u001b[1;33m\u001b[0m\u001b[0m\n\u001b[1;32m-> 2489\u001b[1;33m             \u001b[0mvalues\u001b[0m \u001b[1;33m=\u001b[0m \u001b[0mself\u001b[0m\u001b[1;33m.\u001b[0m\u001b[0m_data\u001b[0m\u001b[1;33m.\u001b[0m\u001b[0mget\u001b[0m\u001b[1;33m(\u001b[0m\u001b[0mitem\u001b[0m\u001b[1;33m)\u001b[0m\u001b[1;33m\u001b[0m\u001b[1;33m\u001b[0m\u001b[0m\n\u001b[0m\u001b[0;32m   2490\u001b[0m             \u001b[0mres\u001b[0m \u001b[1;33m=\u001b[0m \u001b[0mself\u001b[0m\u001b[1;33m.\u001b[0m\u001b[0m_box_item_values\u001b[0m\u001b[1;33m(\u001b[0m\u001b[0mitem\u001b[0m\u001b[1;33m,\u001b[0m \u001b[0mvalues\u001b[0m\u001b[1;33m)\u001b[0m\u001b[1;33m\u001b[0m\u001b[1;33m\u001b[0m\u001b[0m\n\u001b[0;32m   2491\u001b[0m             \u001b[0mcache\u001b[0m\u001b[1;33m[\u001b[0m\u001b[0mitem\u001b[0m\u001b[1;33m]\u001b[0m \u001b[1;33m=\u001b[0m \u001b[0mres\u001b[0m\u001b[1;33m\u001b[0m\u001b[1;33m\u001b[0m\u001b[0m\n",
      "\u001b[1;32m~\\Anaconda3\\lib\\site-packages\\pandas\\core\\internals.py\u001b[0m in \u001b[0;36mget\u001b[1;34m(self, item, fastpath)\u001b[0m\n\u001b[0;32m   4113\u001b[0m \u001b[1;33m\u001b[0m\u001b[0m\n\u001b[0;32m   4114\u001b[0m             \u001b[1;32mif\u001b[0m \u001b[1;32mnot\u001b[0m \u001b[0misna\u001b[0m\u001b[1;33m(\u001b[0m\u001b[0mitem\u001b[0m\u001b[1;33m)\u001b[0m\u001b[1;33m:\u001b[0m\u001b[1;33m\u001b[0m\u001b[1;33m\u001b[0m\u001b[0m\n\u001b[1;32m-> 4115\u001b[1;33m                 \u001b[0mloc\u001b[0m \u001b[1;33m=\u001b[0m \u001b[0mself\u001b[0m\u001b[1;33m.\u001b[0m\u001b[0mitems\u001b[0m\u001b[1;33m.\u001b[0m\u001b[0mget_loc\u001b[0m\u001b[1;33m(\u001b[0m\u001b[0mitem\u001b[0m\u001b[1;33m)\u001b[0m\u001b[1;33m\u001b[0m\u001b[1;33m\u001b[0m\u001b[0m\n\u001b[0m\u001b[0;32m   4116\u001b[0m             \u001b[1;32melse\u001b[0m\u001b[1;33m:\u001b[0m\u001b[1;33m\u001b[0m\u001b[1;33m\u001b[0m\u001b[0m\n\u001b[0;32m   4117\u001b[0m                 \u001b[0mindexer\u001b[0m \u001b[1;33m=\u001b[0m \u001b[0mnp\u001b[0m\u001b[1;33m.\u001b[0m\u001b[0marange\u001b[0m\u001b[1;33m(\u001b[0m\u001b[0mlen\u001b[0m\u001b[1;33m(\u001b[0m\u001b[0mself\u001b[0m\u001b[1;33m.\u001b[0m\u001b[0mitems\u001b[0m\u001b[1;33m)\u001b[0m\u001b[1;33m)\u001b[0m\u001b[1;33m[\u001b[0m\u001b[0misna\u001b[0m\u001b[1;33m(\u001b[0m\u001b[0mself\u001b[0m\u001b[1;33m.\u001b[0m\u001b[0mitems\u001b[0m\u001b[1;33m)\u001b[0m\u001b[1;33m]\u001b[0m\u001b[1;33m\u001b[0m\u001b[1;33m\u001b[0m\u001b[0m\n",
      "\u001b[1;32m~\\Anaconda3\\lib\\site-packages\\pandas\\core\\indexes\\base.py\u001b[0m in \u001b[0;36mget_loc\u001b[1;34m(self, key, method, tolerance)\u001b[0m\n\u001b[0;32m   3078\u001b[0m                 \u001b[1;32mreturn\u001b[0m \u001b[0mself\u001b[0m\u001b[1;33m.\u001b[0m\u001b[0m_engine\u001b[0m\u001b[1;33m.\u001b[0m\u001b[0mget_loc\u001b[0m\u001b[1;33m(\u001b[0m\u001b[0mkey\u001b[0m\u001b[1;33m)\u001b[0m\u001b[1;33m\u001b[0m\u001b[1;33m\u001b[0m\u001b[0m\n\u001b[0;32m   3079\u001b[0m             \u001b[1;32mexcept\u001b[0m \u001b[0mKeyError\u001b[0m\u001b[1;33m:\u001b[0m\u001b[1;33m\u001b[0m\u001b[1;33m\u001b[0m\u001b[0m\n\u001b[1;32m-> 3080\u001b[1;33m                 \u001b[1;32mreturn\u001b[0m \u001b[0mself\u001b[0m\u001b[1;33m.\u001b[0m\u001b[0m_engine\u001b[0m\u001b[1;33m.\u001b[0m\u001b[0mget_loc\u001b[0m\u001b[1;33m(\u001b[0m\u001b[0mself\u001b[0m\u001b[1;33m.\u001b[0m\u001b[0m_maybe_cast_indexer\u001b[0m\u001b[1;33m(\u001b[0m\u001b[0mkey\u001b[0m\u001b[1;33m)\u001b[0m\u001b[1;33m)\u001b[0m\u001b[1;33m\u001b[0m\u001b[1;33m\u001b[0m\u001b[0m\n\u001b[0m\u001b[0;32m   3081\u001b[0m \u001b[1;33m\u001b[0m\u001b[0m\n\u001b[0;32m   3082\u001b[0m         \u001b[0mindexer\u001b[0m \u001b[1;33m=\u001b[0m \u001b[0mself\u001b[0m\u001b[1;33m.\u001b[0m\u001b[0mget_indexer\u001b[0m\u001b[1;33m(\u001b[0m\u001b[1;33m[\u001b[0m\u001b[0mkey\u001b[0m\u001b[1;33m]\u001b[0m\u001b[1;33m,\u001b[0m \u001b[0mmethod\u001b[0m\u001b[1;33m=\u001b[0m\u001b[0mmethod\u001b[0m\u001b[1;33m,\u001b[0m \u001b[0mtolerance\u001b[0m\u001b[1;33m=\u001b[0m\u001b[0mtolerance\u001b[0m\u001b[1;33m)\u001b[0m\u001b[1;33m\u001b[0m\u001b[1;33m\u001b[0m\u001b[0m\n",
      "\u001b[1;32mpandas\\_libs\\index.pyx\u001b[0m in \u001b[0;36mpandas._libs.index.IndexEngine.get_loc\u001b[1;34m()\u001b[0m\n",
      "\u001b[1;32mpandas\\_libs\\index.pyx\u001b[0m in \u001b[0;36mpandas._libs.index.IndexEngine.get_loc\u001b[1;34m()\u001b[0m\n",
      "\u001b[1;32mpandas\\_libs\\hashtable_class_helper.pxi\u001b[0m in \u001b[0;36mpandas._libs.hashtable.PyObjectHashTable.get_item\u001b[1;34m()\u001b[0m\n",
      "\u001b[1;32mpandas\\_libs\\hashtable_class_helper.pxi\u001b[0m in \u001b[0;36mpandas._libs.hashtable.PyObjectHashTable.get_item\u001b[1;34m()\u001b[0m\n",
      "\u001b[1;31mKeyError\u001b[0m: 'published_date'"
     ]
    }
   ],
   "source": [
    "# Repartition of reviews dates\n",
    "df1['review'].resample('M').count().plot()"
   ]
  },
  {
   "cell_type": "markdown",
   "metadata": {
    "colab_type": "text",
    "id": "MLgz2bdAEn3B"
   },
   "source": [
    "# Pre-Processing 1 : Filters for punctuation and specific characters"
   ]
  },
  {
   "cell_type": "code",
   "execution_count": 70,
   "metadata": {
    "colab": {},
    "colab_type": "code",
    "id": "33QCujGbEtQa"
   },
   "outputs": [],
   "source": [
    "# creating a list with all reviews\n",
    "#all_reviews = str(df.body)\n",
    "all_reviews = df.body.apply(str).tolist()\n",
    "df['body_as_str'] = df.body.apply(str)"
   ]
  },
  {
   "cell_type": "code",
   "execution_count": 43,
   "metadata": {
    "colab": {},
    "colab_type": "code",
    "id": "iOUGQIpCEtSz"
   },
   "outputs": [],
   "source": [
    "# transformating comments into lower-case text \n",
    "lower_reviews = [review.lower() for review in all_reviews]"
   ]
  },
  {
   "cell_type": "code",
   "execution_count": 44,
   "metadata": {
    "colab": {},
    "colab_type": "code",
    "id": "sYbuqWVEE94p"
   },
   "outputs": [],
   "source": [
    "# deleting all specific caracters\n",
    "characters_to_remove = [\"@\", \"/\", \"#\", \".\", \",\", \"!\", \"?\", \"(\", \")\", \"-\", \"_\",\"’\",\"'\", \"\\\"\", \":\"]\n",
    "transformation_dict = {initial:\" \" for initial in characters_to_remove}\n",
    "no_punctuation_reviews = [review.translate(str.maketrans(transformation_dict)) for review in lower_reviews]"
   ]
  },
  {
   "cell_type": "code",
   "execution_count": 45,
   "metadata": {
    "colab": {},
    "colab_type": "code",
    "id": "SF8kk2hPE97H"
   },
   "outputs": [],
   "source": [
    "# removing accent\n",
    "with_accent = ['é', 'è','ê','ë', 'à','â','ô','û','ù','î','ï']\n",
    "without_accent = ['e', 'e','e','e', 'a','a','o','u','u','i','i']\n",
    "transformation_dict = {before:after for before, after in zip(with_accent, without_accent)}\n",
    "no_accent_reviews = [review.translate(str.maketrans(transformation_dict)) for review in no_punctuation_reviews]"
   ]
  },
  {
   "cell_type": "code",
   "execution_count": 46,
   "metadata": {
    "colab": {
     "base_uri": "https://localhost:8080/",
     "height": 377
    },
    "colab_type": "code",
    "id": "x4FoSV8eO92Z",
    "outputId": "69253c41-f0e9-4a85-b970-3cfcff23747c"
   },
   "outputs": [
    {
     "name": "stdout",
     "output_type": "stream",
     "text": [
      "CoinSpeakerProBit: Professional Digital Currency Exchange Holding Something in Store for EveryoneProBit Exchange seeks to provide a secure digital assets marketplace for traders with different skills and experience. One of the ways is by providing a customizable user interface where users can modify the way they view trades.ProBit: Professional Digital Currency Exchange Holding Something in Store for Everyone\n",
      "coinspeakerprobit  professional digital currency exchange holding something in store for everyoneprobit exchange seeks to provide a secure digital assets marketplace for traders with different skills and experience  one of the ways is by providing a customizable user interface where users can modify the way they view trades probit  professional digital currency exchange holding something in store for everyone\n",
      "\n",
      "\n",
      "Today in crypto heard rumors of Satoshi's return, saw capitulation talk, Bitcoin ETF pitches/appeals, an Intel patent for Bitcoin mining, and further negativity from mainstream influencers.The post Daily Crypto Roundup 11/30/2018 appeared first on Crypto Insider.\n",
      "today in crypto heard rumors of satoshi s return  saw capitulation talk  bitcoin etf pitches appeals  an intel patent for bitcoin mining  and further negativity from mainstream influencers the post daily crypto roundup 11 30 2018 appeared first on crypto insider \n",
      "\n",
      "\n",
      "Crashes in the crypto market resulted in spikes in mainstream media coverage from 2013 to 2018, per a recent study by Clovr\n",
      "crashes in the crypto market resulted in spikes in mainstream media coverage from 2013 to 2018  per a recent study by clovr\n",
      "\n",
      "\n",
      "SEC Chairman Jay Clayton has claimed that bitcoin exchanges lack sufficient transparency and monitoring for the market to see approved Bitcoin Exchange Traded Funds (ETFs). According to CNBC, at the Consensus Invest Conference in New York City recently, Clayton said: What investors expect is that trading in the commodity that underlies that ETF makes senseThe post No Bitcoin ETF Before Important Changes to BTC Markets: SEC Chairman appeared first on CCN\n",
      "sec chairman jay clayton has claimed that bitcoin exchanges lack sufficient transparency and monitoring for the market to see approved bitcoin exchange traded funds  etfs   according to cnbc  at the consensus invest conference in new york city recently  clayton said  what investors expect is that trading in the commodity that underlies that etf makes sensethe post no bitcoin etf before important changes to btc markets  sec chairman appeared first on ccn\n",
      "\n",
      "\n",
      "There are four different Ethereum working groups that are looking intovarious approaches to help scale the Ethereum blockchain.The next planned upgrade for the DApp and smart contract platform is called Ethereum 1x and is tentatively scheduled for June 2019.\n",
      "there are four different ethereum working groups that are looking intovarious approaches to help scale the ethereum blockchain the next planned upgrade for the dapp and smart contract platform is called ethereum 1x and is tentatively scheduled for june 2019 \n",
      "\n",
      "\n"
     ]
    }
   ],
   "source": [
    "# Displaying some results \n",
    "for i in range(5):\n",
    "    print(all_reviews[i])\n",
    "    print(no_accent_reviews[i])\n",
    "    print('\\n')"
   ]
  },
  {
   "cell_type": "code",
   "execution_count": 47,
   "metadata": {
    "colab": {
     "base_uri": "https://localhost:8080/",
     "height": 85
    },
    "colab_type": "code",
    "id": "18vn7kJQE9-V",
    "outputId": "2c4ac6a3-1ef5-4e22-fcf1-ac602e049c48"
   },
   "outputs": [],
   "source": [
    "def number_of_unique_words(list_of_reviews):\n",
    "  \n",
    "    # Concatenating all reviews from the list\n",
    "    all_words = ''.join(list_of_reviews)\n",
    "\n",
    "    # Tokenizing\n",
    "    unique_tokens = set(word_tokenize(all_words))\n",
    "  \n",
    "    # Returning length of list\n",
    "    return len(unique_tokens)"
   ]
  },
  {
   "cell_type": "code",
   "execution_count": 48,
   "metadata": {},
   "outputs": [
    {
     "name": "stdout",
     "output_type": "stream",
     "text": [
      "6353\n"
     ]
    }
   ],
   "source": [
    "print(number_of_unique_words(all_reviews))"
   ]
  },
  {
   "cell_type": "code",
   "execution_count": 49,
   "metadata": {},
   "outputs": [
    {
     "name": "stdout",
     "output_type": "stream",
     "text": [
      "5405\n"
     ]
    }
   ],
   "source": [
    "print(number_of_unique_words(lower_reviews))"
   ]
  },
  {
   "cell_type": "code",
   "execution_count": 50,
   "metadata": {},
   "outputs": [
    {
     "name": "stdout",
     "output_type": "stream",
     "text": [
      "4910\n"
     ]
    }
   ],
   "source": [
    "print(number_of_unique_words(no_punctuation_reviews))"
   ]
  },
  {
   "cell_type": "code",
   "execution_count": 51,
   "metadata": {
    "scrolled": true
   },
   "outputs": [
    {
     "name": "stdout",
     "output_type": "stream",
     "text": [
      "4910\n"
     ]
    }
   ],
   "source": [
    "print(number_of_unique_words(no_accent_reviews))"
   ]
  },
  {
   "cell_type": "markdown",
   "metadata": {
    "colab_type": "text",
    "id": "tjkun2adQ5i9"
   },
   "source": [
    "# Pre-processing 2 : Tokenization"
   ]
  },
  {
   "cell_type": "markdown",
   "metadata": {
    "colab_type": "text",
    "id": "gVRX2Pf3c1Ay"
   },
   "source": [
    "**Doing it in two different ways**"
   ]
  },
  {
   "cell_type": "code",
   "execution_count": 52,
   "metadata": {
    "colab": {},
    "colab_type": "code",
    "id": "jpGhYooEFThl"
   },
   "outputs": [],
   "source": [
    "# Using regular expression\n",
    "tokenized_reviews_re = [re.split('\\s+', review) for review in no_accent_reviews]"
   ]
  },
  {
   "cell_type": "code",
   "execution_count": 53,
   "metadata": {
    "colab": {},
    "colab_type": "code",
    "id": "pMbnY4XIFTfC"
   },
   "outputs": [],
   "source": [
    "# using NLP libraries\n",
    "tokenized_reviews_nltk = [word_tokenize(review) for review in no_accent_reviews]"
   ]
  },
  {
   "cell_type": "markdown",
   "metadata": {
    "colab_type": "text",
    "id": "ZUO9Rc-Zc7U2"
   },
   "source": [
    "**And making a comparison of results**"
   ]
  },
  {
   "cell_type": "code",
   "execution_count": 54,
   "metadata": {
    "colab": {
     "base_uri": "https://localhost:8080/",
     "height": 51
    },
    "colab_type": "code",
    "id": "HQoeqvGHZ87e",
    "outputId": "bcb209c9-a483-424f-f758-69dec9884954"
   },
   "outputs": [
    {
     "name": "stdout",
     "output_type": "stream",
     "text": [
      "With NLTK  library : 500\n",
      "With RegEx library : 500\n"
     ]
    }
   ],
   "source": [
    "# Making a comparison between both of them\n",
    "print(\"With NLTK  library : {}\".format(len(tokenized_reviews_nltk)))\n",
    "print(\"With RegEx library : {}\".format(len(tokenized_reviews_re)))"
   ]
  },
  {
   "cell_type": "markdown",
   "metadata": {
    "colab_type": "text",
    "id": "RDKdet1KduF3"
   },
   "source": [
    "**Try to analyze the next lines of code and to understand the difference between both of them**"
   ]
  },
  {
   "cell_type": "markdown",
   "metadata": {},
   "source": [
    "Here is an original review"
   ]
  },
  {
   "cell_type": "code",
   "execution_count": 55,
   "metadata": {},
   "outputs": [
    {
     "name": "stdout",
     "output_type": "stream",
     "text": [
      "Chinese cryptocurrency mining hardware manufacturer Bitmain has just released its own cryptocurrency index. Going forward, the firm will provide market data for 17 of the largest digital assets by market capitalisation. Bitmain Crypto Index Will Track 17 of the Most Popular Digital Assets One of the planets largest producers of digital currency mining hardware has...The post Bitmain Launches Crypto Index for Investors, Provides Data on 17 Digital Assets appeared first on NewsBTC.\n"
     ]
    }
   ],
   "source": [
    "# Choosing a review to inspect\n",
    "n_review = 10\n",
    "print(all_reviews[n_review])"
   ]
  },
  {
   "cell_type": "markdown",
   "metadata": {},
   "source": [
    "And here are the tokenized ones"
   ]
  },
  {
   "cell_type": "code",
   "execution_count": 56,
   "metadata": {},
   "outputs": [
    {
     "name": "stdout",
     "output_type": "stream",
     "text": [
      "['chinese', 'cryptocurrency', 'mining', 'hardware', 'manufacturer', 'bitmain', 'has', 'just', 'released', 'its', 'own', 'cryptocurrency', 'index', 'going', 'forward', 'the', 'firm', 'will', 'provide', 'market', 'data', 'for', '17', 'of', 'the', 'largest', 'digital', 'assets', 'by', 'market', 'capitalisation', 'bitmain', 'crypto', 'index', 'will', 'track', '17', 'of', 'the', 'most', 'popular', 'digital', 'assets', 'one', 'of', 'the', 'planets', 'largest', 'producers', 'of', 'digital', 'currency', 'mining', 'hardware', 'has', 'the', 'post', 'bitmain', 'launches', 'crypto', 'index', 'for', 'investors', 'provides', 'data', 'on', '17', 'digital', 'assets', 'appeared', 'first', 'on', 'newsbtc']\n"
     ]
    }
   ],
   "source": [
    "print(tokenized_reviews_nltk[n_review])"
   ]
  },
  {
   "cell_type": "code",
   "execution_count": 57,
   "metadata": {},
   "outputs": [
    {
     "name": "stdout",
     "output_type": "stream",
     "text": [
      "['chinese', 'cryptocurrency', 'mining', 'hardware', 'manufacturer', 'bitmain', 'has', 'just', 'released', 'its', 'own', 'cryptocurrency', 'index', 'going', 'forward', 'the', 'firm', 'will', 'provide', 'market', 'data', 'for', '17', 'of', 'the', 'largest', 'digital', 'assets', 'by', 'market', 'capitalisation', 'bitmain', 'crypto', 'index', 'will', 'track', '17', 'of', 'the', 'most', 'popular', 'digital', 'assets', 'one', 'of', 'the', 'planets', 'largest', 'producers', 'of', 'digital', 'currency', 'mining', 'hardware', 'has', 'the', 'post', 'bitmain', 'launches', 'crypto', 'index', 'for', 'investors', 'provides', 'data', 'on', '17', 'digital', 'assets', 'appeared', 'first', 'on', 'newsbtc', '']\n"
     ]
    }
   ],
   "source": [
    "print(tokenized_reviews_re[n_review])"
   ]
  },
  {
   "cell_type": "code",
   "execution_count": 58,
   "metadata": {
    "colab": {},
    "colab_type": "code",
    "id": "W9FuzwFdFTku"
   },
   "outputs": [],
   "source": [
    "# We select the secon one which seems more accurate\n",
    "tokenized_reviews = tokenized_reviews_nltk"
   ]
  },
  {
   "cell_type": "markdown",
   "metadata": {
    "colab_type": "text",
    "id": "ighzJ5h1f_e4"
   },
   "source": [
    "# Pre-processing 3 : Stopword removing"
   ]
  },
  {
   "cell_type": "code",
   "execution_count": 59,
   "metadata": {
    "colab": {},
    "colab_type": "code",
    "id": "HLDOvubHgn-e"
   },
   "outputs": [],
   "source": [
    "# Using a list with words to delete\n",
    "stopW = stopwords.words('english')"
   ]
  },
  {
   "cell_type": "code",
   "execution_count": 60,
   "metadata": {
    "colab": {},
    "colab_type": "code",
    "id": "8jS036yUgn8S"
   },
   "outputs": [],
   "source": [
    "# Customizing it with our needs\n",
    "stopW += ['les', 'a', 'tout',\"i\",\"me\",\"my\",\"myself\",\"we\",\"our\",\"ours\",\"ourselves\",\"you\",\"your\",\"yours\",\"yourself\",\"yourselves\",\"he\",\"him\",\"his\",\"himself\",\"she\",\"her\",\"hers\",\"herself\",\"it\",\"its\",\"itself\",\"they\",\"them\",\"their\",\"theirs\",\"themselves\",\"what\",\"which\",\"who\",\"whom\",\"this\",\"that\",\"these\",\"those\",\"am\",\"is\",\"are\",\"was\",\"were\",\"be\",\"been\",\"being\",\"have\",\"has\",\"had\",\"having\",\"do\",\"does\",\"did\",\"doing\",\"a\",\"an\",\"the\",\"and\",\"but\",\"if\",\"or\",\"because\",\"as\",\"until\",\"while\",\"of\",\"at\",\"by\",\"for\",\"with\",\"about\",\"against\",\"between\",\"into\",\"through\",\"during\",\"before\",\"after\",\"above\",\"below\",\"to\",\"from\",\"up\",\"down\",\"in\",\"out\",\"on\",\"off\",\"over\",\"under\",\"again\",\"further\",\"then\",\"once\",\"here\",\"there\",\"when\",\"where\",\"why\",\"how\",\"all\",\"any\",\"both\",\"each\",\"few\",\"more\",\"most\",\"other\",\"some\",\"such\",\"no\",\"nor\",\"not\",\"only\",\"own\",\"same\",\"so\",\"than\",\"too\",\"very\",\"s\",\"t\",\"can\",\"will\",\"just\",\"don\",\"should\",\"now\"]"
   ]
  },
  {
   "cell_type": "code",
   "execution_count": 61,
   "metadata": {
    "colab": {},
    "colab_type": "code",
    "id": "S3wlZQebg5Eq"
   },
   "outputs": [],
   "source": [
    "# Stopword_list\n",
    "df['stopword_reviews'] = [[token for token in review if token not in stopW] for review in tokenized_reviews]\n",
    "              "
   ]
  },
  {
   "cell_type": "code",
   "execution_count": 71,
   "metadata": {},
   "outputs": [
    {
     "data": {
      "text/html": [
       "<div>\n",
       "<style scoped>\n",
       "    .dataframe tbody tr th:only-of-type {\n",
       "        vertical-align: middle;\n",
       "    }\n",
       "\n",
       "    .dataframe tbody tr th {\n",
       "        vertical-align: top;\n",
       "    }\n",
       "\n",
       "    .dataframe thead th {\n",
       "        text-align: right;\n",
       "    }\n",
       "</style>\n",
       "<table border=\"1\" class=\"dataframe\">\n",
       "  <thead>\n",
       "    <tr style=\"text-align: right;\">\n",
       "      <th></th>\n",
       "      <th>time</th>\n",
       "      <th>body</th>\n",
       "      <th>stopword_reviews</th>\n",
       "      <th>body_as_str</th>\n",
       "    </tr>\n",
       "  </thead>\n",
       "  <tbody>\n",
       "    <tr>\n",
       "      <th>0</th>\n",
       "      <td>1543622368</td>\n",
       "      <td>CoinSpeakerProBit: Professional Digital Curren...</td>\n",
       "      <td>[coinspeakerprobit, professional, digital, cur...</td>\n",
       "      <td>CoinSpeakerProBit: Professional Digital Curren...</td>\n",
       "    </tr>\n",
       "    <tr>\n",
       "      <th>1</th>\n",
       "      <td>1543620634</td>\n",
       "      <td>Today in crypto heard rumors of Satoshi's retu...</td>\n",
       "      <td>[today, crypto, heard, rumors, satoshi, return...</td>\n",
       "      <td>Today in crypto heard rumors of Satoshi's retu...</td>\n",
       "    </tr>\n",
       "    <tr>\n",
       "      <th>2</th>\n",
       "      <td>1543620300</td>\n",
       "      <td>Crashes in the crypto market resulted in spike...</td>\n",
       "      <td>[crashes, crypto, market, resulted, spikes, ma...</td>\n",
       "      <td>Crashes in the crypto market resulted in spike...</td>\n",
       "    </tr>\n",
       "    <tr>\n",
       "      <th>3</th>\n",
       "      <td>1543620202</td>\n",
       "      <td>SEC Chairman Jay Clayton has claimed that bitc...</td>\n",
       "      <td>[sec, chairman, jay, clayton, claimed, bitcoin...</td>\n",
       "      <td>SEC Chairman Jay Clayton has claimed that bitc...</td>\n",
       "    </tr>\n",
       "    <tr>\n",
       "      <th>4</th>\n",
       "      <td>1543618813</td>\n",
       "      <td>There are four different Ethereum working grou...</td>\n",
       "      <td>[four, different, ethereum, working, groups, l...</td>\n",
       "      <td>There are four different Ethereum working grou...</td>\n",
       "    </tr>\n",
       "    <tr>\n",
       "      <th>5</th>\n",
       "      <td>1543617903</td>\n",
       "      <td>On Nov. 29, Sirin Labs announced the commercia...</td>\n",
       "      <td>[nov, 29, sirin, labs, announced, commercial, ...</td>\n",
       "      <td>On Nov. 29, Sirin Labs announced the commercia...</td>\n",
       "    </tr>\n",
       "    <tr>\n",
       "      <th>6</th>\n",
       "      <td>1543616700</td>\n",
       "      <td>Switzerlands oldest university, the University...</td>\n",
       "      <td>[switzerlands, oldest, university, university,...</td>\n",
       "      <td>Switzerlands oldest university, the University...</td>\n",
       "    </tr>\n",
       "    <tr>\n",
       "      <th>7</th>\n",
       "      <td>1543616305</td>\n",
       "      <td>The newer HBUS cryptocurrency exchange has tak...</td>\n",
       "      <td>[newer, hbus, cryptocurrency, exchange, taken,...</td>\n",
       "      <td>The newer HBUS cryptocurrency exchange has tak...</td>\n",
       "    </tr>\n",
       "    <tr>\n",
       "      <th>8</th>\n",
       "      <td>1543616240</td>\n",
       "      <td>Having met the U.S. Se...</td>\n",
       "      <td>[met, u, securities, exchange, commission, sec...</td>\n",
       "      <td>Having met the U.S. Se...</td>\n",
       "    </tr>\n",
       "    <tr>\n",
       "      <th>9</th>\n",
       "      <td>1543615852</td>\n",
       "      <td>The latest Ethereum 1x meeting, which was cond...</td>\n",
       "      <td>[latest, ethereum, 1x, meeting, conducted, cha...</td>\n",
       "      <td>The latest Ethereum 1x meeting, which was cond...</td>\n",
       "    </tr>\n",
       "    <tr>\n",
       "      <th>10</th>\n",
       "      <td>1543615242</td>\n",
       "      <td>Chinese cryptocurrency mining hardware manufac...</td>\n",
       "      <td>[chinese, cryptocurrency, mining, hardware, ma...</td>\n",
       "      <td>Chinese cryptocurrency mining hardware manufac...</td>\n",
       "    </tr>\n",
       "    <tr>\n",
       "      <th>11</th>\n",
       "      <td>1543615229</td>\n",
       "      <td>Blockchain phones are all therage right now. T...</td>\n",
       "      <td>[blockchain, phones, therage, right, mobile, d...</td>\n",
       "      <td>Blockchain phones are all therage right now. T...</td>\n",
       "    </tr>\n",
       "    <tr>\n",
       "      <th>12</th>\n",
       "      <td>1543614900</td>\n",
       "      <td>Check Point Research cybersecurity firm has fo...</td>\n",
       "      <td>[check, point, research, cybersecurity, firm, ...</td>\n",
       "      <td>Check Point Research cybersecurity firm has fo...</td>\n",
       "    </tr>\n",
       "    <tr>\n",
       "      <th>13</th>\n",
       "      <td>1543613835</td>\n",
       "      <td>Belarus is following a model set forth by Malt...</td>\n",
       "      <td>[belarus, following, model, set, forth, malta,...</td>\n",
       "      <td>Belarus is following a model set forth by Malt...</td>\n",
       "    </tr>\n",
       "    <tr>\n",
       "      <th>14</th>\n",
       "      <td>1543612078</td>\n",
       "      <td>Casual gamers unite! Or just stay where you ar...</td>\n",
       "      <td>[casual, gamers, unite, stay, thats, okay]</td>\n",
       "      <td>Casual gamers unite! Or just stay where you ar...</td>\n",
       "    </tr>\n",
       "    <tr>\n",
       "      <th>15</th>\n",
       "      <td>1543611643</td>\n",
       "      <td>A new report from CoinShares into Bitcoin mini...</td>\n",
       "      <td>[new, report, coinshares, bitcoin, mining, sug...</td>\n",
       "      <td>A new report from CoinShares into Bitcoin mini...</td>\n",
       "    </tr>\n",
       "    <tr>\n",
       "      <th>16</th>\n",
       "      <td>1543611641</td>\n",
       "      <td>One of the co-founders of the second largest p...</td>\n",
       "      <td>[one, co, founders, second, largest, public, b...</td>\n",
       "      <td>One of the co-founders of the second largest p...</td>\n",
       "    </tr>\n",
       "    <tr>\n",
       "      <th>17</th>\n",
       "      <td>1543611625</td>\n",
       "      <td>The co-founder of Ethereum, Vitalik Buterin, h...</td>\n",
       "      <td>[co, founder, ethereum, vitalik, buterin, awar...</td>\n",
       "      <td>The co-founder of Ethereum, Vitalik Buterin, h...</td>\n",
       "    </tr>\n",
       "    <tr>\n",
       "      <th>18</th>\n",
       "      <td>1543611600</td>\n",
       "      <td>During 2017 and early 2018, there were many co...</td>\n",
       "      <td>[2017, early, 2018, many, companies, expressed...</td>\n",
       "      <td>During 2017 and early 2018, there were many co...</td>\n",
       "    </tr>\n",
       "    <tr>\n",
       "      <th>19</th>\n",
       "      <td>1543610632</td>\n",
       "      <td>Bitcoin has failed in its attempt to be a curr...</td>\n",
       "      <td>[bitcoin, failed, attempt, currency, stands, c...</td>\n",
       "      <td>Bitcoin has failed in its attempt to be a curr...</td>\n",
       "    </tr>\n",
       "    <tr>\n",
       "      <th>20</th>\n",
       "      <td>1543610155</td>\n",
       "      <td>Since the recent Bitcoin Cash (BCH) upgrade, t...</td>\n",
       "      <td>[since, recent, bitcoin, cash, bch, upgrade, p...</td>\n",
       "      <td>Since the recent Bitcoin Cash (BCH) upgrade, t...</td>\n",
       "    </tr>\n",
       "    <tr>\n",
       "      <th>21</th>\n",
       "      <td>1543609200</td>\n",
       "      <td>Taiwanese tech giant ASUS to allow its graphic...</td>\n",
       "      <td>[taiwanese, tech, giant, asus, allow, graphics...</td>\n",
       "      <td>Taiwanese tech giant ASUS to allow its graphic...</td>\n",
       "    </tr>\n",
       "    <tr>\n",
       "      <th>22</th>\n",
       "      <td>1543608273</td>\n",
       "      <td>The new game fund, TRON Arcade, will provide a...</td>\n",
       "      <td>[new, game, fund, tron, arcade, provide, found...</td>\n",
       "      <td>The new game fund, TRON Arcade, will provide a...</td>\n",
       "    </tr>\n",
       "    <tr>\n",
       "      <th>23</th>\n",
       "      <td>1543608037</td>\n",
       "      <td>Boxing champion Floyd Mayweather Jr. and music...</td>\n",
       "      <td>[boxing, champion, floyd, mayweather, jr, musi...</td>\n",
       "      <td>Boxing champion Floyd Mayweather Jr. and music...</td>\n",
       "    </tr>\n",
       "    <tr>\n",
       "      <th>24</th>\n",
       "      <td>1543608028</td>\n",
       "      <td>Bitcoin&amp;#8217;s terrible price performance for...</td>\n",
       "      <td>[bitcoin, &amp;, 8217, ;, terrible, price, perform...</td>\n",
       "      <td>Bitcoin&amp;#8217;s terrible price performance for...</td>\n",
       "    </tr>\n",
       "    <tr>\n",
       "      <th>25</th>\n",
       "      <td>1543607738</td>\n",
       "      <td>The CEO of blockchain startup AriseBank, Jared...</td>\n",
       "      <td>[ceo, blockchain, startup, arisebank, jared, r...</td>\n",
       "      <td>The CEO of blockchain startup AriseBank, Jared...</td>\n",
       "    </tr>\n",
       "    <tr>\n",
       "      <th>26</th>\n",
       "      <td>1543607728</td>\n",
       "      <td>Bitcoin is not far from a critical loss of inv...</td>\n",
       "      <td>[bitcoin, far, critical, loss, investor, confi...</td>\n",
       "      <td>Bitcoin is not far from a critical loss of inv...</td>\n",
       "    </tr>\n",
       "    <tr>\n",
       "      <th>27</th>\n",
       "      <td>1543607700</td>\n",
       "      <td>Fed up with having to trawl through several pa...</td>\n",
       "      <td>[fed, trawl, several, pages, exchanges, find, ...</td>\n",
       "      <td>Fed up with having to trawl through several pa...</td>\n",
       "    </tr>\n",
       "    <tr>\n",
       "      <th>28</th>\n",
       "      <td>1543606977</td>\n",
       "      <td>Legal drama between partners spoiled a unique ...</td>\n",
       "      <td>[legal, drama, partners, spoiled, unique, take...</td>\n",
       "      <td>Legal drama between partners spoiled a unique ...</td>\n",
       "    </tr>\n",
       "    <tr>\n",
       "      <th>29</th>\n",
       "      <td>1543606800</td>\n",
       "      <td>The U.S. SEC has published a memorandum from t...</td>\n",
       "      <td>[u, sec, published, memorandum, latest, meetin...</td>\n",
       "      <td>The U.S. SEC has published a memorandum from t...</td>\n",
       "    </tr>\n",
       "    <tr>\n",
       "      <th>...</th>\n",
       "      <td>...</td>\n",
       "      <td>...</td>\n",
       "      <td>...</td>\n",
       "      <td>...</td>\n",
       "    </tr>\n",
       "    <tr>\n",
       "      <th>470</th>\n",
       "      <td>1543429810</td>\n",
       "      <td>For the first time ever, the U.S. Treasury Dep...</td>\n",
       "      <td>[first, time, ever, u, treasury, department, a...</td>\n",
       "      <td>For the first time ever, the U.S. Treasury Dep...</td>\n",
       "    </tr>\n",
       "    <tr>\n",
       "      <th>471</th>\n",
       "      <td>1543428900</td>\n",
       "      <td>Prolific hedge fund manager Mike Novogratz, li...</td>\n",
       "      <td>[prolific, hedge, fund, manager, mike, novogra...</td>\n",
       "      <td>Prolific hedge fund manager Mike Novogratz, li...</td>\n",
       "    </tr>\n",
       "    <tr>\n",
       "      <th>472</th>\n",
       "      <td>1543428675</td>\n",
       "      <td>Blockchain can disrupt the traditional banking...</td>\n",
       "      <td>[blockchain, disrupt, traditional, banking, in...</td>\n",
       "      <td>Blockchain can disrupt the traditional banking...</td>\n",
       "    </tr>\n",
       "    <tr>\n",
       "      <th>473</th>\n",
       "      <td>1543428600</td>\n",
       "      <td>The U.S. Department of Treasury has sanctioned...</td>\n",
       "      <td>[u, department, treasury, sanctioned, two, ira...</td>\n",
       "      <td>The U.S. Department of Treasury has sanctioned...</td>\n",
       "    </tr>\n",
       "    <tr>\n",
       "      <th>474</th>\n",
       "      <td>1543428050</td>\n",
       "      <td>CoinSpeakerBitstamp Goes Through Tech Upgrade ...</td>\n",
       "      <td>[coinspeakerbitstamp, goes, tech, upgrade, det...</td>\n",
       "      <td>CoinSpeakerBitstamp Goes Through Tech Upgrade ...</td>\n",
       "    </tr>\n",
       "    <tr>\n",
       "      <th>475</th>\n",
       "      <td>1543428008</td>\n",
       "      <td>Germany has just got its second Bitcoin ATM in...</td>\n",
       "      <td>[germany, got, second, bitcoin, atm, frankfurt...</td>\n",
       "      <td>Germany has just got its second Bitcoin ATM in...</td>\n",
       "    </tr>\n",
       "    <tr>\n",
       "      <th>476</th>\n",
       "      <td>1543427757</td>\n",
       "      <td>Sapphire Technology, one of the largest suppli...</td>\n",
       "      <td>[sapphire, technology, one, largest, suppliers...</td>\n",
       "      <td>Sapphire Technology, one of the largest suppli...</td>\n",
       "    </tr>\n",
       "    <tr>\n",
       "      <th>477</th>\n",
       "      <td>1543427705</td>\n",
       "      <td>This is a&amp;#160;paid-for submitted press releas...</td>\n",
       "      <td>[&amp;, 160, ;, paid, submitted, press, release, c...</td>\n",
       "      <td>This is a&amp;#160;paid-for submitted press releas...</td>\n",
       "    </tr>\n",
       "    <tr>\n",
       "      <th>478</th>\n",
       "      <td>1543426982</td>\n",
       "      <td>This is a submitted sponsored story.&amp;#160;CCN ...</td>\n",
       "      <td>[submitted, sponsored, story, &amp;, 160, ;, ccn, ...</td>\n",
       "      <td>This is a submitted sponsored story.&amp;#160;CCN ...</td>\n",
       "    </tr>\n",
       "    <tr>\n",
       "      <th>479</th>\n",
       "      <td>1543426831</td>\n",
       "      <td>Storebrand, a leading Norwegian financial serv...</td>\n",
       "      <td>[storebrand, leading, norwegian, financial, se...</td>\n",
       "      <td>Storebrand, a leading Norwegian financial serv...</td>\n",
       "    </tr>\n",
       "    <tr>\n",
       "      <th>480</th>\n",
       "      <td>1543425929</td>\n",
       "      <td>Just in time for the h...</td>\n",
       "      <td>[time, holidays, u, k, startup, launching, lin...</td>\n",
       "      <td>Just in time for the h...</td>\n",
       "    </tr>\n",
       "    <tr>\n",
       "      <th>481</th>\n",
       "      <td>1543425036</td>\n",
       "      <td>\"We've been forced to lay off more than 70% of...</td>\n",
       "      <td>[forced, lay, 70, %, organization, begin, rest...</td>\n",
       "      <td>\"We've been forced to lay off more than 70% of...</td>\n",
       "    </tr>\n",
       "    <tr>\n",
       "      <th>482</th>\n",
       "      <td>1543424555</td>\n",
       "      <td>CoinSpeakerTop Korean Enterprises Accelerate t...</td>\n",
       "      <td>[coinspeakertop, korean, enterprises, accelera...</td>\n",
       "      <td>CoinSpeakerTop Korean Enterprises Accelerate t...</td>\n",
       "    </tr>\n",
       "    <tr>\n",
       "      <th>483</th>\n",
       "      <td>1543424446</td>\n",
       "      <td>A 27-year-old American woman has pled guilty t...</td>\n",
       "      <td>[27, year, old, american, woman, pled, guilty,...</td>\n",
       "      <td>A 27-year-old American woman has pled guilty t...</td>\n",
       "    </tr>\n",
       "    <tr>\n",
       "      <th>484</th>\n",
       "      <td>1543424426</td>\n",
       "      <td>While cryptocurrency-related scams are commonp...</td>\n",
       "      <td>[cryptocurrency, related, scams, commonplace, ...</td>\n",
       "      <td>While cryptocurrency-related scams are commonp...</td>\n",
       "    </tr>\n",
       "    <tr>\n",
       "      <th>485</th>\n",
       "      <td>1543423915</td>\n",
       "      <td>CoinSpeakerCoinAdvice Conference 2019CoinAdvic...</td>\n",
       "      <td>[coinspeakercoinadvice, conference, 2019coinad...</td>\n",
       "      <td>CoinSpeakerCoinAdvice Conference 2019CoinAdvic...</td>\n",
       "    </tr>\n",
       "    <tr>\n",
       "      <th>486</th>\n",
       "      <td>1543423828</td>\n",
       "      <td>US District Judge Gonzalo Curiel of the Southe...</td>\n",
       "      <td>[us, district, judge, gonzalo, curiel, souther...</td>\n",
       "      <td>US District Judge Gonzalo Curiel of the Southe...</td>\n",
       "    </tr>\n",
       "    <tr>\n",
       "      <th>487</th>\n",
       "      <td>1543423742</td>\n",
       "      <td>The cryptocurrency markets are experiencing a ...</td>\n",
       "      <td>[cryptocurrency, markets, experiencing, signif...</td>\n",
       "      <td>The cryptocurrency markets are experiencing a ...</td>\n",
       "    </tr>\n",
       "    <tr>\n",
       "      <th>488</th>\n",
       "      <td>1543423230</td>\n",
       "      <td>CoinSpeakerFinance Expo with an Exclusive Touc...</td>\n",
       "      <td>[coinspeakerfinance, expo, exclusive, touchwe,...</td>\n",
       "      <td>CoinSpeakerFinance Expo with an Exclusive Touc...</td>\n",
       "    </tr>\n",
       "    <tr>\n",
       "      <th>489</th>\n",
       "      <td>1543423189</td>\n",
       "      <td>Markets have been undergoing a recovery over t...</td>\n",
       "      <td>[markets, undergoing, recovery, past, two, day...</td>\n",
       "      <td>Markets have been undergoing a recovery over t...</td>\n",
       "    </tr>\n",
       "    <tr>\n",
       "      <th>490</th>\n",
       "      <td>1543422662</td>\n",
       "      <td>CoinSpeakerCyBet  The Worlds First Decentraliz...</td>\n",
       "      <td>[coinspeakercybet, worlds, first, decentralize...</td>\n",
       "      <td>CoinSpeakerCyBet  The Worlds First Decentraliz...</td>\n",
       "    </tr>\n",
       "    <tr>\n",
       "      <th>491</th>\n",
       "      <td>1543422603</td>\n",
       "      <td>After falling below the $4,000 mark for the fi...</td>\n",
       "      <td>[falling, $, 4, 000, mark, first, time, since,...</td>\n",
       "      <td>After falling below the $4,000 mark for the fi...</td>\n",
       "    </tr>\n",
       "    <tr>\n",
       "      <th>492</th>\n",
       "      <td>1543422576</td>\n",
       "      <td>Securities exchange operator NASDAQ is looking...</td>\n",
       "      <td>[securities, exchange, operator, nasdaq, looki...</td>\n",
       "      <td>Securities exchange operator NASDAQ is looking...</td>\n",
       "    </tr>\n",
       "    <tr>\n",
       "      <th>493</th>\n",
       "      <td>1543421145</td>\n",
       "      <td>The relentless incursion of cryptocurrency int...</td>\n",
       "      <td>[relentless, incursion, cryptocurrency, popula...</td>\n",
       "      <td>The relentless incursion of cryptocurrency int...</td>\n",
       "    </tr>\n",
       "    <tr>\n",
       "      <th>494</th>\n",
       "      <td>1543421100</td>\n",
       "      <td>Coinbase has launched over-the-counter trading...</td>\n",
       "      <td>[coinbase, launched, counter, trading, prime, ...</td>\n",
       "      <td>Coinbase has launched over-the-counter trading...</td>\n",
       "    </tr>\n",
       "    <tr>\n",
       "      <th>495</th>\n",
       "      <td>1543420943</td>\n",
       "      <td>The new broker-dealer and end-user oriented pr...</td>\n",
       "      <td>[new, broker, dealer, end, user, oriented, pro...</td>\n",
       "      <td>The new broker-dealer and end-user oriented pr...</td>\n",
       "    </tr>\n",
       "    <tr>\n",
       "      <th>496</th>\n",
       "      <td>1543420851</td>\n",
       "      <td>Tapatalk, the mobile forum application with an...</td>\n",
       "      <td>[tapatalk, mobile, forum, application, aggrega...</td>\n",
       "      <td>Tapatalk, the mobile forum application with an...</td>\n",
       "    </tr>\n",
       "    <tr>\n",
       "      <th>497</th>\n",
       "      <td>1543420803</td>\n",
       "      <td>SEC indecision has led companies including sev...</td>\n",
       "      <td>[sec, indecision, led, companies, including, s...</td>\n",
       "      <td>SEC indecision has led companies including sev...</td>\n",
       "    </tr>\n",
       "    <tr>\n",
       "      <th>498</th>\n",
       "      <td>1543420803</td>\n",
       "      <td>The chairman of the U.S. Securities and Exchan...</td>\n",
       "      <td>[chairman, u, securities, exchange, commission...</td>\n",
       "      <td>The chairman of the U.S. Securities and Exchan...</td>\n",
       "    </tr>\n",
       "    <tr>\n",
       "      <th>499</th>\n",
       "      <td>1543420552</td>\n",
       "      <td>KNOMAD, the Global Knowledge Partnership onRea...</td>\n",
       "      <td>[knomad, global, knowledge, partnership, onrea...</td>\n",
       "      <td>KNOMAD, the Global Knowledge Partnership onRea...</td>\n",
       "    </tr>\n",
       "  </tbody>\n",
       "</table>\n",
       "<p>500 rows × 4 columns</p>\n",
       "</div>"
      ],
      "text/plain": [
       "           time                                               body  \\\n",
       "0    1543622368  CoinSpeakerProBit: Professional Digital Curren...   \n",
       "1    1543620634  Today in crypto heard rumors of Satoshi's retu...   \n",
       "2    1543620300  Crashes in the crypto market resulted in spike...   \n",
       "3    1543620202  SEC Chairman Jay Clayton has claimed that bitc...   \n",
       "4    1543618813  There are four different Ethereum working grou...   \n",
       "5    1543617903  On Nov. 29, Sirin Labs announced the commercia...   \n",
       "6    1543616700  Switzerlands oldest university, the University...   \n",
       "7    1543616305  The newer HBUS cryptocurrency exchange has tak...   \n",
       "8    1543616240                          Having met the U.S. Se...   \n",
       "9    1543615852  The latest Ethereum 1x meeting, which was cond...   \n",
       "10   1543615242  Chinese cryptocurrency mining hardware manufac...   \n",
       "11   1543615229  Blockchain phones are all therage right now. T...   \n",
       "12   1543614900  Check Point Research cybersecurity firm has fo...   \n",
       "13   1543613835  Belarus is following a model set forth by Malt...   \n",
       "14   1543612078  Casual gamers unite! Or just stay where you ar...   \n",
       "15   1543611643  A new report from CoinShares into Bitcoin mini...   \n",
       "16   1543611641  One of the co-founders of the second largest p...   \n",
       "17   1543611625  The co-founder of Ethereum, Vitalik Buterin, h...   \n",
       "18   1543611600  During 2017 and early 2018, there were many co...   \n",
       "19   1543610632  Bitcoin has failed in its attempt to be a curr...   \n",
       "20   1543610155  Since the recent Bitcoin Cash (BCH) upgrade, t...   \n",
       "21   1543609200  Taiwanese tech giant ASUS to allow its graphic...   \n",
       "22   1543608273  The new game fund, TRON Arcade, will provide a...   \n",
       "23   1543608037  Boxing champion Floyd Mayweather Jr. and music...   \n",
       "24   1543608028  Bitcoin&#8217;s terrible price performance for...   \n",
       "25   1543607738  The CEO of blockchain startup AriseBank, Jared...   \n",
       "26   1543607728  Bitcoin is not far from a critical loss of inv...   \n",
       "27   1543607700  Fed up with having to trawl through several pa...   \n",
       "28   1543606977  Legal drama between partners spoiled a unique ...   \n",
       "29   1543606800  The U.S. SEC has published a memorandum from t...   \n",
       "..          ...                                                ...   \n",
       "470  1543429810  For the first time ever, the U.S. Treasury Dep...   \n",
       "471  1543428900  Prolific hedge fund manager Mike Novogratz, li...   \n",
       "472  1543428675  Blockchain can disrupt the traditional banking...   \n",
       "473  1543428600  The U.S. Department of Treasury has sanctioned...   \n",
       "474  1543428050  CoinSpeakerBitstamp Goes Through Tech Upgrade ...   \n",
       "475  1543428008  Germany has just got its second Bitcoin ATM in...   \n",
       "476  1543427757  Sapphire Technology, one of the largest suppli...   \n",
       "477  1543427705  This is a&#160;paid-for submitted press releas...   \n",
       "478  1543426982  This is a submitted sponsored story.&#160;CCN ...   \n",
       "479  1543426831  Storebrand, a leading Norwegian financial serv...   \n",
       "480  1543425929                          Just in time for the h...   \n",
       "481  1543425036  \"We've been forced to lay off more than 70% of...   \n",
       "482  1543424555  CoinSpeakerTop Korean Enterprises Accelerate t...   \n",
       "483  1543424446  A 27-year-old American woman has pled guilty t...   \n",
       "484  1543424426  While cryptocurrency-related scams are commonp...   \n",
       "485  1543423915  CoinSpeakerCoinAdvice Conference 2019CoinAdvic...   \n",
       "486  1543423828  US District Judge Gonzalo Curiel of the Southe...   \n",
       "487  1543423742  The cryptocurrency markets are experiencing a ...   \n",
       "488  1543423230  CoinSpeakerFinance Expo with an Exclusive Touc...   \n",
       "489  1543423189  Markets have been undergoing a recovery over t...   \n",
       "490  1543422662  CoinSpeakerCyBet  The Worlds First Decentraliz...   \n",
       "491  1543422603  After falling below the $4,000 mark for the fi...   \n",
       "492  1543422576  Securities exchange operator NASDAQ is looking...   \n",
       "493  1543421145  The relentless incursion of cryptocurrency int...   \n",
       "494  1543421100  Coinbase has launched over-the-counter trading...   \n",
       "495  1543420943  The new broker-dealer and end-user oriented pr...   \n",
       "496  1543420851  Tapatalk, the mobile forum application with an...   \n",
       "497  1543420803  SEC indecision has led companies including sev...   \n",
       "498  1543420803  The chairman of the U.S. Securities and Exchan...   \n",
       "499  1543420552  KNOMAD, the Global Knowledge Partnership onRea...   \n",
       "\n",
       "                                      stopword_reviews  \\\n",
       "0    [coinspeakerprobit, professional, digital, cur...   \n",
       "1    [today, crypto, heard, rumors, satoshi, return...   \n",
       "2    [crashes, crypto, market, resulted, spikes, ma...   \n",
       "3    [sec, chairman, jay, clayton, claimed, bitcoin...   \n",
       "4    [four, different, ethereum, working, groups, l...   \n",
       "5    [nov, 29, sirin, labs, announced, commercial, ...   \n",
       "6    [switzerlands, oldest, university, university,...   \n",
       "7    [newer, hbus, cryptocurrency, exchange, taken,...   \n",
       "8    [met, u, securities, exchange, commission, sec...   \n",
       "9    [latest, ethereum, 1x, meeting, conducted, cha...   \n",
       "10   [chinese, cryptocurrency, mining, hardware, ma...   \n",
       "11   [blockchain, phones, therage, right, mobile, d...   \n",
       "12   [check, point, research, cybersecurity, firm, ...   \n",
       "13   [belarus, following, model, set, forth, malta,...   \n",
       "14          [casual, gamers, unite, stay, thats, okay]   \n",
       "15   [new, report, coinshares, bitcoin, mining, sug...   \n",
       "16   [one, co, founders, second, largest, public, b...   \n",
       "17   [co, founder, ethereum, vitalik, buterin, awar...   \n",
       "18   [2017, early, 2018, many, companies, expressed...   \n",
       "19   [bitcoin, failed, attempt, currency, stands, c...   \n",
       "20   [since, recent, bitcoin, cash, bch, upgrade, p...   \n",
       "21   [taiwanese, tech, giant, asus, allow, graphics...   \n",
       "22   [new, game, fund, tron, arcade, provide, found...   \n",
       "23   [boxing, champion, floyd, mayweather, jr, musi...   \n",
       "24   [bitcoin, &, 8217, ;, terrible, price, perform...   \n",
       "25   [ceo, blockchain, startup, arisebank, jared, r...   \n",
       "26   [bitcoin, far, critical, loss, investor, confi...   \n",
       "27   [fed, trawl, several, pages, exchanges, find, ...   \n",
       "28   [legal, drama, partners, spoiled, unique, take...   \n",
       "29   [u, sec, published, memorandum, latest, meetin...   \n",
       "..                                                 ...   \n",
       "470  [first, time, ever, u, treasury, department, a...   \n",
       "471  [prolific, hedge, fund, manager, mike, novogra...   \n",
       "472  [blockchain, disrupt, traditional, banking, in...   \n",
       "473  [u, department, treasury, sanctioned, two, ira...   \n",
       "474  [coinspeakerbitstamp, goes, tech, upgrade, det...   \n",
       "475  [germany, got, second, bitcoin, atm, frankfurt...   \n",
       "476  [sapphire, technology, one, largest, suppliers...   \n",
       "477  [&, 160, ;, paid, submitted, press, release, c...   \n",
       "478  [submitted, sponsored, story, &, 160, ;, ccn, ...   \n",
       "479  [storebrand, leading, norwegian, financial, se...   \n",
       "480  [time, holidays, u, k, startup, launching, lin...   \n",
       "481  [forced, lay, 70, %, organization, begin, rest...   \n",
       "482  [coinspeakertop, korean, enterprises, accelera...   \n",
       "483  [27, year, old, american, woman, pled, guilty,...   \n",
       "484  [cryptocurrency, related, scams, commonplace, ...   \n",
       "485  [coinspeakercoinadvice, conference, 2019coinad...   \n",
       "486  [us, district, judge, gonzalo, curiel, souther...   \n",
       "487  [cryptocurrency, markets, experiencing, signif...   \n",
       "488  [coinspeakerfinance, expo, exclusive, touchwe,...   \n",
       "489  [markets, undergoing, recovery, past, two, day...   \n",
       "490  [coinspeakercybet, worlds, first, decentralize...   \n",
       "491  [falling, $, 4, 000, mark, first, time, since,...   \n",
       "492  [securities, exchange, operator, nasdaq, looki...   \n",
       "493  [relentless, incursion, cryptocurrency, popula...   \n",
       "494  [coinbase, launched, counter, trading, prime, ...   \n",
       "495  [new, broker, dealer, end, user, oriented, pro...   \n",
       "496  [tapatalk, mobile, forum, application, aggrega...   \n",
       "497  [sec, indecision, led, companies, including, s...   \n",
       "498  [chairman, u, securities, exchange, commission...   \n",
       "499  [knomad, global, knowledge, partnership, onrea...   \n",
       "\n",
       "                                           body_as_str  \n",
       "0    CoinSpeakerProBit: Professional Digital Curren...  \n",
       "1    Today in crypto heard rumors of Satoshi's retu...  \n",
       "2    Crashes in the crypto market resulted in spike...  \n",
       "3    SEC Chairman Jay Clayton has claimed that bitc...  \n",
       "4    There are four different Ethereum working grou...  \n",
       "5    On Nov. 29, Sirin Labs announced the commercia...  \n",
       "6    Switzerlands oldest university, the University...  \n",
       "7    The newer HBUS cryptocurrency exchange has tak...  \n",
       "8                            Having met the U.S. Se...  \n",
       "9    The latest Ethereum 1x meeting, which was cond...  \n",
       "10   Chinese cryptocurrency mining hardware manufac...  \n",
       "11   Blockchain phones are all therage right now. T...  \n",
       "12   Check Point Research cybersecurity firm has fo...  \n",
       "13   Belarus is following a model set forth by Malt...  \n",
       "14   Casual gamers unite! Or just stay where you ar...  \n",
       "15   A new report from CoinShares into Bitcoin mini...  \n",
       "16   One of the co-founders of the second largest p...  \n",
       "17   The co-founder of Ethereum, Vitalik Buterin, h...  \n",
       "18   During 2017 and early 2018, there were many co...  \n",
       "19   Bitcoin has failed in its attempt to be a curr...  \n",
       "20   Since the recent Bitcoin Cash (BCH) upgrade, t...  \n",
       "21   Taiwanese tech giant ASUS to allow its graphic...  \n",
       "22   The new game fund, TRON Arcade, will provide a...  \n",
       "23   Boxing champion Floyd Mayweather Jr. and music...  \n",
       "24   Bitcoin&#8217;s terrible price performance for...  \n",
       "25   The CEO of blockchain startup AriseBank, Jared...  \n",
       "26   Bitcoin is not far from a critical loss of inv...  \n",
       "27   Fed up with having to trawl through several pa...  \n",
       "28   Legal drama between partners spoiled a unique ...  \n",
       "29   The U.S. SEC has published a memorandum from t...  \n",
       "..                                                 ...  \n",
       "470  For the first time ever, the U.S. Treasury Dep...  \n",
       "471  Prolific hedge fund manager Mike Novogratz, li...  \n",
       "472  Blockchain can disrupt the traditional banking...  \n",
       "473  The U.S. Department of Treasury has sanctioned...  \n",
       "474  CoinSpeakerBitstamp Goes Through Tech Upgrade ...  \n",
       "475  Germany has just got its second Bitcoin ATM in...  \n",
       "476  Sapphire Technology, one of the largest suppli...  \n",
       "477  This is a&#160;paid-for submitted press releas...  \n",
       "478  This is a submitted sponsored story.&#160;CCN ...  \n",
       "479  Storebrand, a leading Norwegian financial serv...  \n",
       "480                          Just in time for the h...  \n",
       "481  \"We've been forced to lay off more than 70% of...  \n",
       "482  CoinSpeakerTop Korean Enterprises Accelerate t...  \n",
       "483  A 27-year-old American woman has pled guilty t...  \n",
       "484  While cryptocurrency-related scams are commonp...  \n",
       "485  CoinSpeakerCoinAdvice Conference 2019CoinAdvic...  \n",
       "486  US District Judge Gonzalo Curiel of the Southe...  \n",
       "487  The cryptocurrency markets are experiencing a ...  \n",
       "488  CoinSpeakerFinance Expo with an Exclusive Touc...  \n",
       "489  Markets have been undergoing a recovery over t...  \n",
       "490  CoinSpeakerCyBet  The Worlds First Decentraliz...  \n",
       "491  After falling below the $4,000 mark for the fi...  \n",
       "492  Securities exchange operator NASDAQ is looking...  \n",
       "493  The relentless incursion of cryptocurrency int...  \n",
       "494  Coinbase has launched over-the-counter trading...  \n",
       "495  The new broker-dealer and end-user oriented pr...  \n",
       "496  Tapatalk, the mobile forum application with an...  \n",
       "497  SEC indecision has led companies including sev...  \n",
       "498  The chairman of the U.S. Securities and Exchan...  \n",
       "499  KNOMAD, the Global Knowledge Partnership onRea...  \n",
       "\n",
       "[500 rows x 4 columns]"
      ]
     },
     "execution_count": 71,
     "metadata": {},
     "output_type": "execute_result"
    }
   ],
   "source": [
    "df"
   ]
  },
  {
   "cell_type": "markdown",
   "metadata": {
    "colab_type": "text",
    "id": "TVUGs90nEtce"
   },
   "source": [
    "# Some visualization about what we've done"
   ]
  },
  {
   "cell_type": "code",
   "execution_count": 63,
   "metadata": {
    "colab": {},
    "colab_type": "code",
    "id": "GVWrijfzTHyq"
   },
   "outputs": [],
   "source": [
    "def plot_frequent_words(list_of_words):    \n",
    "    dist = nltk.FreqDist(list_of_words)\n",
    "    X = [nb[1] for nb in dist.most_common(20)]\n",
    "    y = [nb[0] for nb in dist.most_common(20)]\n",
    "    ax = sns.barplot(X,y)\n",
    "    ax.set(xlabel='Word frequencies',ylabel='Words',title='Most common words in the corpus')\n",
    "    plt.show()"
   ]
  },
  {
   "cell_type": "code",
   "execution_count": 64,
   "metadata": {
    "colab": {
     "base_uri": "https://localhost:8080/",
     "height": 393
    },
    "colab_type": "code",
    "id": "XYH8EWTg0bIr",
    "outputId": "e2ed0a87-2dc4-4221-f478-4b648691cfa6"
   },
   "outputs": [
    {
     "data": {
      "image/png": "[encoded data removed]",
      "text/plain": [
       "<Figure size 432x288 with 1 Axes>"
      ]
     },
     "metadata": {
      "needs_background": "light"
     },
     "output_type": "display_data"
    },
    {
     "name": "stdout",
     "output_type": "stream",
     "text": [
      "29780\n"
     ]
    }
   ],
   "source": [
    "# Making a first plot with original data\n",
    "all_words = []\n",
    "for review in all_reviews:\n",
    "    for word in review.split():\n",
    "        all_words.append(word)\n",
    "\n",
    "plot_frequent_words(all_words)\n",
    "print(len(all_words))"
   ]
  },
  {
   "cell_type": "code",
   "execution_count": 68,
   "metadata": {
    "colab": {
     "base_uri": "https://localhost:8080/",
     "height": 393
    },
    "colab_type": "code",
    "id": "E2iUMPlP0Jub",
    "outputId": "c97e79d8-53c9-4bf8-ad33-c3c79cee5ddd"
   },
   "outputs": [
    {
     "data": {
      "image/png": "[encoded data removed]",
      "text/plain": [
       "<Figure size 432x288 with 1 Axes>"
      ]
     },
     "metadata": {
      "needs_background": "light"
     },
     "output_type": "display_data"
    },
    {
     "name": "stdout",
     "output_type": "stream",
     "text": [
      "22020\n"
     ]
    }
   ],
   "source": [
    "# And making it with our current data\n",
    "all_words = []\n",
    "for review in df['stopword_reviews']:\n",
    "    for word in review:\n",
    "        all_words.append(word)\n",
    "\n",
    "plot_frequent_words(all_words)\n",
    "print(len(all_words))\n",
    "\n"
   ]
  },
  {
   "cell_type": "markdown",
   "metadata": {
    "colab_type": "text",
    "id": "wE5UXQn8jTp1"
   },
   "source": [
    "...Much better ! Isn't it ?"
   ]
  },
  {
   "cell_type": "markdown",
   "metadata": {},
   "source": [
    "# TO DO : Now you can apply all of these methods to your own DataFrame\n",
    "\n",
    "\n",
    "**The purpose is to create a second column with reviews content but processed and tokenized**"
   ]
  },
  {
   "cell_type": "code",
   "execution_count": 66,
   "metadata": {
    "scrolled": false
   },
   "outputs": [
    {
     "ename": "NameError",
     "evalue": "name 'stopword_reviews' is not defined",
     "output_type": "error",
     "traceback": [
      "\u001b[0;31m---------------------------------------------------------------------------\u001b[0m",
      "\u001b[0;31mNameError\u001b[0m                                 Traceback (most recent call last)",
      "\u001b[0;32m<ipython-input-66-e59374dd02a4>\u001b[0m in \u001b[0;36m<module>\u001b[0;34m\u001b[0m\n\u001b[0;32m----> 1\u001b[0;31m \u001b[0mstopword_reviews\u001b[0m\u001b[0;34m\u001b[0m\u001b[0;34m\u001b[0m\u001b[0m\n\u001b[0m",
      "\u001b[0;31mNameError\u001b[0m: name 'stopword_reviews' is not defined"
     ]
    }
   ],
   "source": [
    "stopword_reviews"
   ]
  },
  {
   "cell_type": "markdown",
   "metadata": {},
   "source": [
    "### writing a new file with the cleaned data"
   ]
  },
  {
   "cell_type": "code",
   "execution_count": 72,
   "metadata": {},
   "outputs": [],
   "source": [
    "df.to_csv (r'cryptodata_test_preprocessed.csv', index=False)"
   ]
  }
 ],
 "metadata": {
  "colab": {
   "collapsed_sections": [],
   "name": "X_HEC_Session_3_Notebook_1_clean_data.ipynb",
   "provenance": [],
   "version": "0.3.2"
  },
  "kernelspec": {
   "display_name": "Python 3",
   "language": "python",
   "name": "python3"
  },
  "language_info": {
   "codemirror_mode": {
    "name": "ipython",
    "version": 3
   },
   "file_extension": ".py",
   "mimetype": "text/x-python",
   "name": "python",
   "nbconvert_exporter": "python",
   "pygments_lexer": "ipython3",
   "version": "3.6.7"
  }
 },
 "nbformat": 4,
 "nbformat_minor": 1
}
